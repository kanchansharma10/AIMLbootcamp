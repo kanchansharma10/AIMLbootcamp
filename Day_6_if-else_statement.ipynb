{
 "cells": [
  {
   "cell_type": "markdown",
   "id": "8c4bc666-34a1-47b6-8018-1ad79dafae95",
   "metadata": {},
   "source": [
    "<div style=\"background-color: pink; padding: 10px; height: 70px; border-radius: 15px;\">\n",
    "    <div style=\"font-family: 'Georgia', serif; font-size: 20px; padding: 10px; text-align: right; position: absolute; right: 20px;\">\n",
    "        Kanchan Sharma <br>\n",
    "        <span style=\"font-family: 'Arial', sans-serif;font-size: 12px; color: #0a0a0a;\">Tech Skills Trainee | AI/ML Bootcamp</span> <!--- Devashish Kumar | CodroidHub Private Limited | AI/ML Consultant --->\n",
    "    </div>\n",
    "</div>"
   ]
  },
  {
   "cell_type": "markdown",
   "id": "ef444d2e-97e9-49a8-bf3d-0119a2dfebb5",
   "metadata": {},
   "source": [
    "<!--- Devashish Kumar | Tech Skills Trainer | CodroidHub Private Limited | AI/ML Consultant --->"
   ]
  },
  {
   "cell_type": "markdown",
   "id": "151ad3d8-0bce-4e29-86da-5ea91b5a69df",
   "metadata": {},
   "source": [
    "<div style=\"background-color: #baf733; padding: 10px; text-align: center; color: black; font-size: 32px; font-family: 'Arial', sans-serif;\">\n",
    "    If-Else in Python<br>\n",
    "    <h3 style=\"text-align: center; color: black; font-size: 15px; font-family: 'Arial', sans-serif;\">Introduction</h3>\n",
    "</div>"
   ]
  },
  {
   "cell_type": "markdown",
   "id": "90aef031-1416-4707-b2a0-fc60ca4ee7ca",
   "metadata": {},
   "source": [
    "In Python, if-else statements are used to execute certain blocks of code based on whether a condition is true or false. They are fundamental for making decisions in your program."
   ]
  },
  {
   "cell_type": "markdown",
   "id": "55929b1a-97a4-4034-a1b1-2035c8c85607",
   "metadata": {},
   "source": [
    "# if condition:\n"
   ]
  },
  {
   "cell_type": "markdown",
   "id": "71fc76af-8512-455f-ae44-c4c5ea864d51",
   "metadata": {},
   "source": [
    "block of code to execute if condition is true"
   ]
  },
  {
   "cell_type": "markdown",
   "id": "853e7034-0f7f-48bb-9087-0be1fe77a306",
   "metadata": {},
   "source": [
    "# else condition:"
   ]
  },
  {
   "cell_type": "markdown",
   "id": "20c50483-411e-4789-bcad-4ad5459450a9",
   "metadata": {},
   "source": [
    " block of code to execute if condition is false\n"
   ]
  },
  {
   "cell_type": "markdown",
   "id": "ce056568-e7de-48b6-80f4-638017fdb02c",
   "metadata": {},
   "source": [
    "# condition: This is an expression that evaluates to either True or False.\n",
    ". The block of code under if will execute if the condition is True.\n",
    ". If the condition is False, the code under else will execute."
   ]
  },
  {
   "cell_type": "code",
   "execution_count": 3,
   "id": "46fef68f-0704-4ede-8f45-31c1d71da691",
   "metadata": {},
   "outputs": [
    {
     "name": "stdout",
     "output_type": "stream",
     "text": [
      "You are an adult.\n"
     ]
    }
   ],
   "source": [
    "age = 18\n",
    "\n",
    "if age >= 18:\n",
    "    print(\"You are an adult.\")\n",
    "else:\n",
    "    print(\"You are a minor.\")\n"
   ]
  },
  {
   "cell_type": "markdown",
   "id": "9195684c-88a1-4179-a339-e5c4f0f2ff9e",
   "metadata": {},
   "source": [
    "# Using elif:"
   ]
  },
  {
   "cell_type": "markdown",
   "id": "48c6ce8c-ab26-49b0-8ab7-38127b93f31b",
   "metadata": {},
   "source": [
    "Sometimes, you may want to check for multiple conditions. You can use elif (else if) for additional conditions."
   ]
  },
  {
   "cell_type": "code",
   "execution_count": 4,
   "id": "0d99c9b7-e312-4124-a5e1-ecdc802dcb04",
   "metadata": {},
   "outputs": [
    {
     "name": "stdout",
     "output_type": "stream",
     "text": [
      "You are a teenager.\n"
     ]
    }
   ],
   "source": [
    "age = 16\n",
    "\n",
    "if age >= 18:\n",
    "    print(\"You are an adult.\")\n",
    "elif age >= 13:\n",
    "    print(\"You are a teenager.\")\n",
    "else:\n",
    "    print(\"You are a child.\")\n"
   ]
  },
  {
   "cell_type": "markdown",
   "id": "f1e48cad-4048-469b-a102-c90d9f05add9",
   "metadata": {},
   "source": [
    "# Explanation:\n",
    "\n",
    "1. First, the program checks if the person is an adult (age >= 18).\n",
    "2. If not, it checks if the person is a teenager (age >= 13).\n",
    "3. If neither condition is true, it defaults to printing \"You are a child.\""
   ]
  },
  {
   "cell_type": "markdown",
   "id": "01a4d339-41a5-4a3b-ac5b-5823b7959157",
   "metadata": {},
   "source": [
    "# Indentation\n",
    "Python relies on indentation (whitespace at the beginning of a line) to define scope in the code. Other programming languages often use curly-brackets for this purpose."
   ]
  },
  {
   "cell_type": "code",
   "execution_count": 5,
   "id": "657e66b3-3441-4532-85b4-bd56bd10f27a",
   "metadata": {},
   "outputs": [
    {
     "ename": "IndentationError",
     "evalue": "expected an indented block after 'if' statement on line 5 (3363441716.py, line 6)",
     "output_type": "error",
     "traceback": [
      "\u001b[1;36m  Cell \u001b[1;32mIn[5], line 6\u001b[1;36m\u001b[0m\n\u001b[1;33m    print(\"b is greater than a\") # you will get an error\u001b[0m\n\u001b[1;37m    ^\u001b[0m\n\u001b[1;31mIndentationError\u001b[0m\u001b[1;31m:\u001b[0m expected an indented block after 'if' statement on line 5\n"
     ]
    }
   ],
   "source": [
    "#If statement, without indentation (will raise an error):\n",
    "\n",
    "a = 33\n",
    "b = 200\n",
    "if b > a:\n",
    "print(\"b is greater than a\") # you will get an error\n"
   ]
  },
  {
   "cell_type": "markdown",
   "id": "f12ca277-b794-401f-89c6-420c953fbb7e",
   "metadata": {},
   "source": [
    "# Short Hand If\n",
    "If you have only one statement to execute, you can put it on the same line as the if statement."
   ]
  },
  {
   "cell_type": "code",
   "execution_count": 20,
   "id": "8ddd9938-2547-4c67-99ca-dba54032b633",
   "metadata": {},
   "outputs": [
    {
     "name": "stdout",
     "output_type": "stream",
     "text": [
      "a is greater than b\n"
     ]
    }
   ],
   "source": [
    "#One line if statement:\n",
    "num1 = 200\n",
    "num2 = 33\n",
    "if num1 > num2: print(\"a is greater than b\")"
   ]
  },
  {
   "cell_type": "markdown",
   "id": "cad8a2c3-b0bf-4866-8b44-7e613f7a05c3",
   "metadata": {},
   "source": [
    "# Short Hand If-Else\n",
    "If you have only one statement to execute, one for if, and one for else, you can put it all on the same line:"
   ]
  },
  {
   "cell_type": "code",
   "execution_count": 18,
   "id": "7f1e2ce0-b422-4592-b8dc-316ba8ceff4f",
   "metadata": {},
   "outputs": [
    {
     "name": "stdout",
     "output_type": "stream",
     "text": [
      "B\n"
     ]
    }
   ],
   "source": [
    "num1 = 2\n",
    "num2 = 330\n",
    "print(\"A\") if num1 > num2 else print(\"B\")"
   ]
  },
  {
   "cell_type": "markdown",
   "id": "11b2a0af-c8b0-458e-9169-3acd1559d2dc",
   "metadata": {},
   "source": [
    "# And\n",
    "The and keyword is a logical operator, and is used to combine conditional statements:"
   ]
  },
  {
   "cell_type": "code",
   "execution_count": 17,
   "id": "339c5879-644b-47f5-9467-00b675fcf26c",
   "metadata": {},
   "outputs": [
    {
     "name": "stdout",
     "output_type": "stream",
     "text": [
      "Both conditions are True\n"
     ]
    }
   ],
   "source": [
    "# Test if a is greater than b, AND if c is greater than a:\n",
    "\n",
    "num1 = 200\n",
    "num2 = 33\n",
    "num3 = 500\n",
    "if num1 > num2 and num3 > num1:\n",
    "  print(\"Both conditions are True\")"
   ]
  },
  {
   "cell_type": "markdown",
   "id": "fa6ad7bd-41a4-423b-87ab-e5370f624040",
   "metadata": {},
   "source": [
    "\n",
    "# Or\n",
    "The or keyword is a logical operator, and is used to combine conditional statements:"
   ]
  },
  {
   "cell_type": "code",
   "execution_count": 10,
   "id": "ccdeb3fb-c689-4f31-8a0b-99d147be8547",
   "metadata": {},
   "outputs": [
    {
     "name": "stdout",
     "output_type": "stream",
     "text": [
      "At least one of the conditions is True\n"
     ]
    }
   ],
   "source": [
    "#Test if a is greater than b, OR if a is greater than c:\n",
    "a = 200\n",
    "b = 33\n",
    "c = 500\n",
    "if a > b or a > c:\n",
    "  print(\"At least one of the conditions is True\")"
   ]
  },
  {
   "cell_type": "markdown",
   "id": "bdce01f2-6ecd-4110-a469-55a44b9733b0",
   "metadata": {},
   "source": [
    "# Not\n",
    "The not keyword is a logical operator, and is used to reverse the result of the conditional statement:"
   ]
  },
  {
   "cell_type": "code",
   "execution_count": 14,
   "id": "60105594-262a-4b40-8545-034d8ecc0a78",
   "metadata": {},
   "outputs": [
    {
     "name": "stdout",
     "output_type": "stream",
     "text": [
      "a is NOT greater than b\n"
     ]
    }
   ],
   "source": [
    "# Test if a is NOT greater than b:\n",
    "num1 = 33\n",
    "num2 = 200\n",
    "if not num1 > num2:\n",
    "  print(\"a is NOT greater than b\")\n"
   ]
  },
  {
   "cell_type": "markdown",
   "id": "d13cb8a5-4cef-4109-8a1c-04e413f2656c",
   "metadata": {},
   "source": [
    "# Nested If\n",
    "You can have if statements inside if statements, this is called nested if statements."
   ]
  },
  {
   "cell_type": "code",
   "execution_count": 15,
   "id": "9e08910b-a53d-4cb7-b727-4576ec233188",
   "metadata": {},
   "outputs": [
    {
     "name": "stdout",
     "output_type": "stream",
     "text": [
      "Above ten,\n",
      "and also above 20!\n"
     ]
    }
   ],
   "source": [
    "num = 41\n",
    "\n",
    "if num > 10:\n",
    "  print(\"Above ten,\")\n",
    "  if num > 20:\n",
    "    print(\"and also above 20!\")\n",
    "  else:\n",
    "    print(\"but not above 20.\")"
   ]
  },
  {
   "cell_type": "markdown",
   "id": "e33b9dfa-2adc-43a6-8a59-d39471a062c0",
   "metadata": {},
   "source": [
    "# The pass Statement\n",
    "if statements cannot be empty, but if you for some reason have an if statement with no content, put in the pass statement to avoid getting an error."
   ]
  },
  {
   "cell_type": "code",
   "execution_count": 16,
   "id": "7948790b-c145-4503-8db0-88ea349dcfca",
   "metadata": {},
   "outputs": [],
   "source": [
    "num1 = 33\n",
    "num2 = 200\n",
    "\n",
    "if b > a:\n",
    "  pass\n"
   ]
  },
  {
   "cell_type": "code",
   "execution_count": null,
   "id": "dd0a3bcd-c89b-4915-b722-d87e806ed49d",
   "metadata": {},
   "outputs": [],
   "source": []
  },
  {
   "cell_type": "markdown",
   "id": "b69ed7ea-1940-434d-bb2d-601d07994783",
   "metadata": {},
   "source": [
    "<div style=\"background-color: lightblue; color: white; padding: 10px; text-align: center;\">\n",
    "    <h1>_________________________________END________________________________\n",
    "<!--- Devashish Kumar | Tech Skills Trainer | CodroidHub Private Limited | AI/ML Consultant --->\n",
    "    </h1> </div>"
   ]
  },
  {
   "cell_type": "markdown",
   "id": "13e86481-eae2-4019-9515-66a43a30f0fb",
   "metadata": {},
   "source": [
    "<div style=\"background-color: #002147; color: #fff; padding: 30px; text-align: center;\">\n",
    "    <h1>THANK YOU!\n",
    "        <!--- Devashish Kumar | Tech Skills Trainer | CodroidHub Private Limited | AI/ML Consultant --->\n",
    "</h1> </div>"
   ]
  },
  {
   "cell_type": "markdown",
   "id": "15cc27b3-58d0-431e-8121-f1b4c08377c7",
   "metadata": {},
   "source": [
    "<!--- Devashish Kumar | Tech Skills Trainer | CodroidHub Private Limited | AI/ML Consultant --->"
   ]
  },
  {
   "cell_type": "code",
   "execution_count": null,
   "id": "4b3db7c3-7371-43cb-8555-fe00d1e392e4",
   "metadata": {},
   "outputs": [],
   "source": []
  }
 ],
 "metadata": {
  "kernelspec": {
   "display_name": "Python 3 (ipykernel)",
   "language": "python",
   "name": "python3"
  },
  "language_info": {
   "codemirror_mode": {
    "name": "ipython",
    "version": 3
   },
   "file_extension": ".py",
   "mimetype": "text/x-python",
   "name": "python",
   "nbconvert_exporter": "python",
   "pygments_lexer": "ipython3",
   "version": "3.12.4"
  }
 },
 "nbformat": 4,
 "nbformat_minor": 5
}

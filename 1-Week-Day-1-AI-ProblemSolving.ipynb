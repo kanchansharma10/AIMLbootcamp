{
 "cells": [
  {
   "cell_type": "markdown",
   "id": "29f220b5-1960-47dc-905a-b52a3b7c1a03",
   "metadata": {},
   "source": [
    "<div style=\"background-color: #add8e6; padding: 10px; height: 70px; border-radius: 15px;\">\n",
    "    <div style=\"font-family: 'Georgia', serif; font-size: 20px; padding: 10px; text-align: right; position: absolute; right: 20px;\">\n",
    "        Kanchan Sharma <br>\n",
    "        <span style=\"font-family: 'Arial', sans-serif;font-size: 12px; color: #0a0a0a;\">Tech Skills Trainee | AI/ML Bootcamp</span> \n",
    "    </div>\n",
    "</div>"
   ]
  },
  {
   "cell_type": "markdown",
   "id": "029d69c1-b274-4554-9b35-8cb052e2d71e",
   "metadata": {},
   "source": [
    "<div style=\"background-color: #002147; padding: 10px; text-align: center; color: white; font-size: 32px; font-family: 'Arial', sans-serif;\">\n",
    "AI-ProblemSolving  <br>\n",
    "    <h3 style=\"text-align: center; color: white; font-size: 15px; font-family: 'Arial', sans-serif;\"></h3>\n",
    "</div>"
   ]
  },
  {
   "cell_type": "markdown",
   "id": "3963d244-98a3-4cc6-8c6c-3eb150550f02",
   "metadata": {},
   "source": [
    "<div style=\"background-color: purple; padding: 10px; text-align: center; color: white; font-size: 32px; font-family: 'Arial', sans-serif;\">\n",
    "Real life Scenario  <br>\n",
    "    <h3 style=\"text-align: center; color: white; font-size: 15px; font-family: 'Arial', sans-serif;\"></h3>\n",
    "</div>"
   ]
  },
  {
   "cell_type": "markdown",
   "id": "5272dded-8dc0-427c-b5cf-38e3b6086a4c",
   "metadata": {},
   "source": [
    "\n",
    "### Manufacturing Defect in a Product Line\n",
    "\n",
    "#### **Scenario:**\n",
    "A toy manufacturing company has recently shipped a batch of toys to retailers. Shortly after the toys hit the shelves, parents begin reporting that a small part of the toy is breaking easily, posing a safety risk. The company needs to address the problem quickly, both to prevent further damage to its reputation and to ensure the safety of the children using the product.\n",
    "\n",
    "---\n",
    "\n",
    "### **Problem-Solving Using the 4W Framework:**\n",
    "\n",
    "---\n",
    "\n",
    "### **1. What:**\n",
    "\n",
    "- **Problem**: A defect has been found in a batch of toys, where a small plastic part is breaking off easily and could pose a choking hazard to children.\n",
    "  \n",
    "- **Impact**: This affects the safety of the product and could lead to product recalls, customer complaints, and negative publicity, damaging the brand’s reputation.\n",
    "\n",
    "---\n",
    "\n",
    "### **2. Why:**\n",
    "\n",
    "- **Cause**: The defect appears to be due to a flaw in the molding process of the plastic part. The supplier responsible for producing the plastic material used in the toys delivered a batch that was substandard in quality.\n",
    "\n",
    "- **Root Cause**: The **quality control** team failed to identify the defective plastic part during the initial production run, and the issue wasn’t caught before shipping the toys to retailers.\n",
    "\n",
    "---\n",
    "\n",
    "### **3. When:**\n",
    "\n",
    "- **Timing**: The problem needs to be addressed immediately, as the toy is already on store shelves, and customer complaints are starting to come in. If the company waits too long, the issue could escalate, and retailers may refuse to carry the product again. It’s also a matter of **safety**, so a fast resolution is necessary to prevent potential injuries.\n",
    "\n",
    "- **Urgency**: The issue must be fixed quickly to minimize harm and prevent legal consequences related to safety. Additionally, the company wants to address the problem before too many toys are sold.\n",
    "\n",
    "---\n",
    "\n",
    "### **4. Who:**\n",
    "\n",
    "- **Who is impacted**:\n",
    "   - **Consumers**: Parents and children using the toys are directly affected by the safety risk.\n",
    "   - **Retailers**: They’re impacted because they may need to pull the product from their shelves and deal with customer complaints.\n",
    "   - **Quality Control Team**: They are responsible for identifying and preventing defects but missed this issue in the production phase.\n",
    "   - **Manufacturing Team**: They are responsible for fixing the production flaw and ensuring that the toys in the supply chain are safe.\n",
    "   - **Legal/PR Team**: They will need to handle communication with consumers, the press, and regulatory bodies.\n",
    "   - **Supply Chain/Logistics Team**: They must halt shipments of the defective batch and manage a recall if needed.\n",
    "\n",
    "---\n",
    "\n",
    "### **Solution:**\n",
    "\n",
    "1. **Immediate Action**:\n",
    "   - The **quality control team** immediately inspects the current batch of toys and confirms the flaw. They identify that a defective plastic part is breaking off due to the plastic's brittleness.\n",
    "   - The **manufacturing team** is instructed to halt production of any toys using that plastic part and to ensure that the next batch uses higher-quality materials from a different supplier.\n",
    "\n",
    "2. **Product Recall**:\n",
    "   - The **legal and PR team** quickly drafts a recall notice. They initiate a **voluntary recall** of the affected toy batch, reaching out to retailers to pull the toys off the shelves immediately.\n",
    "   - The company also provides **instructions** for consumers to return the toys for a full refund or exchange for a different, safe product.\n",
    "   - A **press release** is issued to inform the public and reassure customers that the company is taking immediate action to address the issue. The company commits to stricter quality checks going forward.\n",
    "\n",
    "3. **Customer Communication**:\n",
    "   - The **customer service team** is briefed on the recall and is prepared to handle any inquiries from consumers. They offer replacement toys or refunds to affected customers.\n",
    "   - The **PR team** works to maintain the company’s image by emphasizing the company’s commitment to safety and quality. They also offer free replacements or refunds to consumers who may be concerned.\n",
    "\n",
    "4. **Review and Prevention**:\n",
    "   - After the recall, the **quality control team** conducts an in-depth audit of the production process, focusing on the supplier and manufacturing standards.\n",
    "   - The **procurement team** sources alternative suppliers for the plastic materials and ensures that higher quality is used for future batches.\n",
    "   - **New quality assurance procedures** are introduced, including enhanced checks at various stages of production, such as testing plastic parts for strength before they are molded.\n",
    "\n",
    "5. **Long-Term Fix**:\n",
    "   - The company improves its **supplier relationships** by setting clear quality standards and regularly auditing suppliers.\n",
    "   - The **customer service team** continues to follow up with affected consumers to ensure they received their refunds or replacements and offer discounts on future products as a goodwill gesture.\n",
    "\n",
    "---\n",
    "\n",
    "### **Result:**\n",
    "\n",
    "- The **recall is successfully managed**, and the defective toys are removed from shelves without any serious incidents.\n",
    "- The company’s **response is seen as responsible**, with quick action taken to protect consumers and resolve the problem. While there is some initial negative publicity, the transparency and proactive response help to restore the company’s reputation.\n",
    "- **Consumers are reassured** by the company’s swift action, and many appreciate the refund and replacement options offered.\n",
    "- The **company learns from the mistake**, strengthening its product quality control and supplier relationships to avoid future issues.\n",
    "\n"
   ]
  },
  {
   "cell_type": "markdown",
   "id": "ef4ad930-a894-4acd-a923-ff55ac84c7d4",
   "metadata": {},
   "source": [
    "<div style=\"background-color: PINK; color: #fff; padding: 30px; text-align: center;\">\n",
    "    <h1>END!\n",
    "        <!--- Devashish Kumar | Tech Skills Trainer | CodroidHub Private Limited | AI/ML Consultant --->\n",
    "</h1> </div>"
   ]
  },
  {
   "cell_type": "markdown",
   "id": "1d4998e5-7cac-4429-b69f-5b865b133ebc",
   "metadata": {},
   "source": [
    "<div style=\"background-color: #002147; color: #fff; padding: 30px; text-align: center;\">\n",
    "    <h1>THANK YOU!\n",
    "        <!--- Devashish Kumar | Tech Skills Trainer | CodroidHub Private Limited | AI/ML Consultant --->\n",
    "</h1> </div>"
   ]
  }
 ],
 "metadata": {
  "kernelspec": {
   "display_name": "Python 3 (ipykernel)",
   "language": "python",
   "name": "python3"
  },
  "language_info": {
   "codemirror_mode": {
    "name": "ipython",
    "version": 3
   },
   "file_extension": ".py",
   "mimetype": "text/x-python",
   "name": "python",
   "nbconvert_exporter": "python",
   "pygments_lexer": "ipython3",
   "version": "3.12.4"
  }
 },
 "nbformat": 4,
 "nbformat_minor": 5
}

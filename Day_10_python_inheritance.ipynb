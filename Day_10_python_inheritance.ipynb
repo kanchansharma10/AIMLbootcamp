{
 "cells": [
  {
   "cell_type": "markdown",
   "id": "8c4bc666-34a1-47b6-8018-1ad79dafae95",
   "metadata": {},
   "source": [
    "<div style=\"background-color: #add8e6; padding: 10px; height: 70px; border-radius: 15px;\">\n",
    "    <div style=\"font-family: 'Georgia', serif; font-size: 20px; padding: 10px; text-align: right; position: absolute; right: 20px;\">\n",
    "        Kanchan Sharma <br>\n",
    "        <span style=\"font-family: 'Arial', sans-serif;font-size: 12px; color: #0a0a0a;\">Tech Skills Trainee | AI/ML Bootcamp</span> \n",
    "    </div>\n",
    "</div>"
   ]
  },
  {
   "cell_type": "markdown",
   "id": "ef444d2e-97e9-49a8-bf3d-0119a2dfebb5",
   "metadata": {},
   "source": [
    "<!--- Devashish Kumar | Tech Skills Trainer | CodroidHub Private Limited | AI/ML Consultant --->"
   ]
  },
  {
   "cell_type": "markdown",
   "id": "151ad3d8-0bce-4e29-86da-5ea91b5a69df",
   "metadata": {},
   "source": [
    "<div style=\"background-color: #002147; padding: 10px; text-align: center; color: white; font-size: 32px; font-family: 'Arial', sans-serif;\">\n",
    "Python Inheritance  <br>\n",
    "    <h3 style=\"text-align: center; color: white; font-size: 15px; font-family: 'Arial', sans-serif;\">Introduction</h3>\n",
    "</div>"
   ]
  },
  {
   "cell_type": "markdown",
   "id": "fbbaf312-23fb-475f-91e8-dbd31b88df50",
   "metadata": {},
   "source": [
    "# Introduction to Python Inheritance\n",
    "Inheritance is one of the key concepts in Object-Oriented Programming (OOP), and Python supports inheritance as part of its OOP features. Inheritance allows you to define a class (called a child class or subclass) that inherits the attributes and methods from another class (called a parent class or superclass).\n",
    "\n",
    "This mechanism provides the benefit of code reusability and the ability to create hierarchical relationships between classes"
   ]
  },
  {
   "cell_type": "markdown",
   "id": "7fb8295a-207d-4c7a-8660-1c22896b5fcf",
   "metadata": {},
   "source": [
    "# Basic Syntax of Inheritance\n",
    "In Python, inheritance is achieved by passing the parent class as a parameter to the definition of the child class. Here's the syntax\n",
    "."
   ]
  },
  {
   "cell_type": "code",
   "execution_count": null,
   "id": "80eed866-3483-47a5-8338-df3ca26a91f1",
   "metadata": {},
   "outputs": [],
   "source": [
    "class ParentClass:\r\n",
    "    # Parent class code\r\n",
    "\r\n",
    "class ChildClass(ParentClass):\r\n",
    "    # Child class code\r\n",
    "\n",
    ":"
   ]
  },
  {
   "cell_type": "markdown",
   "id": "d9d4edca-3c7b-45fb-a776-5a00f4c6d852",
   "metadata": {},
   "source": [
    "In this structure:\n",
    "\n",
    "ParentClass is the base class (or parent class).\n",
    "\n",
    "ChildClass is the derived class (or child class) that inherits from ParentClass.\n",
    "\n",
    "# How Inheritance Works\n",
    "When a class inherits from another, the child class can:\n",
    "\n",
    "1. Access the attributes and methods of the parent class.\n",
    "\n",
    "2. Override the methods of the parent class to provide specific implementations.\n",
    "\n",
    "3. Add its own new attributes or methods.\n"
   ]
  },
  {
   "cell_type": "code",
   "execution_count": null,
   "id": "77a0e018-1a04-418e-b3e1-d2283e69630f",
   "metadata": {},
   "outputs": [],
   "source": [
    "# Parent class\r\n",
    "class Animal:\r\n",
    "    def __init__(self, name):\r\n",
    "        self.name = name\r\n",
    "    \r\n",
    "    def speak(self):\r\n",
    "        print(f\"{self.name} makes a sound.\")\r\n",
    "\r\n",
    "# Child class that inherits from Animal\r\n",
    "class Dog(Animal):\r\n",
    "    def __init__(self, name, breed):\r\n",
    "        # Call the parent class constructor\r\n",
    "        super().__init__(name)\r\n",
    "        self.breed = breed\r\n",
    "    \r\n",
    "    # Override the speak method\r\n",
    "    def speak(self):\r\n",
    "        print(f\"{self.name} barks.\")\r\n",
    "\r\n",
    "# Create an instance of the Dog class\r\n",
    "dog = Dog(\"Buddy\", \"Golden Retriever\")\r\n",
    "\r\n",
    "# Access methods and attributes from both the parent and child class\r\n",
    "print(dog.name)  # Inherited from Animal\r\n",
    "print(dog.breed)  # Defined in Dog\r\n",
    "dog.speak()  # Overridden method in Dog\r\n",
    "\n"
   ]
  },
  {
   "cell_type": "markdown",
   "id": "6a08042c-7d97-4fb6-87f3-9e69b190bb2f",
   "metadata": {},
   "source": [
    "# Key Points:\n",
    "1. Inheritance allows the child class (Dog) to inherit the __init__ and speak methods from the parent class (Animal).\n",
    "\n",
    "2. The super() function is used to call the parent class's methods (in this case, __init__), ensuring that the parent class's initialization code runs.\n",
    "\n",
    "3. The speak method is overridden in the child class to provide specific behavior for Dog.\n"
   ]
  },
  {
   "cell_type": "markdown",
   "id": "40e76f36-88d7-49c3-b636-94f2caa77f03",
   "metadata": {},
   "source": [
    "\n",
    "# Types of Inheritance in Python\n",
    "Python supports several types of inheritance, each providing different relationships between the parent and child classes.\n"
   ]
  },
  {
   "cell_type": "markdown",
   "id": "92cb2bee-3429-4bcc-b27b-8b230f518a30",
   "metadata": {},
   "source": [
    "\n",
    " "
   ]
  },
  {
   "cell_type": "markdown",
   "id": "638963dd-0d7b-4c36-8295-0be000cbd650",
   "metadata": {},
   "source": [
    "# 1. Single Inheritance\n",
    "In single inheritance, a subclass inherits from one parent class\n",
    "\r\n"
   ]
  },
  {
   "cell_type": "code",
   "execution_count": null,
   "id": "b1d29cc9-7fe7-4cf6-874d-b616fc344220",
   "metadata": {},
   "outputs": [],
   "source": [
    "# Parent class\r\n",
    "class Animal:\r\n",
    "    def __init__(self, name):\r\n",
    "        self.name = name\r\n",
    "\r\n",
    "    def speak(self):\r\n",
    "        print(f\"{self.name} makes a sound.\")\r\n",
    "\r\n",
    "# Child class inheriting from Animal\r\n",
    "class Dog(Animal):\r\n",
    "    def __init__(self, name, breed):\r\n",
    "        super().__init__(name)  # Call parent class constructor\r\n",
    "        self.breed = breed\r\n",
    "\r\n",
    "    def speak(self):\r\n",
    "        print(f\"{self.name} barks.\")\r\n",
    "\r\n",
    "# Instantiate a Dog object\r\n",
    "dog = Dog(\"Buddy\", \"Golden Retriever\")\r\n",
    "dog.speak()  # Calls the Dog class's speak method\r\n",
    "\n"
   ]
  },
  {
   "cell_type": "markdown",
   "id": "aa2c70c4-8f50-482e-a73c-6d0b5dacedf7",
   "metadata": {},
   "source": [
    "# 2. Multiple Inheritance\n",
    "In multiple inheritance, a subclass can inherit from more than one parent class. This allows the subclass to combine features from both parent classes.\n",
    "reated:"
   ]
  },
  {
   "cell_type": "code",
   "execution_count": null,
   "id": "cee9febe-f0ec-4817-93b3-18bc49ce5bcb",
   "metadata": {},
   "outputs": [],
   "source": [
    "# Parent class 1\n",
    "class Animal:\n",
    "    def __init__(self, name):\n",
    "        self.name = name\n",
    "\n",
    "    def speak(self):\n",
    "        print(f\"{self.name} makes a sound.\")\n",
    "\n",
    "# Parent class 2\n",
    "class Color:\n",
    "    def __init__(self, color):\n",
    "        self.color = color\n",
    "\n",
    "    def display_color(self):\n",
    "        print(f\"The color is {self.color}.\")\n",
    "\n",
    "# Child class inheriting from both Animal and Color\n",
    "class Dog(Animal, Color):\n",
    "    def __init__(self, name, color, breed):\n",
    "        Animal.__init__(self, name)  # Initialize Animal class\n",
    "        Color.__init__(self, color)  # Initialize Color class\n",
    "        self.breed = breed\n",
    "\n",
    "    def speak(self):\n",
    "        print(f\"{self.name} barks.\")\n",
    "\n",
    "# Instantiate a Dog object\n",
    "dog = Dog(\"Buddy\", \"Golden\", \"Golden Retriever\")\n",
    "dog.speak()  # Calls the Dog class's speak method\n",
    "dog.display_color()  # Calls Color class's display_color method\n",
    "\n",
    "1.age)\r\n",
    "\n"
   ]
  },
  {
   "cell_type": "markdown",
   "id": "690633af-46d9-4b43-8eb6-b5ea37ef191e",
   "metadata": {},
   "source": [
    "\n",
    "# 3. Multilevel Inheritance\n",
    "In multilevel inheritance, a class derives from another class, which, in turn, is derived from another class. This creates a chain of inheritance.\r\n",
    "\r\n",
    "\n"
   ]
  },
  {
   "cell_type": "code",
   "execution_count": null,
   "id": "523ed342-d6b0-43ba-a2ec-77c43e3863ec",
   "metadata": {},
   "outputs": [],
   "source": [
    "# Grandparent class\n",
    "class Animal:\n",
    "    def __init__(self, name):\n",
    "        self.name = name\n",
    "\n",
    "    def speak(self):\n",
    "        print(f\"{self.name} makes a sound.\")\n",
    "\n",
    "# Parent class inheriting from Animal\n",
    "class Dog(Animal):\n",
    "    def __init__(self, name, breed):\n",
    "        super().__init__(name)  # Initialize Animal class\n",
    "        self.breed = breed\n",
    "\n",
    "    def speak(self):\n",
    "        print(f\"{self.name} barks.\")\n",
    "\n",
    "# Child class inheriting from Dog (which itself inherits from Animal)\n",
    "class Puppy(Dog):\n",
    "    def __init__(self, name, breed, age):\n",
    "        super().__init__(name, breed)  # Initialize Dog class\n",
    "        self.age = age\n",
    "\n",
    "    def speak(self):\n",
    "        print(f\"{self.name} yips.\")\n",
    "\n",
    "# Instantiate a Puppy object\n",
    "puppy = Puppy(\"Bella\", \"Poodle\", 1)\n",
    "puppy.speak()  # Calls the Puppy class's speak method\n",
    "\n"
   ]
  },
  {
   "cell_type": "markdown",
   "id": "a9c11132-11bc-4d2a-8282-2ddb310a21de",
   "metadata": {},
   "source": [
    "\n",
    "# 4. Hierarchical Inheritance\n",
    "In hierarchical inheritance, multiple child classes inherit from the same parent class.\n"
   ]
  },
  {
   "cell_type": "code",
   "execution_count": null,
   "id": "1ae706ac-182b-4a04-a71d-9bc7bb7c0d69",
   "metadata": {},
   "outputs": [],
   "source": [
    "# Parent class\r\n",
    "class Animal:\r\n",
    "    def __init__(self, name):\r\n",
    "        self.name = name\r\n",
    "\r\n",
    "    def speak(self):\r\n",
    "        print(f\"{self.name} makes a sound.\")\r\n",
    "\r\n",
    "# Child class 1 inheriting from Animal\r\n",
    "class Dog(Animal):\r\n",
    "    def speak(self):\r\n",
    "        print(f\"{self.name} barks.\")\r\n",
    "\r\n",
    "# Child class 2 inheriting from Animal\r\n",
    "class Cat(Animal):\r\n",
    "    def speak(self):\r\n",
    "        print(f\"{self.name} meows.\")\r\n",
    "\r\n",
    "# Instantiate Dog and Cat objects\r\n",
    "dog = Dog(\"Buddy\")\r\n",
    "cat = Cat(\"Whiskers\")\r\n",
    "\r\n",
    "dog.speak()  # Calls the Dog class's speak method\r\n",
    "cat.speak()  # Calls the Cat class's speak method\r\n",
    "\n"
   ]
  },
  {
   "cell_type": "markdown",
   "id": "65f9d57a-2786-46f0-8741-d26093060195",
   "metadata": {},
   "source": [
    "# 5. Hybrid Inheritance\n",
    "Hybrid inheritance is a combination of more than one type of inheritance. For example, you can have a combination of multiple and multilevel inheritance."
   ]
  },
  {
   "cell_type": "code",
   "execution_count": null,
   "id": "fd381f7d-253c-4474-91be-652212a07443",
   "metadata": {},
   "outputs": [],
   "source": [
    "# Parent class 1\r\n",
    "class Animal:\r\n",
    "    def __init__(self, name):\r\n",
    "        self.name = name\r\n",
    "\r\n",
    "    def speak(self):\r\n",
    "        print(f\"{self.name} makes a sound.\")\r\n",
    "\r\n",
    "# Parent class 2\r\n",
    "class Color:\r\n",
    "    def __init__(self, color):\r\n",
    "        self.color = color\r\n",
    "\r\n",
    "    def display_color(self):\r\n",
    "        print(f\"The color is {self.color}.\")\r\n",
    "\r\n",
    "# Parent class 3\r\n",
    "class Size:\r\n",
    "    def __init__(self, size):\r\n",
    "        self.size = size\r\n",
    "\r\n",
    "    def display_size(self):\r\n",
    "        print(f\"The size is {self.size}.\")\r\n",
    "\r\n",
    "# Child class inheriting from multiple parents (Animal, Color, and Size)\r\n",
    "class Dog(Animal, Color, Size):\r\n",
    "    def __init__(self, name, color, size, breed):\r\n",
    "        Animal.__init__(self, name)\r\n",
    "        Color.__init__(self, color)\r\n",
    "        Size.__init__(self, size)\r\n",
    "        self.breed = breed\r\n",
    "\r\n",
    "    def speak(self):\r\n",
    "        print(f\"{self.name} barks.\")\r\n",
    "\r\n",
    "# Instantiate a Dog object\r\n",
    "dog = Dog(\"Buddy\", \"Golden\", \"Medium\", \"Golden Retriever\")\r\n",
    "dog.speak()  # Calls the Dog class's speak method\r\n",
    "dog.display_color()  # Calls Color class's display_color method\r\n",
    "dog.display_size()  # Clls Size class's display_size method\r\n",
    "\n",
    "s"
   ]
  },
  {
   "cell_type": "markdown",
   "id": "92047abf-5ac0-49c3-9b4d-f2f949a604c2",
   "metadata": {},
   "source": [
    "# Summary of Inheritance Types\n",
    "1. Single Inheritance: A child class inherits from one parent class.\n",
    "\n",
    "2. Multiple Inheritance: A child class inherits from more than one parent class.\n",
    "\n",
    "3. Multilevel Inheritance: A class inherits from another class, which in turn inherits from another class.\n",
    "\n",
    "4. Hierarchical Inheritance: Multiple classes inherit from the same parent class.\n",
    "\n",
    "5. Hybrid Inheritance: A combination of multiple inheritance types\n"
   ]
  },
  {
   "cell_type": "markdown",
   "id": "13e86481-eae2-4019-9515-66a43a30f0fb",
   "metadata": {},
   "source": [
    "<div style=\"background-color: #002147; color: #fff; padding: 30px; text-align: center;\">\n",
    "    <h1>THANK YOU!\n",
    "        <!--- Devashish Kumar | Tech Skills Trainer | CodroidHub Private Limited | AI/ML Consultant --->\n",
    "</h1> </div>"
   ]
  },
  {
   "cell_type": "markdown",
   "id": "15cc27b3-58d0-431e-8121-f1b4c08377c7",
   "metadata": {},
   "source": [
    "<!--- Devashish Kumar | Tech Skills Trainer | CodroidHub Private Limited | AI/ML Consultant --->"
   ]
  },
  {
   "cell_type": "code",
   "execution_count": null,
   "id": "4b3db7c3-7371-43cb-8555-fe00d1e392e4",
   "metadata": {},
   "outputs": [],
   "source": []
  }
 ],
 "metadata": {
  "kernelspec": {
   "display_name": "Python 3 (ipykernel)",
   "language": "python",
   "name": "python3"
  },
  "language_info": {
   "codemirror_mode": {
    "name": "ipython",
    "version": 3
   },
   "file_extension": ".py",
   "mimetype": "text/x-python",
   "name": "python",
   "nbconvert_exporter": "python",
   "pygments_lexer": "ipython3",
   "version": "3.12.4"
  }
 },
 "nbformat": 4,
 "nbformat_minor": 5
}

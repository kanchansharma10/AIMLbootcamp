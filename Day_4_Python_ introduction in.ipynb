{
 "cells": [
  {
   "cell_type": "markdown",
   "id": "8c4bc666-34a1-47b6-8018-1ad79dafae95",
   "metadata": {},
   "source": [
    "<div style=\"background-color: #add8e6; padding: 10px; height: 70px; border-radius: 15px;\">\n",
    "    <div style=\"font-family: 'Georgia', serif; font-size: 20px; padding: 10px; text-align: right; position: absolute; right: 20px;\">\n",
    "        Kanchan Sharma<br>\n",
    "        <span style=\"font-family: 'Arial', sans-serif;font-size: 12px; color: #0a0a0a;\">Tech Skills Trainee | AI/ML Bootcamp</span> <!--- Devashish Kumar | CodroidHub Private Limited | AI/ML Consultant --->\n",
    "    </div>\n",
    "</div>"
   ]
  },
  {
   "cell_type": "markdown",
   "id": "ef444d2e-97e9-49a8-bf3d-0119a2dfebb5",
   "metadata": {},
   "source": [
    "<!--- Devashish Kumar | Tech Skills Trainer | CodroidHub Private Limited | AI/ML Consultant --->"
   ]
  },
  {
   "cell_type": "markdown",
   "id": "151ad3d8-0bce-4e29-86da-5ea91b5a69df",
   "metadata": {},
   "source": [
    "<div style=\"background-color: #002147; padding: 10px; text-align: center; color: white; font-size: 32px; font-family: 'Arial', sans-serif;\">\n",
    "    Basics of Python <br>\n",
    "    <h3 style=\"text-align: center; color: white; font-size: 15px; font-family: 'Arial', sans-serif;\">Introductin</h3>\n",
    "</div>"
   ]
  },
  {
   "cell_type": "markdown",
   "id": "f84cb0cc-3c5a-47b0-b933-a2e646679052",
   "metadata": {},
   "source": [
    "# What is python?"
   ]
  },
  {
   "cell_type": "markdown",
   "id": "8145bc34-d3d7-4530-a53d-cec28da02dca",
   "metadata": {},
   "source": [
    "Python is a high level, interpreted programming language known for its simplicity and readability. It is widely used for web development, data science, automation, artificial intellgence, scientific computing, and more."
   ]
  },
  {
   "cell_type": "markdown",
   "id": "4d138d07-a3c8-4334-9910-d15c920acf50",
   "metadata": {},
   "source": [
    "# What is programming language?"
   ]
  },
  {
   "cell_type": "markdown",
   "id": "fce7d32c-1451-4e38-bbda-7ae5a407ba7b",
   "metadata": {},
   "source": [
    "A programming language is a set of instructions that a programmer writes to tell a computer how to perform a task. It's a symbolic protocol that allows programmers to communicate with computers."
   ]
  },
  {
   "cell_type": "markdown",
   "id": "0e76a428-810a-470b-9179-5c580912b2ba",
   "metadata": {},
   "source": [
    "# History of python"
   ]
  },
  {
   "cell_type": "markdown",
   "id": "5b43c39d-fe51-4da6-a4e5-8dfecde28977",
   "metadata": {},
   "source": [
    "Guido van Rossum created Python in the late 1980s as an alternative to traditional programming languages. The first version was released in 1991. Python's popularity has grown rapidly over the years. The name \"Python\" comes from the British comedy series Monty Python's Flying Circus. Python was designed to be easy to use and fun. \r\n",
    "\r\n"
   ]
  },
  {
   "cell_type": "markdown",
   "id": "7670be75-c374-4428-87ac-39b0864ac7ca",
   "metadata": {},
   "source": [
    "# Properties of python"
   ]
  },
  {
   "cell_type": "markdown",
   "id": "70d72e42-e85a-4b17-8694-b85b1d1b71b0",
   "metadata": {},
   "source": [
    "1. Python is an easy to learn , powerful programming language.\n",
    "2. It has efficient high-level data structures and a simple but effective approach to object-oriented-            programming\n",
    "3. Python have dynamic typing.\n",
    "4. Python is interpreted in nature.\n",
    "5. It an ideal language for scripting and rapid application development in many areas on most platforms.\n",
    "6. The python interpreter and the extensive standard library are freely available in source or binary form for all major flatforms the python wedsites.\n",
    "7. Python is suitable for as an extension language for cutomizable applications.\n",
    "8. Support advanced data structure\n"
   ]
  },
  {
   "cell_type": "markdown",
   "id": "ecac97a6-3537-40ec-a508-e3410e1cb78a",
   "metadata": {},
   "source": [
    "# 1. Python is an easy to learn ."
   ]
  },
  {
   "cell_type": "markdown",
   "id": "9ccdbef9-5f2c-4820-995f-7130ae9220ba",
   "metadata": {},
   "source": [
    "Python is considered easy to learn because it has a simple, readable syntax that closely resembles English language structure, making it intuitive for beginners to understand and write code, with fewer complex rules compared to other programming languages."
   ]
  },
  {
   "cell_type": "markdown",
   "id": "3668604d-4be7-4025-b484-a1a41d4d3d67",
   "metadata": {},
   "source": [
    "example:-"
   ]
  },
  {
   "cell_type": "code",
   "execution_count": 1,
   "id": "bfcdb804-192a-450f-a128-300c023edc37",
   "metadata": {},
   "outputs": [
    {
     "name": "stdout",
     "output_type": "stream",
     "text": [
      "Hello, World!\n"
     ]
    }
   ],
   "source": [
    "Python: print(\"Hello, World!\")\n"
   ]
  },
  {
   "cell_type": "raw",
   "id": "258a1aa7-0a57-4750-a68a-b7eed4e9589d",
   "metadata": {},
   "source": [
    "c++:\n",
    "include <iostream> \n",
    "using namespace std;\n",
    "int main() {\n",
    "cout << \"Hello, World!\";\n",
    "return 0;\n",
    "}`\n"
   ]
  },
  {
   "cell_type": "markdown",
   "id": "09fa0e95-9f27-4084-8c4b-549f83e045ae",
   "metadata": {},
   "source": [
    "# 2. Pyton object-oriented programming"
   ]
  },
  {
   "cell_type": "markdown",
   "id": "eb87c883-5284-442b-8076-4f22a729112a",
   "metadata": {},
   "source": [
    "Python uses Object-Oriented Programming (OOP) because it allows developers to model real-world entities as \"objects\" with attributes (data) and methods (behaviors), leading to more organized, reusable, and maintainable code by encapsulating complex concepts into manageable units, making it easier to build large and intricate applications."
   ]
  },
  {
   "cell_type": "code",
   "execution_count": 4,
   "id": "8ba1e827-7dab-4b9d-8629-df7bcbf78245",
   "metadata": {},
   "outputs": [
    {
     "name": "stdout",
     "output_type": "stream",
     "text": [
      "50\n"
     ]
    }
   ],
   "source": [
    "class Car:\n",
    "\n",
    "    def __init__(self, color, model, speed):\n",
    "\n",
    "        self.color = color\n",
    "\n",
    "        self.model = model\n",
    "\n",
    "        self.speed = speed\n",
    "\n",
    "\n",
    "\n",
    "    def accelerate(self, amount):\n",
    "\n",
    "        self.speed += amount\n",
    "\n",
    "\n",
    "\n",
    "    def brake(self, amount):\n",
    "\n",
    "        self.speed -= amount\n",
    "\n",
    "\n",
    "\n",
    "my_car = Car(\"red\", \"Honda Civic\", 0)\n",
    "\n",
    "my_car.accelerate(50)\n",
    "\n",
    "print(my_car.speed)  # Output: 50\n"
   ]
  },
  {
   "cell_type": "markdown",
   "id": "850f9f2b-28f8-425a-be11-61c29f03d7c6",
   "metadata": {},
   "source": [
    "# 3. Python have dynamic typing."
   ]
  },
  {
   "cell_type": "markdown",
   "id": "656cafcf-61c7-44f0-b277-abe345a0399f",
   "metadata": {},
   "source": [
    "Dynamic typing in Python allows variables to change type during a program's execution. This is useful when the type of data may change or be unknown at the start of a program."
   ]
  },
  {
   "cell_type": "code",
   "execution_count": 5,
   "id": "1f537081-9c75-49b6-85ec-20348a4ddf50",
   "metadata": {},
   "outputs": [
    {
     "name": "stdout",
     "output_type": "stream",
     "text": [
      "<class 'int'>\n",
      "<class 'str'>\n"
     ]
    }
   ],
   "source": [
    "x = 6   \n",
    "print(type(x)) \n",
    "x = 'hello' \n",
    "print(type(x))"
   ]
  },
  {
   "cell_type": "markdown",
   "id": "5bda52f7-8614-4640-ac98-927e6ba784c1",
   "metadata": {},
   "source": [
    "# 4. Python is interpreted in nature."
   ]
  },
  {
   "cell_type": "markdown",
   "id": "1016d6e8-6459-4eff-b0c7-a70f2bdcc4b5",
   "metadata": {},
   "source": [
    "Python is considered an interpreted language because its code is executed line-by-line directly by the Python interpreter at runtime, meaning there is no separate compilation step needed before running the program, allowing for immediate execution and easier debugging, unlike compiled languages that translate the entire code into machine code beforehand."
   ]
  },
  {
   "cell_type": "code",
   "execution_count": 8,
   "id": "f09105e7-ec27-4198-b7a6-077ca83905d1",
   "metadata": {},
   "outputs": [
    {
     "name": "stdout",
     "output_type": "stream",
     "text": [
      "Hello, World!\n"
     ]
    }
   ],
   "source": [
    "print(\"Hello, World!\")  \n"
   ]
  },
  {
   "cell_type": "markdown",
   "id": "c68b9f8c-5d56-4e81-83e3-734e64f292c9",
   "metadata": {},
   "source": [
    "# 5. Python ideal language scripting and rapid application."
   ]
  },
  {
   "cell_type": "markdown",
   "id": "e5c4150b-f728-4e0f-9d1d-aaa87c300472",
   "metadata": {},
   "source": [
    "Python's appeal for rapid application development (RAD) stems from its remarkable versatility. As a high-level, interpreted language, Python empowers developers to express complex ideas in a more concise manner than languages such as Java or C++"
   ]
  },
  {
   "cell_type": "markdown",
   "id": "234d528b-f96b-40f6-9ee6-19da7a215c81",
   "metadata": {},
   "source": [
    "# 6. Python are library are freely available in source or binary form."
   ]
  },
  {
   "cell_type": "markdown",
   "id": "c9814662-462c-43d7-9b48-0a68aeccda0c",
   "metadata": {},
   "source": [
    "Python language is freely available at the official website and you can download it from the given download link below click on the Download Python keyword. Download Python Since it is open-source, this means that source code is also available to the public. So you can download it, use it as well as share it"
   ]
  },
  {
   "cell_type": "markdown",
   "id": "ad3ef41f-8ba5-4f4e-863c-943a402d24cd",
   "metadata": {},
   "source": [
    "# 7. Python is suitable for as an extension language "
   ]
  },
  {
   "cell_type": "markdown",
   "id": "4a31a69f-3d7b-46eb-92a9-ca07cd747f8c",
   "metadata": {},
   "source": [
    "Python is considered a suitable extension language due to its simplicity, readability, extensive library ecosystem, and ability to integrate seamlessly with other languages like C and C++."
   ]
  },
  {
   "cell_type": "raw",
   "id": "04d5d3c0-33d1-4726-9fc1-3d0226bae4cc",
   "metadata": {},
   "source": [
    "c++:\n",
    "include <iostream> \n",
    "using namespace std;\n",
    "int main() {\n",
    "cout << \"Hello, World!\";\n",
    "return 0;\n",
    "}`\n"
   ]
  },
  {
   "cell_type": "code",
   "execution_count": 9,
   "id": "f1d1f034-a140-45ed-b1e7-4e0578f7ba62",
   "metadata": {},
   "outputs": [
    {
     "name": "stdout",
     "output_type": "stream",
     "text": [
      "kanchan sharma\n"
     ]
    }
   ],
   "source": [
    "#python\n",
    "print(\"kanchan sharma\")"
   ]
  },
  {
   "cell_type": "markdown",
   "id": "c183c03b-8bac-4c95-94f2-13feb3f9c42e",
   "metadata": {},
   "source": [
    "# 8. Python Support advanced data structure.\n"
   ]
  },
  {
   "cell_type": "markdown",
   "id": "e9318eeb-05f6-4c3c-adb4-607aa7f362ce",
   "metadata": {},
   "source": [
    "Data structures may be studied more easily with Python than with any other programming language because of their interpretability, interactivity, and object-oriented nature. Computers may store and process data at an extraordinary rate and with outstanding accuracy."
   ]
  },
  {
   "cell_type": "markdown",
   "id": "b69ed7ea-1940-434d-bb2d-601d07994783",
   "metadata": {},
   "source": [
    "<div style=\"background-color: lightblue; color: white; padding: 10px; text-align: center;\">\n",
    "    <h1>_________________________________END________________________________\n",
    "<!--- Devashish Kumar | Tech Skills Trainer | CodroidHub Private Limited | AI/ML Consultant --->\n",
    "    </h1> </div>"
   ]
  },
  {
   "cell_type": "markdown",
   "id": "13e86481-eae2-4019-9515-66a43a30f0fb",
   "metadata": {},
   "source": [
    "<div style=\"background-color: #002147; color: #fff; padding: 30px; text-align: center;\">\n",
    "    <h1>THANK YOU!\n",
    "        <!--- Devashish Kumar | Tech Skills Trainer | CodroidHub Private Limited | AI/ML Consultant --->\n",
    "</h1> </div>"
   ]
  }
 ],
 "metadata": {
  "kernelspec": {
   "display_name": "Python 3 (ipykernel)",
   "language": "python",
   "name": "python3"
  },
  "language_info": {
   "codemirror_mode": {
    "name": "ipython",
    "version": 3
   },
   "file_extension": ".py",
   "mimetype": "text/x-python",
   "name": "python",
   "nbconvert_exporter": "python",
   "pygments_lexer": "ipython3",
   "version": "3.12.4"
  }
 },
 "nbformat": 4,
 "nbformat_minor": 5
}

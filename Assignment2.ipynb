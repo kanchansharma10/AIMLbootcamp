{
 "cells": [
  {
   "cell_type": "markdown",
   "id": "46bce6e0-3f27-489f-8353-860dc7959142",
   "metadata": {},
   "source": [
    "# Assignment 2 : conditional statements\n",
    "# Task 1 = voting eligibility\n"
   ]
  },
  {
   "cell_type": "code",
   "execution_count": 1,
   "id": "d4f15b4f-040c-4705-85f5-109ae801f194",
   "metadata": {},
   "outputs": [
    {
     "name": "stdin",
     "output_type": "stream",
     "text": [
      "enter the age 78\n"
     ]
    },
    {
     "name": "stdout",
     "output_type": "stream",
     "text": [
      "person eligible for vote\n"
     ]
    }
   ],
   "source": [
    "age = int(input(\"enter the age\"))\n",
    "if age > 18:\n",
    "    print(\"person eligible for vote\")\n",
    "else:\n",
    "    print(\"person not eligible for vote\")"
   ]
  },
  {
   "cell_type": "markdown",
   "id": "93dd9a58-cee9-47ab-9db9-43e04b0ea8d6",
   "metadata": {},
   "source": [
    "# Task 2 = even or odd"
   ]
  },
  {
   "cell_type": "code",
   "execution_count": 3,
   "id": "59826350-8190-498b-905b-c053757c1892",
   "metadata": {},
   "outputs": [
    {
     "name": "stdin",
     "output_type": "stream",
     "text": [
      "enter the num 2\n"
     ]
    },
    {
     "name": "stdout",
     "output_type": "stream",
     "text": [
      "num is even\n"
     ]
    }
   ],
   "source": [
    "num = int(input(\"enter the num\"))\n",
    "if (num%2==0):\n",
    "    print(\"num is even\")\n",
    "else:\n",
    "    print(\"num is odd\")\n"
   ]
  },
  {
   "cell_type": "markdown",
   "id": "a5c38f8c-596c-46c3-b017-ab121e1db155",
   "metadata": {},
   "source": [
    "# Task 3 = check if num is positive , negative , zero"
   ]
  },
  {
   "cell_type": "code",
   "execution_count": null,
   "id": "474d98db-53ae-4dd1-b4f7-d469820c746c",
   "metadata": {},
   "outputs": [],
   "source": []
  }
 ],
 "metadata": {
  "kernelspec": {
   "display_name": "Python 3 (ipykernel)",
   "language": "python",
   "name": "python3"
  },
  "language_info": {
   "codemirror_mode": {
    "name": "ipython",
    "version": 3
   },
   "file_extension": ".py",
   "mimetype": "text/x-python",
   "name": "python",
   "nbconvert_exporter": "python",
   "pygments_lexer": "ipython3",
   "version": "3.12.4"
  }
 },
 "nbformat": 4,
 "nbformat_minor": 5
}

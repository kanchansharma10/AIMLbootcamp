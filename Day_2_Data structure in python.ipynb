{
 "cells": [
  {
   "cell_type": "markdown",
   "id": "8c4bc666-34a1-47b6-8018-1ad79dafae95",
   "metadata": {},
   "source": [
    "<div style=\"background-color: #add8e6; padding: 10px; height: 70px; border-radius: 15px;\">\n",
    "    <div style=\"font-family: 'Georgia', serif; font-size: 20px; padding: 10px; text-align: right; position: absolute; right: 20px;\">\n",
    "        Kanchan Sharma <br>\n",
    "        <span style=\"font-family: 'Arial', sans-serif;font-size: 12px; color: #0a0a0a;\">Tech Skills Trainee | AI/ML Bootcamp</span> <!--- Devashish Kumar | CodroidHub Private Limited | AI/ML Consultant --->\n",
    "    </div>\n",
    "</div>"
   ]
  },
  {
   "cell_type": "markdown",
   "id": "ef444d2e-97e9-49a8-bf3d-0119a2dfebb5",
   "metadata": {},
   "source": [
    "<!--- Devashish Kumar | Tech Skills Trainer | CodroidHub Private Limited | AI/ML Consultant --->"
   ]
  },
  {
   "cell_type": "markdown",
   "id": "151ad3d8-0bce-4e29-86da-5ea91b5a69df",
   "metadata": {},
   "source": [
    "<div style=\"background-color: #002147; padding: 10px; text-align: center; color: white; font-size: 32px; font-family: 'Arial', sans-serif;\">\n",
    "    Data Structure in Python <br>\n",
    "    <h3 style=\"text-align: center; color: white; font-size: 15px; font-family: 'Arial', sans-serif;\">Introduction of Data structure </h3>\n",
    "</div>"
   ]
  },
  {
   "cell_type": "markdown",
   "id": "907abb56-0424-413c-9be8-85e8d888d6b9",
   "metadata": {},
   "source": [
    "1. A Data structure is a way of organizing, storing, and managing data efficiently so that it can be accessed     and modified easily.\n",
    "2. It provides a framework for handling data in optimized way based on the requiremments of the program.\n",
    "3. Python provides several built-in and user-defined data structure to store and manage data efficiently."
   ]
  },
  {
   "cell_type": "markdown",
   "id": "9a34ec44-eb38-4741-9d0c-f5589ef9e21b",
   "metadata": {},
   "source": [
    "# Why Data Structure important"
   ]
  },
  {
   "cell_type": "markdown",
   "id": "84836eed-101d-474a-a7f7-21419e2e8b92",
   "metadata": {},
   "source": [
    "1. Efficiency - Helps in optimizing the space and complexity\n",
    "2. Data Management - Organizes data logically\n",
    "3. Faster processing - improves execution time of algorithms\n",
    "4. Reusability - Can be used in different programs"
   ]
  },
  {
   "cell_type": "markdown",
   "id": "ed7ca4b0-d3cc-4ef4-b987-1b0caf46ef17",
   "metadata": {},
   "source": [
    "# Types of Data Structure"
   ]
  },
  {
   "cell_type": "markdown",
   "id": "2fe1384d-88cc-4d27-90fa-904926b4311b",
   "metadata": {},
   "source": [
    "1. Built-in Data structure\n",
    "2. User-Defined Data Stucture"
   ]
  },
  {
   "cell_type": "markdown",
   "id": "155e8ec7-547b-41f4-b6f6-6e6e719c198c",
   "metadata": {},
   "source": [
    "<div style=\"background-color: white; color: black; padding: 10px;\">\n",
    "    <h3><b> Built-in Data structure</b> <p><p>\n",
    " <p> 1. List</p> \n",
    " <p> 2. Tuples</p>  \n",
    " <p> 3. Set</p>\n",
    " <p> 4. Dictionary</p> \n",
    "</h3> </div>"
   ]
  },
  {
   "cell_type": "markdown",
   "id": "19b1c30b-e766-4658-8d70-1b0af10ae2f4",
   "metadata": {},
   "source": [
    "<div style=\"background-color: darkgreen; color: black; padding: 6px;\">\n",
    "    <h3 style=\"text-align: center; color: white; font-size: 25px;\">List</h3>\n",
    "</h3> </div>"
   ]
  },
  {
   "cell_type": "markdown",
   "id": "f309cbe0-1a4d-4c14-8a21-f6d7d57d8bfb",
   "metadata": {},
   "source": [
    "# What is List?"
   ]
  },
  {
   "cell_type": "markdown",
   "id": "6efd5356-b3e5-4ce3-99a1-d08dc689e8da",
   "metadata": {},
   "source": [
    "1. A List in python is a built-in data structure that allow you to store multiple items in single variable.\n",
    "2. It is ordered , mutable(modifiable), and allow duplicates value.\n",
    "3. In the list item are separated by with the help of commas between square brackets "
   ]
  },
  {
   "cell_type": "markdown",
   "id": "9dc88e53-e1de-4e13-a890-88c47d3ef847",
   "metadata": {},
   "source": [
    "# Different Methods of list in a python"
   ]
  },
  {
   "cell_type": "markdown",
   "id": "bda75fdd-6cec-4f0c-ab35-d9a460de2e52",
   "metadata": {},
   "source": [
    "1.Creating a list-\n",
    "lists are created using square brackets []."
   ]
  },
  {
   "cell_type": "code",
   "execution_count": 1,
   "id": "fd800c6d-a357-45d8-8b4d-651b47dc91e9",
   "metadata": {},
   "outputs": [
    {
     "name": "stdout",
     "output_type": "stream",
     "text": [
      "[1, 2, 3, 4, 5, 6]\n"
     ]
    }
   ],
   "source": [
    "list = [1, 2, 3, 4, 5, 6]\n",
    "print(list)"
   ]
  },
  {
   "cell_type": "markdown",
   "id": "1d273769-d219-44ec-8315-da7f80705b26",
   "metadata": {},
   "source": [
    "list can be contain different data types\n"
   ]
  },
  {
   "cell_type": "code",
   "execution_count": 3,
   "id": "a4087c9d-3747-415c-8a48-a92479cbed7c",
   "metadata": {},
   "outputs": [
    {
     "name": "stdout",
     "output_type": "stream",
     "text": [
      "[10, 'heelo', 7.8, True]\n"
     ]
    }
   ],
   "source": [
    "my_list = [10, \"heelo\" , 7.8, True]\n",
    "print(my_list)"
   ]
  },
  {
   "cell_type": "markdown",
   "id": "bcea5483-4fd0-49c4-bef2-abcaad20e52d",
   "metadata": {},
   "source": [
    "2. Accessing Elements - Python Zero-based indexing to access elements"
   ]
  },
  {
   "cell_type": "code",
   "execution_count": 5,
   "id": "8dafa09c-aac2-43e1-90cf-76f82ac435b4",
   "metadata": {},
   "outputs": [
    {
     "name": "stdout",
     "output_type": "stream",
     "text": [
      "10\n",
      "78\n"
     ]
    }
   ],
   "source": [
    "numbers = [10, 57, 89, 3, 9, 54, 78]\n",
    "print(numbers[0]) #First element\n",
    "print(numbers[-1])#last elements"
   ]
  },
  {
   "cell_type": "markdown",
   "id": "0a1ec39d-01f3-4d95-abfe-0b156df59cb5",
   "metadata": {},
   "source": [
    "3.Modifying the list - lists are mutable meaning ypo can change their elements"
   ]
  },
  {
   "cell_type": "code",
   "execution_count": 6,
   "id": "9692c1b7-fcca-4aa0-adc5-8225975f62ba",
   "metadata": {},
   "outputs": [
    {
     "name": "stdout",
     "output_type": "stream",
     "text": [
      "[10, 25, 89, 3, 9, 54, 78]\n"
     ]
    }
   ],
   "source": [
    "numbers = [10, 57, 89, 3, 9, 54, 78]\n",
    "numbers[1] = 25\n",
    "print(numbers)"
   ]
  },
  {
   "cell_type": "markdown",
   "id": "f6bf0429-e6f3-4df8-8d8a-8cc0f6a1647f",
   "metadata": {},
   "source": [
    "4. Add list items - To add an item to end of the list, use the append() method"
   ]
  },
  {
   "cell_type": "code",
   "execution_count": 7,
   "id": "9dbc52b1-f4bc-4721-a3a1-6a6b69389011",
   "metadata": {},
   "outputs": [
    {
     "name": "stdout",
     "output_type": "stream",
     "text": [
      "['apple', 'banana', 'cherry', 'orange']\n"
     ]
    }
   ],
   "source": [
    "list = [\"apple\", \"banana\" , \"cherry\"]\n",
    "list.append(\"orange\")\n",
    "print(list)"
   ]
  },
  {
   "cell_type": "markdown",
   "id": "a33c0a27-7769-47c9-8c41-d51c1f89c98f",
   "metadata": {},
   "source": [
    "4.1 Insert items - To insert a list item at a specified index, use the insert() method\n"
   ]
  },
  {
   "cell_type": "code",
   "execution_count": 21,
   "id": "9aab6ef9-b587-43a7-9c33-360fdc95d872",
   "metadata": {},
   "outputs": [
    {
     "name": "stdout",
     "output_type": "stream",
     "text": [
      "['apple', 'banana', 'orange', 'cherry']\n"
     ]
    }
   ],
   "source": [
    "list = [\"apple\", \"banana\" , \"cherry\"]\n",
    "list.insert(2,\"orange\")\n",
    "print(list)"
   ]
  },
  {
   "cell_type": "markdown",
   "id": "c8dd3ddd-dc00-4763-8f4c-feffe07e5241",
   "metadata": {},
   "source": [
    "5. Extended list - To append elements from another list to the current list , use the extend() method."
   ]
  },
  {
   "cell_type": "code",
   "execution_count": 12,
   "id": "6cf37fd7-8feb-4bf8-91db-ebf71b5fe136",
   "metadata": {},
   "outputs": [
    {
     "name": "stdout",
     "output_type": "stream",
     "text": [
      "['apple', 'banana', 'cherry', 10, 57, 89, 3, 9, 54, 78]\n"
     ]
    }
   ],
   "source": [
    "list = [\"apple\", \"banana\" , \"cherry\"]\n",
    "numbers = [10, 57, 89, 3, 9, 54, 78]\n",
    "list.extend(numbers)\n",
    "print(list)\n"
   ]
  },
  {
   "cell_type": "markdown",
   "id": "11dabd85-327a-4640-a52d-5918446b7802",
   "metadata": {},
   "source": [
    "5.1 Add Any Iterable - The extend() method does not have to append lists, you can add any iterable object(tuples ,sets, dictionaries etc.)."
   ]
  },
  {
   "cell_type": "code",
   "execution_count": 22,
   "id": "a733d387-68fe-4d57-8c73-31c53b397fb2",
   "metadata": {},
   "outputs": [
    {
     "name": "stdout",
     "output_type": "stream",
     "text": [
      "['apple', 'banana', 'cherry', 'kiwi', 'orange']\n"
     ]
    }
   ],
   "source": [
    "#Add elements of a tuple to a list \n",
    "list = [\"apple\", \"banana\" , \"cherry\"]\n",
    "tuple = (\"kiwi\", \"orange\")\n",
    "list.extend(tuple)\n",
    "print(list)\n"
   ]
  },
  {
   "cell_type": "markdown",
   "id": "a7da4df5-6852-4328-9641-e6669cda348d",
   "metadata": {},
   "source": [
    "6. Remove list items - The remove() method remove the specified items"
   ]
  },
  {
   "cell_type": "code",
   "execution_count": 23,
   "id": "b62b24c5-009b-49dc-99c5-d9bfddb21aa4",
   "metadata": {},
   "outputs": [
    {
     "name": "stdout",
     "output_type": "stream",
     "text": [
      "['banana', 'cherry']\n"
     ]
    }
   ],
   "source": [
    "list = [\"apple\", \"banana\" , \"cherry\"]\n",
    "list.remove(\"apple\")\n",
    "print(list)"
   ]
  },
  {
   "cell_type": "markdown",
   "id": "7d3cd633-4013-4135-9852-e7eeae70477a",
   "metadata": {},
   "source": [
    "6.1 Remove specified index - The pop() methods removes the specified index."
   ]
  },
  {
   "cell_type": "code",
   "execution_count": 28,
   "id": "d107e0aa-1f8c-4f7f-936e-0b5b7aa65067",
   "metadata": {},
   "outputs": [
    {
     "name": "stdout",
     "output_type": "stream",
     "text": [
      "['apple', 'cherry']\n"
     ]
    }
   ],
   "source": [
    "list = [\"apple\", \"banana\" , \"cherry\"]\n",
    "list.pop(1)\n",
    "print(list)"
   ]
  },
  {
   "cell_type": "markdown",
   "id": "ebdc57b2-b781-4807-bcf7-53a0798ae6b9",
   "metadata": {},
   "source": [
    "6.2 Remove last item "
   ]
  },
  {
   "cell_type": "code",
   "execution_count": 27,
   "id": "94d5e9a6-052e-43b2-b85c-5bba0887d5ef",
   "metadata": {},
   "outputs": [
    {
     "name": "stdout",
     "output_type": "stream",
     "text": [
      "['apple', 'banana']\n"
     ]
    }
   ],
   "source": [
    "list = [\"apple\", \"banana\" , \"cherry\"]\n",
    "list.pop()\n",
    "print(list)"
   ]
  },
  {
   "cell_type": "markdown",
   "id": "9c7eca09-8d60-49a8-b543-179c3a3875d0",
   "metadata": {},
   "source": [
    "6.3 The del keyword also remove the specified index"
   ]
  },
  {
   "cell_type": "code",
   "execution_count": 29,
   "id": "21a9d2a9-1075-45ef-aff9-0c5c4391fabf",
   "metadata": {},
   "outputs": [
    {
     "name": "stdout",
     "output_type": "stream",
     "text": [
      "[10, 89, 3, 9, 54, 78]\n"
     ]
    }
   ],
   "source": [
    "numbers = [10, 57, 89, 3, 9, 54, 78]\n",
    "del numbers[1] \n",
    "print(numbers)"
   ]
  },
  {
   "cell_type": "markdown",
   "id": "3bd50410-b4e7-4cf0-a282-33682b382ea6",
   "metadata": {},
   "source": [
    "6.4 Clear the list - The clear() method empties the list."
   ]
  },
  {
   "cell_type": "code",
   "execution_count": 32,
   "id": "d1f6e857-db55-40c3-8ff5-895c965c3b0a",
   "metadata": {},
   "outputs": [
    {
     "name": "stdout",
     "output_type": "stream",
     "text": [
      "[]\n"
     ]
    }
   ],
   "source": [
    "numbers = [10, 57, 89, 3, 9, 54, 78]\n",
    "numbers.clear()\n",
    "print(numbers)"
   ]
  },
  {
   "cell_type": "markdown",
   "id": "bfea8310-743e-47d7-b7ad-7067ff63feb2",
   "metadata": {},
   "source": [
    "7. loops Through  a list - you can loop through the list items by using for loop:"
   ]
  },
  {
   "cell_type": "code",
   "execution_count": null,
   "id": "b275abd2-bcfe-41f9-8766-b65a8e4cf5b4",
   "metadata": {},
   "outputs": [],
   "source": [
    "numbers = [10, 57, 89, 3, 9, 54, 78]\n",
    "for x in numbers :\n",
    "    print(x)"
   ]
  },
  {
   "cell_type": "markdown",
   "id": "d4ce6dc2-1de8-4557-b1fa-7d5ab1ccf6ff",
   "metadata": {},
   "source": [
    "7.1 Print all items by referring to their index number"
   ]
  },
  {
   "cell_type": "code",
   "execution_count": 36,
   "id": "caf3e453-5817-41e1-907a-dc6968f51a56",
   "metadata": {},
   "outputs": [
    {
     "name": "stdout",
     "output_type": "stream",
     "text": [
      "10\n",
      "57\n",
      "89\n",
      "3\n",
      "9\n",
      "54\n",
      "78\n"
     ]
    }
   ],
   "source": [
    "numbers = [10, 57, 89, 3, 9, 54, 78]\n",
    "for x in range(len(numbers)) :\n",
    "    print(numbers[x])"
   ]
  },
  {
   "cell_type": "markdown",
   "id": "64a01921-6871-4672-a820-6f53a049d97b",
   "metadata": {},
   "source": [
    "7.2 You can loop through the list items by using while loop."
   ]
  },
  {
   "cell_type": "code",
   "execution_count": 1,
   "id": "bd081d4c-998e-4fc1-baab-74fa93342a46",
   "metadata": {},
   "outputs": [
    {
     "name": "stdout",
     "output_type": "stream",
     "text": [
      "10\n",
      "57\n",
      "89\n",
      "3\n",
      "9\n",
      "54\n",
      "78\n"
     ]
    }
   ],
   "source": [
    "# print all items , using a while loop to go through all the index numbers\n",
    "numbers = [10, 57, 89, 3, 9, 54, 78]\n",
    "i = 0\n",
    "while i<len(numbers):\n",
    "    print(numbers[i])\n",
    "    i = i+1\n",
    "    "
   ]
  },
  {
   "cell_type": "markdown",
   "id": "a2c300c5-14d7-47cf-89cc-70334eb83b70",
   "metadata": {},
   "source": [
    "7.3 Looping using list comprehension - list comprehension offers the shortest syntax for looping through lists: "
   ]
  },
  {
   "cell_type": "code",
   "execution_count": 2,
   "id": "6600cf58-d757-4a34-881b-4176b3ea1d84",
   "metadata": {},
   "outputs": [
    {
     "name": "stdout",
     "output_type": "stream",
     "text": [
      "10\n",
      "57\n",
      "89\n",
      "3\n",
      "9\n",
      "54\n",
      "78\n"
     ]
    },
    {
     "data": {
      "text/plain": [
       "[None, None, None, None, None, None, None]"
      ]
     },
     "execution_count": 2,
     "metadata": {},
     "output_type": "execute_result"
    }
   ],
   "source": [
    "numbers = [10, 57, 89, 3, 9, 54, 78]\n",
    "[print(x) for x in numbers]"
   ]
  },
  {
   "cell_type": "markdown",
   "id": "0cc299bb-2291-44c8-bc67-9930b240895d",
   "metadata": {},
   "source": [
    "8. List comprehension - list comprehension offers a shorter syntax when you want to create a new list based on \n",
    "the values of an existing list."
   ]
  },
  {
   "cell_type": "code",
   "execution_count": 3,
   "id": "37594a7d-5ea6-4b88-b3b1-7930c7a1b26f",
   "metadata": {},
   "outputs": [
    {
     "name": "stdout",
     "output_type": "stream",
     "text": [
      "['apple', 'banana', 'grapes']\n"
     ]
    }
   ],
   "source": [
    "fruits = ['apple', 'banana', 'grapes', 'cheery']\n",
    "newlist = []\n",
    "for x in fruits :\n",
    "    if 'a' in x:\n",
    "        newlist.append(x)\n",
    "print(newlist)"
   ]
  },
  {
   "cell_type": "markdown",
   "id": "ee7ed84c-094c-4529-8246-8f6faeb39e45",
   "metadata": {},
   "source": [
    "9. Short lists - list object have a sort() method that will sort the list aiphanumerically,ascending,by default"
   ]
  },
  {
   "cell_type": "code",
   "execution_count": 4,
   "id": "fa92123f-dfd2-4b3c-acd5-e4b6b6a54f77",
   "metadata": {},
   "outputs": [
    {
     "name": "stdout",
     "output_type": "stream",
     "text": [
      "['apple', 'banana', 'cheery', 'grapes']\n"
     ]
    }
   ],
   "source": [
    "fruits = ['apple', 'banana', 'grapes', 'cheery']\n",
    "fruits.sort()\n",
    "print(fruits)"
   ]
  },
  {
   "cell_type": "code",
   "execution_count": 5,
   "id": "932aecd4-b8c2-4685-9c81-64a54f66b3ca",
   "metadata": {},
   "outputs": [
    {
     "name": "stdout",
     "output_type": "stream",
     "text": [
      "[3, 9, 10, 54, 57, 78, 89]\n"
     ]
    }
   ],
   "source": [
    "numbers = [10, 57, 89, 3, 9, 54, 78]\n",
    "numbers.sort()\n",
    "print(numbers)"
   ]
  },
  {
   "cell_type": "markdown",
   "id": "848e06f6-bf29-4d34-adf0-acf48a509e9f",
   "metadata": {},
   "source": [
    "9.1 Sort Descending - To sort descending , use the keyword argument 'reverse = True'"
   ]
  },
  {
   "cell_type": "code",
   "execution_count": 6,
   "id": "474ec462-d51a-42a4-91f2-faaeb06c8c45",
   "metadata": {},
   "outputs": [
    {
     "name": "stdout",
     "output_type": "stream",
     "text": [
      "[89, 78, 57, 54, 10, 9, 3]\n"
     ]
    }
   ],
   "source": [
    "numbers = [10, 57, 89, 3, 9, 54, 78]\n",
    "numbers.sort(reverse = True)\n",
    "print(numbers)"
   ]
  },
  {
   "cell_type": "markdown",
   "id": "0bfee3ca-b89a-4d93-bbcd-c162e9ecee93",
   "metadata": {},
   "source": [
    "10 . Reverse order - The reverse() method reverse the current sorting order of the elements"
   ]
  },
  {
   "cell_type": "code",
   "execution_count": 9,
   "id": "de4a1a9c-ef70-452a-91a4-699987ca6cf6",
   "metadata": {},
   "outputs": [
    {
     "name": "stdout",
     "output_type": "stream",
     "text": [
      "[78, 54, 9, 3, 89, 57, 10]\n"
     ]
    }
   ],
   "source": [
    "numbers = [10, 57, 89, 3, 9, 54, 78]\n",
    "numbers.reverse()\n",
    "print(numbers)"
   ]
  },
  {
   "cell_type": "markdown",
   "id": "19c4e022-657d-4456-9d6c-8c04b34d8499",
   "metadata": {},
   "source": [
    "11. Copy a list - you can use method copy() to copy a list "
   ]
  },
  {
   "cell_type": "code",
   "execution_count": 11,
   "id": "4004c20a-aef5-469e-8e4a-cab5a430a9ca",
   "metadata": {},
   "outputs": [
    {
     "name": "stdout",
     "output_type": "stream",
     "text": [
      "[10, 57, 89, 3, 9, 54, 78]\n"
     ]
    }
   ],
   "source": [
    "numbers = [10, 57, 89, 3, 9, 54, 78]\n",
    "list = numbers.copy()\n",
    "print(list)\n"
   ]
  },
  {
   "cell_type": "code",
   "execution_count": 1,
   "id": "2bb6df58-b479-42c3-9451-f200e66e5b85",
   "metadata": {},
   "outputs": [
    {
     "name": "stdout",
     "output_type": "stream",
     "text": [
      "[10, 57, 89, 3, 9, 54, 78]\n"
     ]
    }
   ],
   "source": [
    "# Make a copy of a list with the list() method\n",
    "numbers = [10, 57, 89, 3, 9, 54, 78]\n",
    "mylist = list(numbers)\n",
    "print(mylist)"
   ]
  },
  {
   "cell_type": "markdown",
   "id": "71db4ca6-8f20-4d0d-adf2-be37cd5440f8",
   "metadata": {},
   "source": [
    "12 . Join two lists - one of the easiest ways are by using the + operator."
   ]
  },
  {
   "cell_type": "code",
   "execution_count": 2,
   "id": "df320dcb-0c27-4e95-921f-27b96f20354c",
   "metadata": {},
   "outputs": [
    {
     "name": "stdout",
     "output_type": "stream",
     "text": [
      "[10, 57, 89, 3, 9, 54, 78, 'apple', 'banana', 'grapes', 'cheery']\n"
     ]
    }
   ],
   "source": [
    "numbers = [10, 57, 89, 3, 9, 54, 78]\n",
    "fruits = ['apple', 'banana', 'grapes', 'cheery']\n",
    "list = numbers+fruits\n",
    "print(list)\n"
   ]
  },
  {
   "cell_type": "markdown",
   "id": "44fb34b4-4f05-473c-9f16-548ec25eaee1",
   "metadata": {},
   "source": [
    "12.1 Append list2 into list1"
   ]
  },
  {
   "cell_type": "code",
   "execution_count": 4,
   "id": "ead6f6c4-e3a7-4710-94e7-597836c42992",
   "metadata": {},
   "outputs": [
    {
     "name": "stdout",
     "output_type": "stream",
     "text": [
      "[10, 57, 89, 3, 9, 54, 78, 'apple', 'banana', 'grapes', 'cheery']\n"
     ]
    }
   ],
   "source": [
    "numbers = [10, 57, 89, 3, 9, 54, 78]\n",
    "fruits = ['apple', 'banana', 'grapes', 'cheery']\n",
    "for x in fruits:\n",
    "  numbers.append(x)\n",
    "print(list)\n"
   ]
  },
  {
   "cell_type": "markdown",
   "id": "37906d16-b801-4364-aed7-1c477945878e",
   "metadata": {},
   "source": [
    "13. List slicing - It is allows you to extract a portion of a list using the syntax is list[start:stop:step]"
   ]
  },
  {
   "cell_type": "markdown",
   "id": "b235abc2-5713-4f80-a2e0-44f9bbce1137",
   "metadata": {},
   "source": [
    "Parameters :\n",
    "1. Start : The index where slicing begins (inclusive).default 0.\n",
    "2. Stop : The index where slicing ends(exclusive).\n",
    "3. Step : The step or stride(default is 1)."
   ]
  },
  {
   "cell_type": "code",
   "execution_count": 6,
   "id": "e999e9ef-bf21-49be-a4dc-619f9dde278a",
   "metadata": {},
   "outputs": [
    {
     "name": "stdout",
     "output_type": "stream",
     "text": [
      "[2, 3, 4, 5, 6]\n"
     ]
    }
   ],
   "source": [
    "# from index 2 to 6\n",
    "num = [0, 1, 2, 3, 4, 5, 6, 7, 6, 8, 9, 10]\n",
    "print(num[2:7])"
   ]
  },
  {
   "cell_type": "code",
   "execution_count": 7,
   "id": "2071bd44-1569-4ca3-a51c-c535ac24ab0f",
   "metadata": {},
   "outputs": [
    {
     "name": "stdout",
     "output_type": "stream",
     "text": [
      "[0, 1, 2, 3, 4, 5, 6]\n"
     ]
    }
   ],
   "source": [
    "# from index 0 to 6\n",
    "num = [0, 1, 2, 3, 4, 5, 6, 7, 6, 8, 9, 10]\n",
    "print(num[:7])"
   ]
  },
  {
   "cell_type": "code",
   "execution_count": 8,
   "id": "f1a81b07-2a67-4078-8f45-cbc769f02b2f",
   "metadata": {},
   "outputs": [
    {
     "name": "stdout",
     "output_type": "stream",
     "text": [
      "[2, 3, 4, 5, 6, 7, 6, 8, 9, 10]\n"
     ]
    }
   ],
   "source": [
    "# from index 2 to end\n",
    "num = [0, 1, 2, 3, 4, 5, 6, 7, 6, 8, 9, 10]\n",
    "print(num[2:])"
   ]
  },
  {
   "cell_type": "code",
   "execution_count": 11,
   "id": "d0998c93-5031-46d3-b1fb-2b3f62536ae7",
   "metadata": {},
   "outputs": [
    {
     "name": "stdout",
     "output_type": "stream",
     "text": [
      "[0, 2, 4, 6, 6, 9]\n"
     ]
    }
   ],
   "source": [
    "# using steps\n",
    "num = [0, 1, 2, 3, 4, 5, 6, 7, 6, 8, 9, 10]\n",
    "print(num[0:13:2])"
   ]
  },
  {
   "cell_type": "code",
   "execution_count": 10,
   "id": "d65e1dd3-bdf1-43c8-b961-76dba51b09dc",
   "metadata": {},
   "outputs": [
    {
     "name": "stdout",
     "output_type": "stream",
     "text": [
      "[0, 3, 6, 8]\n"
     ]
    }
   ],
   "source": [
    "# every third elements from start to end\n",
    "num = [0, 1, 2, 3, 4, 5, 6, 7, 6, 8, 9, 10]\n",
    "print(num[::3])\n"
   ]
  },
  {
   "cell_type": "code",
   "execution_count": 12,
   "id": "4284c67d-a30d-4a83-be00-da61a54f4963",
   "metadata": {},
   "outputs": [
    {
     "name": "stdout",
     "output_type": "stream",
     "text": [
      "[10, 9, 8, 6, 7, 6, 5, 4, 3, 2, 1, 0]\n"
     ]
    }
   ],
   "source": [
    "# negative slicing \n",
    "num = [0, 1, 2, 3, 4, 5, 6, 7, 6, 8, 9, 10]\n",
    "print(num[::-1])"
   ]
  },
  {
   "cell_type": "code",
   "execution_count": 13,
   "id": "8d2ff034-8a21-4c32-8faa-a50b41fd81a0",
   "metadata": {},
   "outputs": [
    {
     "name": "stdout",
     "output_type": "stream",
     "text": [
      "[6, 7, 6]\n"
     ]
    }
   ],
   "source": [
    "num = [0, 1, 2, 3, 4, 5, 6, 7, 6, 8, 9, 10]\n",
    "print(num[-6:-3])"
   ]
  },
  {
   "cell_type": "code",
   "execution_count": 14,
   "id": "61c7ec66-dcd0-4e0f-a9b0-2d31cc914080",
   "metadata": {},
   "outputs": [
    {
     "name": "stdout",
     "output_type": "stream",
     "text": [
      "[9, 10]\n"
     ]
    }
   ],
   "source": [
    "num = [0, 1, 2, 3, 4, 5, 6, 7, 6, 8, 9, 10]\n",
    "print(num[-2::])"
   ]
  },
  {
   "cell_type": "markdown",
   "id": "c5717bc8-c1a8-4045-82f0-a1a54347fc8e",
   "metadata": {},
   "source": [
    "Modifying slicing "
   ]
  },
  {
   "cell_type": "code",
   "execution_count": 16,
   "id": "2c6130fa-3578-440b-a5e5-5aa36f78546c",
   "metadata": {},
   "outputs": [
    {
     "name": "stdout",
     "output_type": "stream",
     "text": [
      "[0, 1, 100, 101, 102, 5, 6, 7, 6, 8, 9, 10]\n"
     ]
    }
   ],
   "source": [
    "num[2:5] = [100 , 101 , 102]\n",
    "print(num)"
   ]
  },
  {
   "cell_type": "markdown",
   "id": "049dd43a-4170-4ad6-b72a-21fc0d6af694",
   "metadata": {},
   "source": [
    "# Method Description"
   ]
  },
  {
   "cell_type": "markdown",
   "id": "721f0ed0-f254-4db6-b090-5f853d6a8f48",
   "metadata": {},
   "source": [
    "\n",
    "1. append() =\tAdds an element at the end of the list\n",
    "2. clear()  =\tRemoves all the elements from the list\n",
    "3. copy()\t =  Returns a copy of the list\n",
    "4. count()\t =   Returns the number of elements with the specified value\n",
    "5. extend() =\tAdd the elements of a list (or any iterable), to the end of the current list\n",
    "6. index()\t =   Returns the index of the first element with the specified value\n",
    "7. insert() = \tAdds an element at the specified position\n",
    "8. pop()\t =   Removes the element at the specified position\n",
    "9. remove() =\tRemoves the item with the specified value\n",
    "10. reverse()=\tReverses the order of the list\n",
    "11. sort()\t =  Sorts the list"
   ]
  },
  {
   "cell_type": "markdown",
   "id": "53ec8637",
   "metadata": {},
   "source": [
    "<div style=\"background-color: darkgreen; color: black; padding: 6px;\">\n",
    "    <h3 style=\"text-align: center; color: white; font-size: 25px;\">Tuple</h3>\n",
    "</h3> </div>"
   ]
  },
  {
   "cell_type": "markdown",
   "id": "90aef031-1416-4707-b2a0-fc60ca4ee7ca",
   "metadata": {},
   "source": [
    "# What is Tuple?"
   ]
  },
  {
   "cell_type": "markdown",
   "id": "7f523e0a-5ff4-453e-828b-39aa93707927",
   "metadata": {},
   "source": [
    "1. A tuple is an ordered, immutable collection of elements.\n",
    "2. It is similar to list but cannot be modified after creation .\n",
    "3. It means you cannot add, remove, or change elements\n",
    "4. Tuples are written with round brackets\n"
   ]
  },
  {
   "cell_type": "markdown",
   "id": "09116c05-80c1-4cf5-aff2-f5d4888ebb2b",
   "metadata": {},
   "source": [
    "# Characteristic of Tuples"
   ]
  },
  {
   "cell_type": "markdown",
   "id": "713b3a40-0be1-4a7d-96cc-fe427c1d3dfa",
   "metadata": {},
   "source": [
    "1. Ordered = Elements have a fixed order.\n",
    "2. Immutable = Cannot be changed after creation.\n",
    "3. Allow duplicate values = Elements can be repeated.\n",
    "4. Can store mixed data types = supports integers, strings, foats, etc."
   ]
  },
  {
   "cell_type": "markdown",
   "id": "14324d3f-d7e2-4459-a16c-11c327fe0a12",
   "metadata": {},
   "source": [
    "# Different Methods of Tuples in a python"
   ]
  },
  {
   "cell_type": "markdown",
   "id": "01dfb4e7-ef33-41d3-8ea3-52fcdb5f4076",
   "metadata": {},
   "source": [
    "1.Create a tuple"
   ]
  },
  {
   "cell_type": "code",
   "execution_count": 19,
   "id": "f73c6cac-0d7c-4eb8-9897-930f6483a785",
   "metadata": {},
   "outputs": [
    {
     "name": "stdout",
     "output_type": "stream",
     "text": [
      "('apple', 'banana', 'cheery', 'grapes')\n"
     ]
    }
   ],
   "source": [
    "tuple = (\"apple\",\"banana\",\"cheery\",\"grapes\")\n",
    "print(tuple)"
   ]
  },
  {
   "cell_type": "code",
   "execution_count": 20,
   "id": "4db28428-e4ac-40f8-87df-8acea6f44344",
   "metadata": {},
   "outputs": [
    {
     "name": "stdout",
     "output_type": "stream",
     "text": [
      "('apple', 'banana', 'cheery', 'grapes', 'cherry')\n"
     ]
    }
   ],
   "source": [
    "# Allow duplicates value\n",
    "tuple = (\"apple\",\"banana\",\"cheery\",\"grapes\",\"cherry\")\n",
    "print(tuple)"
   ]
  },
  {
   "cell_type": "markdown",
   "id": "3588a732-3125-4a7f-b371-77ed5a818c6d",
   "metadata": {},
   "source": [
    "2. Acess Tuple items - You can access tuple items by referring to the index number,inside square brackets."
   ]
  },
  {
   "cell_type": "code",
   "execution_count": 22,
   "id": "49cb672f-c45d-43b2-b05c-6362aee4c086",
   "metadata": {},
   "outputs": [
    {
     "name": "stdout",
     "output_type": "stream",
     "text": [
      "cheery\n"
     ]
    }
   ],
   "source": [
    "# print the second item in the tuple\n",
    "tuple = (\"apple\",\"banana\",\"cheery\",\"grapes\",)\n",
    "print(tuple[2])\n"
   ]
  },
  {
   "cell_type": "code",
   "execution_count": 25,
   "id": "f098675c-b5a2-4e18-a527-5ea4010ae6ed",
   "metadata": {},
   "outputs": [
    {
     "name": "stdout",
     "output_type": "stream",
     "text": [
      "('cheery', 'grapes')\n"
     ]
    }
   ],
   "source": [
    "tuple = (\"apple\",\"banana\",\"cheery\",\"grapes\",\"cherry\")\n",
    "print(tuple[2:4])"
   ]
  },
  {
   "cell_type": "markdown",
   "id": "8babb917-229b-4db1-8cfd-c6fc857fb35d",
   "metadata": {},
   "source": [
    "2.1 Negative Indexing - Negative indexing means start from the end. -1 refers to the last item,-2 refers to the last item etc."
   ]
  },
  {
   "cell_type": "code",
   "execution_count": 24,
   "id": "4062afd9-6c59-4731-88f0-2768b4fc001b",
   "metadata": {},
   "outputs": [
    {
     "name": "stdout",
     "output_type": "stream",
     "text": [
      "cherry\n"
     ]
    }
   ],
   "source": [
    "tuple = (\"apple\",\"banana\",\"cheery\",\"grapes\",\"cherry\")\n",
    "print(tuple[-1])"
   ]
  },
  {
   "cell_type": "code",
   "execution_count": 29,
   "id": "c5ca72ba-0a94-4381-8536-869e0c3874a2",
   "metadata": {},
   "outputs": [
    {
     "name": "stdout",
     "output_type": "stream",
     "text": [
      "('apple', 'banana', 'cheery', 'grapes')\n"
     ]
    }
   ],
   "source": [
    "tuple = (\"apple\",\"banana\",\"cheery\",\"grapes\",\"cherry\")\n",
    "print(tuple[-5:-1])"
   ]
  },
  {
   "cell_type": "code",
   "execution_count": 30,
   "id": "3b402575-b144-41e5-b375-1dac27a7ff16",
   "metadata": {},
   "outputs": [
    {
     "name": "stdout",
     "output_type": "stream",
     "text": [
      "('apple', 'banana', 'cheery', 'grapes')\n"
     ]
    }
   ],
   "source": [
    "tuple = (\"apple\",\"banana\",\"cheery\",\"grapes\",\"cherry\")\n",
    "print(tuple[:4])"
   ]
  },
  {
   "cell_type": "markdown",
   "id": "16495498-5d99-413a-93ea-f6377458027f",
   "metadata": {},
   "source": [
    "3. Change tuple values - once tuple you are created , ypu can not change its value. you can convert the tuple into list, change the list, and convert the list back into tuples"
   ]
  },
  {
   "cell_type": "code",
   "execution_count": 7,
   "id": "b9d8b0c3-d19b-4b28-adee-a968b5b94d46",
   "metadata": {
    "scrolled": true
   },
   "outputs": [
    {
     "name": "stdout",
     "output_type": "stream",
     "text": [
      "(1, 'kiwi', 3, 5, 7, 8)\n"
     ]
    }
   ],
   "source": [
    "a = (1, 2, 3, 5, 7, 8)\n",
    "b = list(a)\n",
    "b[1] = \"kiwi\"\n",
    "a = tuple(b)\n",
    "print(a)"
   ]
  },
  {
   "cell_type": "markdown",
   "id": "37b5849f-baad-4660-94ce-7ed6ebceb6d9",
   "metadata": {},
   "source": [
    "4. Add items - In which append function doest not use directly so first we convert the tuple into list add your item and convert it back into tuple"
   ]
  },
  {
   "cell_type": "code",
   "execution_count": 8,
   "id": "b666ff27-9870-47a5-9e57-70c5ed77894d",
   "metadata": {},
   "outputs": [
    {
     "name": "stdout",
     "output_type": "stream",
     "text": [
      "('apple', 'banana', 'cheery', 'grapes', 'orange')\n"
     ]
    }
   ],
   "source": [
    "tuple1 = (\"apple\",\"banana\",\"cheery\",\"grapes\",)\n",
    "mytuple =list(tuple1)\n",
    "mytuple.append(\"orange\")\n",
    "tuple1 = tuple(mytuple)\n",
    "print(tuple1)"
   ]
  },
  {
   "cell_type": "markdown",
   "id": "7fb0e7ca-23cb-4d9b-9503-056c4ccc33ae",
   "metadata": {},
   "source": [
    "5. pack tuples - When we create a tuple, we normally assign values to it. This is called \"packing\" a tuple  "
   ]
  },
  {
   "cell_type": "code",
   "execution_count": 9,
   "id": "c3016158-4099-42ed-9a5d-862221819e8b",
   "metadata": {},
   "outputs": [
    {
     "data": {
      "text/plain": [
       "('apple', 'banana', 'cheery', 'grapes')"
      ]
     },
     "execution_count": 9,
     "metadata": {},
     "output_type": "execute_result"
    }
   ],
   "source": [
    "tuple = (\"apple\",\"banana\",\"cheery\",\"grapes\")\n",
    "tuple"
   ]
  },
  {
   "cell_type": "code",
   "execution_count": 10,
   "id": "cb91ae24-0c1f-4497-b998-a3229ad27709",
   "metadata": {},
   "outputs": [
    {
     "name": "stdout",
     "output_type": "stream",
     "text": [
      "apple\n",
      "banana\n",
      "cherry\n"
     ]
    }
   ],
   "source": [
    "# unpacking tuples: extract the values back into variable\n",
    "fruits = (\"apple\", \"banana\", \"cherry\")\n",
    "\n",
    "(green, yellow, red) = fruits\n",
    "\n",
    "print(green)\n",
    "print(yellow)\n",
    "print(red)"
   ]
  },
  {
   "cell_type": "markdown",
   "id": "975979ed-a409-4e86-9de4-fde298d151c8",
   "metadata": {},
   "source": [
    "6 . Loop through a Tuple - You can loop through the tuple items by using a for loop"
   ]
  },
  {
   "cell_type": "code",
   "execution_count": 11,
   "id": "91afe05d-84a9-460e-8a46-e9012f882760",
   "metadata": {},
   "outputs": [
    {
     "name": "stdout",
     "output_type": "stream",
     "text": [
      "apple\n",
      "banana\n",
      "cherry\n"
     ]
    }
   ],
   "source": [
    "fruits = (\"apple\", \"banana\", \"cherry\")\n",
    "for x in fruits:\n",
    "    print(x)"
   ]
  },
  {
   "cell_type": "markdown",
   "id": "c07babdf-763b-4427-8844-ca14686f76b1",
   "metadata": {},
   "source": [
    "6.1 Loop Through the index numbers - Use the range() and len() function"
   ]
  },
  {
   "cell_type": "code",
   "execution_count": 2,
   "id": "087a3353-8560-4a0e-b3ca-b1af25b3bdd0",
   "metadata": {},
   "outputs": [
    {
     "name": "stdout",
     "output_type": "stream",
     "text": [
      "apple\n",
      "banana\n",
      "cherry\n"
     ]
    }
   ],
   "source": [
    "fruits = (\"apple\", \"banana\", \"cherry\")\n",
    "for x in range (len(fruits)):\n",
    "    print(fruits[x])"
   ]
  },
  {
   "cell_type": "markdown",
   "id": "e16544fa-f6ae-4989-9ee0-e2f41adb1bb2",
   "metadata": {},
   "source": [
    "6.2 Using a While Loop - use the len() function determine the length of tuple."
   ]
  },
  {
   "cell_type": "code",
   "execution_count": 4,
   "id": "9d4edf78-0d8b-4bad-b8b4-381b8889811e",
   "metadata": {},
   "outputs": [
    {
     "name": "stdout",
     "output_type": "stream",
     "text": [
      "apple\n",
      "banana\n",
      "cherry\n"
     ]
    }
   ],
   "source": [
    "fruits = (\"apple\", \"banana\", \"cherry\")\n",
    "i = 0\n",
    "while i<len(fruits):\n",
    "    print(fruits[i])\n",
    "    i = i+1"
   ]
  },
  {
   "cell_type": "markdown",
   "id": "e68f14cd-e8a5-40b7-a89b-b33bc65546d1",
   "metadata": {},
   "source": [
    "7.Join two tuples - TO join two or more then two tuples using + operator."
   ]
  },
  {
   "cell_type": "code",
   "execution_count": 6,
   "id": "ab6e319f-86b1-49ab-883b-fad7aadf65ef",
   "metadata": {},
   "outputs": [
    {
     "name": "stdout",
     "output_type": "stream",
     "text": [
      "(1, 2, 3, 5, 7, 8, 'apple', 'banana', 'cherry')\n"
     ]
    }
   ],
   "source": [
    "fruits = (\"apple\", \"banana\", \"cherry\")\n",
    "a = (1, 2, 3, 5, 7, 8)\n",
    "b = a+fruits\n",
    "print(b)"
   ]
  },
  {
   "cell_type": "markdown",
   "id": "821d8e18-42dc-485c-bc11-6235c49966c7",
   "metadata": {},
   "source": [
    "7.2 Multiple Tuples- use * opeartor"
   ]
  },
  {
   "cell_type": "code",
   "execution_count": 9,
   "id": "3f0e5e46-4b5f-4e6c-ba2f-80291767962a",
   "metadata": {},
   "outputs": [
    {
     "name": "stdout",
     "output_type": "stream",
     "text": [
      "('apple', 'banana', 'cherry', 'apple', 'banana', 'cherry', 'apple', 'banana', 'cherry')\n"
     ]
    }
   ],
   "source": [
    "fruits = (\"apple\", \"banana\", \"cherry\")\n",
    "a = fruits*3\n",
    "print(a)"
   ]
  },
  {
   "cell_type": "markdown",
   "id": "6c0f27a5-9794-4e01-ac47-fbef96bdb2d6",
   "metadata": {},
   "source": [
    "# Method Description"
   ]
  },
  {
   "cell_type": "markdown",
   "id": "aa94b8c5-cca7-4e71-be1b-312fe1d31617",
   "metadata": {},
   "source": [
    "python has two built-in methods that you can use on tuples.\n",
    "\n",
    "Method\tDescription\n",
    "1. count()\t= Returns the number of times a specified value occurs in a tuple\n",
    "2. index()\t= Searches the tuple for a specified value and returns the position of where it was found\n"
   ]
  },
  {
   "cell_type": "markdown",
   "id": "1c762cd6-ee35-4e4e-aa54-600db6a9c23d",
   "metadata": {},
   "source": [
    "<div style=\"background-color: darkgreen; color: black; padding: 6px;\">\n",
    "    <h3 style=\"text-align: center; color: white; font-size: 25px;\">Sets</h3>\n",
    "</h3> </div>"
   ]
  },
  {
   "cell_type": "markdown",
   "id": "affb2e43-d552-4f52-b5e7-c4d8af63b29e",
   "metadata": {},
   "source": [
    "# What is Set?"
   ]
  },
  {
   "cell_type": "markdown",
   "id": "c4cd29b6-af2d-419a-9dfe-94ea42bb0f3b",
   "metadata": {},
   "source": [
    "1. A set is an unodered, mutable, and unique collection of elements.\n",
    "2. Sets are useful when you need to store distinct items and perform set operation.\n",
    "3. Operation like union, intersection, and difference\n",
    "4. Sets are written with curly brackets\n",
    "   "
   ]
  },
  {
   "cell_type": "markdown",
   "id": "3e57a603-a2a2-450f-9a76-06040c11d8da",
   "metadata": {},
   "source": [
    "# Characteristics of sets"
   ]
  },
  {
   "cell_type": "markdown",
   "id": "32ad306e-8ec5-48d2-b705-021d1ffed9ff",
   "metadata": {},
   "source": [
    "1. Unordered : Elements do not have a fixed position.\n",
    "2. unique : No duplicate elements.\n",
    "3. Mutable : You can add or remove elements.\n",
    "4. Unindexed : No indexing or slicing.\n",
    "5. Supports set operation : Like union, intersection, and difference.\n"
   ]
  },
  {
   "cell_type": "markdown",
   "id": "18d54cd1-293e-477b-8614-5a118a9bb0e3",
   "metadata": {},
   "source": [
    "# Different Methods of Sets in a python"
   ]
  },
  {
   "cell_type": "markdown",
   "id": "b99137ce-814e-4cd0-b8f3-954de04dc6e1",
   "metadata": {},
   "source": [
    "# 1. Create a set"
   ]
  },
  {
   "cell_type": "code",
   "execution_count": 11,
   "id": "babeeebb-d1b2-422d-89b7-103b1df80407",
   "metadata": {},
   "outputs": [
    {
     "name": "stdout",
     "output_type": "stream",
     "text": [
      "{'apple', 'cherry', 'banana'}\n"
     ]
    }
   ],
   "source": [
    "b = {\"apple\",\"banana\",\"cherry\"}\n",
    "print(b)"
   ]
  },
  {
   "cell_type": "markdown",
   "id": "aff5c8b9-8c0d-4a7c-8b57-2149ebf0b54a",
   "metadata": {},
   "source": [
    "2. Duplicates are not allowed"
   ]
  },
  {
   "cell_type": "code",
   "execution_count": 13,
   "id": "04b70241-c9a7-49a6-a090-f42aa76e79e4",
   "metadata": {},
   "outputs": [
    {
     "name": "stdout",
     "output_type": "stream",
     "text": [
      "{'apple', 'cherry', 'banana'}\n"
     ]
    }
   ],
   "source": [
    "# duplicate value will be ignored\n",
    "b = {\"apple\",\"banana\",\"cherry\",\"apple\"}\n",
    "print(b)"
   ]
  },
  {
   "cell_type": "markdown",
   "id": "0a72e496-2ed5-45eb-9744-ae22647f6a7c",
   "metadata": {},
   "source": [
    "# 3. True and 1 is considered the same value in the set"
   ]
  },
  {
   "cell_type": "code",
   "execution_count": 14,
   "id": "572b1dee-6fe2-4bc0-b8b7-882573361e8e",
   "metadata": {},
   "outputs": [
    {
     "name": "stdout",
     "output_type": "stream",
     "text": [
      "{1}\n"
     ]
    }
   ],
   "source": [
    "set = {1,True}\n",
    "print(set)"
   ]
  },
  {
   "cell_type": "markdown",
   "id": "f570bd39-c8bf-464c-ac7b-0d781adc81d1",
   "metadata": {},
   "source": [
    "3. False and 0 is considered the same value in the set"
   ]
  },
  {
   "cell_type": "code",
   "execution_count": 15,
   "id": "59531e92-8332-48c6-878f-67c475728586",
   "metadata": {},
   "outputs": [
    {
     "name": "stdout",
     "output_type": "stream",
     "text": [
      "{False, True}\n"
     ]
    }
   ],
   "source": [
    "set = {False,True,0}\n",
    "print(set)"
   ]
  },
  {
   "cell_type": "code",
   "execution_count": 16,
   "id": "0d100e07-6363-4cd7-9ba7-84aa0ecc86a2",
   "metadata": {},
   "outputs": [
    {
     "name": "stdout",
     "output_type": "stream",
     "text": [
      "{0}\n"
     ]
    }
   ],
   "source": [
    "set = {0,False}\n",
    "print(set)"
   ]
  },
  {
   "cell_type": "markdown",
   "id": "76eae406-d560-4f23-8120-5d5792128431",
   "metadata": {},
   "source": [
    "4. Get the length of a set - to determine how many items a set has, use the len() function.\n",
    "   "
   ]
  },
  {
   "cell_type": "code",
   "execution_count": 17,
   "id": "65c781c6-430e-4d94-a48d-e1a0016653c4",
   "metadata": {},
   "outputs": [
    {
     "name": "stdout",
     "output_type": "stream",
     "text": [
      "3\n"
     ]
    }
   ],
   "source": [
    "b = {\"apple\",\"banana\",\"cherry\",\"apple\"}\n",
    "print(len(b))"
   ]
  },
  {
   "cell_type": "markdown",
   "id": "0135121c-ef17-4f05-86e8-de71dd210ff0",
   "metadata": {},
   "source": [
    "5. type() is used for defined the data type"
   ]
  },
  {
   "cell_type": "code",
   "execution_count": 19,
   "id": "d61908ab-6040-46d1-989c-c70cab8427a3",
   "metadata": {},
   "outputs": [
    {
     "name": "stdout",
     "output_type": "stream",
     "text": [
      "<class 'set'>\n"
     ]
    }
   ],
   "source": [
    "b = {\"apple\",\"banana\",\"cherry\",\"apple\"}\n",
    "print(type(b))"
   ]
  },
  {
   "cell_type": "markdown",
   "id": "da16e81e-fd59-4a3d-906d-4d3746b8ae65",
   "metadata": {},
   "source": [
    "6. Set contructor - It is possible to use the set() constuctor to make a set"
   ]
  },
  {
   "cell_type": "code",
   "execution_count": 21,
   "id": "af94f006-81be-46cd-abdb-cc8db46fc8bf",
   "metadata": {},
   "outputs": [
    {
     "name": "stdout",
     "output_type": "stream",
     "text": [
      "('apple', 'banana', 'cherry', 'apple')\n"
     ]
    }
   ],
   "source": [
    "b = ((\"apple\",\"banana\",\"cherry\",\"apple\"))\n",
    "print(b)# in which we use double round brackets rather then curly brackets"
   ]
  },
  {
   "cell_type": "markdown",
   "id": "f2df9e50-07fc-4798-91a7-22854fc3be6e",
   "metadata": {},
   "source": [
    "6. Remove set items - To remove an item in set, use the remove(),or the discard() method"
   ]
  },
  {
   "cell_type": "code",
   "execution_count": 23,
   "id": "ea08be75-6ba9-44b7-8466-02e2bedcdb4d",
   "metadata": {},
   "outputs": [
    {
     "name": "stdout",
     "output_type": "stream",
     "text": [
      "{'apple', 'cherry'}\n"
     ]
    }
   ],
   "source": [
    "thisset = {\"apple\",\"banana\",\"cherry\"}\n",
    "thisset.remove(\"banana\")\n",
    "print(thisset)\n"
   ]
  },
  {
   "cell_type": "code",
   "execution_count": 24,
   "id": "1912f399-b733-49aa-a84c-0eb61d88a7bd",
   "metadata": {},
   "outputs": [
    {
     "name": "stdout",
     "output_type": "stream",
     "text": [
      "{'apple', 'cherry'}\n"
     ]
    }
   ],
   "source": [
    "thisset = {\"apple\",\"banana\",\"cherry\"}\n",
    "thisset.discard(\"banana\")\n",
    "print(thisset)"
   ]
  },
  {
   "cell_type": "code",
   "execution_count": 25,
   "id": "8a0c4e2a-fe16-4bb9-b871-ae7bca6216cc",
   "metadata": {},
   "outputs": [
    {
     "name": "stdout",
     "output_type": "stream",
     "text": [
      "{'cherry', 'banana'}\n"
     ]
    }
   ],
   "source": [
    "# Remove a random items by using the pop() methods.\n",
    "thisset = {\"apple\",\"banana\",\"cherry\"}\n",
    "thisset.pop()\n",
    "print(thisset)\n"
   ]
  },
  {
   "cell_type": "markdown",
   "id": "04ff7486-1308-4121-a44b-b87fd5b54c2e",
   "metadata": {},
   "source": [
    "7. clear() - The clear() method empties the set"
   ]
  },
  {
   "cell_type": "code",
   "execution_count": 2,
   "id": "4947f5f7-1036-47cc-8a6d-f3d6149504ea",
   "metadata": {},
   "outputs": [
    {
     "name": "stdout",
     "output_type": "stream",
     "text": [
      "{'banana', 'cherry'}\n"
     ]
    }
   ],
   "source": [
    "thisset = {\"apple\",\"banana\",\"cherry\"}\n",
    "thisset.pop()\n",
    "print(thisset)\n",
    "\n"
   ]
  },
  {
   "cell_type": "markdown",
   "id": "485ed8e0-ab13-4748-8506-8a44fe2a18ae",
   "metadata": {},
   "source": [
    "8. Loop items - You can loop through the set item by using a for loops\n",
    "   "
   ]
  },
  {
   "cell_type": "code",
   "execution_count": 5,
   "id": "53ae9849-288d-407c-9dec-61b77cc3fe19",
   "metadata": {},
   "outputs": [
    {
     "name": "stdout",
     "output_type": "stream",
     "text": [
      "apple\n",
      "banana\n",
      "cherry\n"
     ]
    }
   ],
   "source": [
    "thisset = {\"apple\",\"banana\",\"cherry\"}\n",
    "for x in thisset:\n",
    "    print(x)\n"
   ]
  },
  {
   "cell_type": "markdown",
   "id": "3fd33254-b389-4bfa-aa89-d7081b9dd6ed",
   "metadata": {},
   "source": [
    "9. Join sets "
   ]
  },
  {
   "cell_type": "markdown",
   "id": "be537280-7766-4cb7-b1da-b3d713bcd888",
   "metadata": {},
   "source": [
    "There are several ways to join two or more sets in python"
   ]
  },
  {
   "cell_type": "markdown",
   "id": "7560b981-adb4-4732-893e-24846254cce8",
   "metadata": {},
   "source": [
    "1. The union() and update() methods joins all items from both sets\n",
    "2. The intersection() methods keeps only the duplicates.\n",
    "3. The difference() method keeps the items from the first set that are not in other set\n",
    "4. The symmetric_diffeence() method keeps all items except the duplicates."
   ]
  },
  {
   "cell_type": "markdown",
   "id": "70c42507-7f46-4cee-ace4-9f54619897ba",
   "metadata": {},
   "source": [
    "9.1 Join set1 and set2 into a new set:"
   ]
  },
  {
   "cell_type": "code",
   "execution_count": 1,
   "id": "f12ae37e-31a7-4972-a41a-67accb6bb661",
   "metadata": {},
   "outputs": [
    {
     "name": "stdout",
     "output_type": "stream",
     "text": [
      "{'a', 1, 2, 3, 'b', 'c'}\n"
     ]
    }
   ],
   "source": [
    "set1 = {\"a\", \"b\", \"c\"}\n",
    "set2 = {1, 2, 3}\n",
    "\n",
    "set3 = set1.union(set2)\n",
    "print(set3)"
   ]
  },
  {
   "cell_type": "markdown",
   "id": "8b806c9d-89fb-43ee-b338-fabcd11cd8c9",
   "metadata": {},
   "source": [
    "9.2 Use | to join two sets:"
   ]
  },
  {
   "cell_type": "code",
   "execution_count": 2,
   "id": "b434a16a-5207-4551-9e07-1b1b5f502e2b",
   "metadata": {},
   "outputs": [
    {
     "name": "stdout",
     "output_type": "stream",
     "text": [
      "{'a', 1, 2, 3, 'b', 'c'}\n"
     ]
    }
   ],
   "source": [
    "set1 = {\"a\", \"b\", \"c\"}\n",
    "set2 = {1, 2, 3}\n",
    "\n",
    "set3 = set1 | set2\n",
    "print(set3)"
   ]
  },
  {
   "cell_type": "markdown",
   "id": "0f1a0669-5cb3-4f58-a2f6-54ac39bbbadb",
   "metadata": {},
   "source": [
    "9.3 Join multiple sets with the union() method:"
   ]
  },
  {
   "cell_type": "code",
   "execution_count": 3,
   "id": "6a7d98ee-26f8-4378-836f-a8ab22fe5281",
   "metadata": {},
   "outputs": [
    {
     "name": "stdout",
     "output_type": "stream",
     "text": [
      "{1, 2, 3, 'Elena', 'cherry', 'bananas', 'a', 'John', 'b', 'apple', 'c'}\n"
     ]
    }
   ],
   "source": [
    "set1 = {\"a\", \"b\", \"c\"}\n",
    "set2 = {1, 2, 3}\n",
    "set3 = {\"John\", \"Elena\"}\n",
    "set4 = {\"apple\", \"bananas\", \"cherry\"}\n",
    "\n",
    "myset = set1.union(set2, set3, set4)\n",
    "print(myset)"
   ]
  },
  {
   "cell_type": "markdown",
   "id": "3ca6e284-4ff7-4051-b770-4e5cd9aef683",
   "metadata": {},
   "source": [
    "9.4 Join a set with a tuple:"
   ]
  },
  {
   "cell_type": "code",
   "execution_count": 4,
   "id": "a560cfcd-6578-46f8-92d4-d2133662c30f",
   "metadata": {},
   "outputs": [
    {
     "name": "stdout",
     "output_type": "stream",
     "text": [
      "{1, 2, 3, 'a', 'b', 'c'}\n"
     ]
    }
   ],
   "source": [
    "x = {\"a\", \"b\", \"c\"}\n",
    "y = (1, 2, 3)\n",
    "\n",
    "z = x.union(y)\n",
    "print(z)"
   ]
  },
  {
   "cell_type": "markdown",
   "id": "8b5ed31d-501a-4910-8507-9574fcfe7043",
   "metadata": {},
   "source": [
    "9.5 The update() method inserts the items in set2 into set1:"
   ]
  },
  {
   "cell_type": "code",
   "execution_count": 5,
   "id": "317e5f96-d76d-4bb4-9b46-c7c1a0caa2fc",
   "metadata": {},
   "outputs": [
    {
     "name": "stdout",
     "output_type": "stream",
     "text": [
      "{'a', 1, 2, 3, 'b', 'c'}\n"
     ]
    }
   ],
   "source": [
    "set1 = {\"a\", \"b\" , \"c\"}\n",
    "set2 = {1, 2, 3}\n",
    "\n",
    "set1.update(set2)\n",
    "print(set1)"
   ]
  },
  {
   "cell_type": "markdown",
   "id": "4f2c17b6-35ee-478e-88ee-cd88df2f3304",
   "metadata": {},
   "source": [
    "9.6 The intersection() method will return a new set, that only contains the items that are present in both sets."
   ]
  },
  {
   "cell_type": "code",
   "execution_count": 6,
   "id": "264d25dd-31f5-4530-a87a-f8fc65bf0084",
   "metadata": {},
   "outputs": [
    {
     "name": "stdout",
     "output_type": "stream",
     "text": [
      "{'apple'}\n"
     ]
    }
   ],
   "source": [
    "set1 = {\"apple\", \"banana\", \"cherry\"}\n",
    "set2 = {\"google\", \"microsoft\", \"apple\"}\n",
    "\n",
    "set3 = set1.intersection(set2)\n",
    "print(set3)"
   ]
  },
  {
   "cell_type": "markdown",
   "id": "5dddb0b8-b012-4a8f-aa35-6bbdf5638204",
   "metadata": {},
   "source": [
    "9.7 You can use the & operator instead of the intersection() method, and you will get the same result."
   ]
  },
  {
   "cell_type": "code",
   "execution_count": 7,
   "id": "7cf3480d-dc9e-49fb-a67d-ff238ec3d248",
   "metadata": {},
   "outputs": [
    {
     "name": "stdout",
     "output_type": "stream",
     "text": [
      "{'apple'}\n"
     ]
    }
   ],
   "source": [
    "set1 = {\"apple\", \"banana\", \"cherry\"}\n",
    "set2 = {\"google\", \"microsoft\", \"apple\"}\n",
    "\n",
    "set3 = set1 & set2\n",
    "print(set3)"
   ]
  },
  {
   "cell_type": "markdown",
   "id": "fe671691-e9f1-480c-a017-a7a32380532f",
   "metadata": {},
   "source": [
    "9.8 The intersection_update() method will also keep ONLY the duplicates, but it will change the original set instead of returning a new set."
   ]
  },
  {
   "cell_type": "code",
   "execution_count": 8,
   "id": "54691535-acd3-4bd6-bb72-6a7fa66fb143",
   "metadata": {},
   "outputs": [
    {
     "name": "stdout",
     "output_type": "stream",
     "text": [
      "{'apple'}\n"
     ]
    }
   ],
   "source": [
    "set1 = {\"apple\", \"banana\", \"cherry\"}\n",
    "set2 = {\"google\", \"microsoft\", \"apple\"}\n",
    "\n",
    "set1.intersection_update(set2)\n",
    "\n",
    "print(set1)"
   ]
  },
  {
   "cell_type": "markdown",
   "id": "7155ef11-3579-4856-a60b-5025a924a7a7",
   "metadata": {},
   "source": [
    "9.9 The difference() method will return a new set that will contain only the items from the first set that are not present in the other set"
   ]
  },
  {
   "cell_type": "code",
   "execution_count": 9,
   "id": "2704a697-0001-4bed-938e-d35700fbbd4e",
   "metadata": {},
   "outputs": [
    {
     "name": "stdout",
     "output_type": "stream",
     "text": [
      "{'banana', 'cherry'}\n"
     ]
    }
   ],
   "source": [
    "set1 = {\"apple\", \"banana\", \"cherry\"}\n",
    "set2 = {\"google\", \"microsoft\", \"apple\"}\n",
    "\n",
    "set3 = set1.difference(set2)\n",
    "\n",
    "print(set3)"
   ]
  },
  {
   "cell_type": "markdown",
   "id": "1e30e428-a489-4fd8-a854-b1272535daaa",
   "metadata": {},
   "source": [
    "9.10 You can use the - operator instead of the difference() method, and you will get the same result"
   ]
  },
  {
   "cell_type": "code",
   "execution_count": 10,
   "id": "d0982a48-80ce-46a5-9293-e565d24e5214",
   "metadata": {},
   "outputs": [
    {
     "name": "stdout",
     "output_type": "stream",
     "text": [
      "{'banana', 'cherry'}\n"
     ]
    }
   ],
   "source": [
    "set1 = {\"apple\", \"banana\", \"cherry\"}\n",
    "set2 = {\"google\", \"microsoft\", \"apple\"}\n",
    "\n",
    "set3 = set1 - set2\n",
    "print(set3)"
   ]
  },
  {
   "cell_type": "markdown",
   "id": "6a65a991-4815-4c7b-9aac-5e841c428867",
   "metadata": {},
   "source": [
    "# Method\tShortcut\tDescription"
   ]
  },
  {
   "cell_type": "markdown",
   "id": "d514847d-6b70-46ce-91db-887b690bf9b7",
   "metadata": {},
   "source": [
    "\n",
    "\n",
    "1. add()\t \t           Adds an element to the set\n",
    "2. clear()\t \t           Removes all the elements from the set\n",
    "3. copy()\t \t           Returns a copy of the set\n",
    "4. difference()-\t       Returns a set containing the difference between two or more sets\n",
    "5. difference_update()-=   Removes the items in this set that are also included in another, specified set\n",
    "6. discard()\t \t       Remove the specified item\n",
    "7. intersection()&\t       Returns a set, that is the intersection of two other sets\n",
    "8. intersection_update()&= Removes the items in this set that are not present in other, specified set(s)\n",
    "9. isdisjoint()\t \t       Returns whether two sets have a intersection or not\r",
    "10. \n",
    "issubset( \t<=       \tReturns whether another set contains this set or notand others"
   ]
  },
  {
   "cell_type": "markdown",
   "id": "6215648c-cb67-4d60-898c-b4e5a492bc2e",
   "metadata": {},
   "source": [
    "<div style=\"background-color: darkgreen; color: black; padding: 6px;\">\n",
    "    <h3 style=\"text-align: center; color: white; font-size: 25px;\">Dictionaries</h3>\n",
    "</h3> </div>"
   ]
  },
  {
   "cell_type": "markdown",
   "id": "691cc98b-5854-43ae-9a36-1137e0385fcf",
   "metadata": {},
   "source": [
    "# What is Dictionary?"
   ]
  },
  {
   "cell_type": "markdown",
   "id": "9ed07b50-7bf9-4dfb-b7b5-c8100a7b4f8a",
   "metadata": {},
   "source": [
    "1. A dictionary is a built in data structure that store data in key-value.\n",
    "2. It is unordered ,mutable, and does not allow duplicate keys.\n",
    "3. In which we used the curly brackets.\n",
    "   "
   ]
  },
  {
   "cell_type": "markdown",
   "id": "9a74787e-b06c-4ddb-8012-d4abecfa28a5",
   "metadata": {},
   "source": [
    "# Key Characteristics:\n"
   ]
  },
  {
   "cell_type": "markdown",
   "id": "430a0adc-9033-4090-b499-7f326631bfa0",
   "metadata": {},
   "source": [
    "1. Key-Value Pairs: Each item in a dictionary is a pair consisting of a key and a value.\n",
    "2. Mutable:    You can change the values or add new key-value pairs.\n",
    "3. Unordered:  Dictionaries don't guarantee the order of items until Python 3.7+. Starting from Python 3.7+,                  they maintain insertion order.\n",
    "4. Unique Keys: Keys in a dictionary must be unique. If you try to add a key that already exists, it will                      overwrite the existing value for that key."
   ]
  },
  {
   "cell_type": "markdown",
   "id": "9f4321f7-601a-447d-8cf3-12f9b9d84a4f",
   "metadata": {},
   "source": [
    "# 1. Creating a Dictionary"
   ]
  },
  {
   "cell_type": "code",
   "execution_count": 1,
   "id": "177c40e8-de2a-4479-ac57-302538885a30",
   "metadata": {},
   "outputs": [
    {
     "name": "stdout",
     "output_type": "stream",
     "text": [
      "{'name': 'kanchan', 'age': 20, 'branch': 'AI/ML'}\n"
     ]
    }
   ],
   "source": [
    "# using curly braces\n",
    "student = {\"name\":\"kanchan\",\"age\":20,\"branch\":\"AI/ML\"}\n",
    "print(student)\n",
    "           "
   ]
  },
  {
   "cell_type": "markdown",
   "id": "4eeff9cc-d1a6-4ffd-9248-8b02cb4e9991",
   "metadata": {},
   "source": [
    "# 2. Accessing values"
   ]
  },
  {
   "cell_type": "code",
   "execution_count": 3,
   "id": "dd516434-10a2-4e8f-ae17-789aa6342182",
   "metadata": {},
   "outputs": [
    {
     "name": "stdout",
     "output_type": "stream",
     "text": [
      "kanchan\n",
      "20\n"
     ]
    }
   ],
   "source": [
    "student = {\"name\":\"kanchan\",\"age\":20,\"branch\":\"AI/ML\"}\n",
    "print(student[\"name\"])\n",
    "print(student[\"age\"])"
   ]
  },
  {
   "cell_type": "markdown",
   "id": "5d71759e-7b47-4321-9a33-17e7c45501ed",
   "metadata": {},
   "source": [
    "# 3.Ordered or Unordered?"
   ]
  },
  {
   "cell_type": "markdown",
   "id": "eca8a1a9-2441-48a5-8369-08316164f56b",
   "metadata": {},
   "source": [
    "1. When we say that dictionaries are ordered, it means that the items have a defined order, and that order will not change.\n",
    "2. Unordered means that the items do not have a defined order, you cannot refer to an item by using an index.\n",
    "3. As of Python version 3.7, dictionaries are ordered. In Python 3.6 and earlier, dictionaries are unordered"
   ]
  },
  {
   "cell_type": "markdown",
   "id": "496245ef-06a9-42b4-a8c2-40eee6f85b44",
   "metadata": {},
   "source": [
    "# 4.Changeable\n"
   ]
  },
  {
   "cell_type": "markdown",
   "id": "62b9fae8-6cbf-4124-91d9-b9811845b5eb",
   "metadata": {},
   "source": [
    "\n",
    "Dictionaries are changeable, meaning that we can change, add or remove items after the dictionary has been created."
   ]
  },
  {
   "cell_type": "code",
   "execution_count": 5,
   "id": "0804f82a-e9fe-41ab-ab3f-df5516968aa1",
   "metadata": {},
   "outputs": [
    {
     "name": "stdout",
     "output_type": "stream",
     "text": [
      "{'name': 'Alice', 'age': 26, 'job': 'Engineer'}\n"
     ]
    }
   ],
   "source": [
    "# Creating a dictionary\n",
    "person = {\n",
    "    \"name\": \"Alice\",\n",
    "    \"age\": 25,\n",
    "    \"city\": \"New York\"\n",
    "}\n",
    "\n",
    "# Modifying an existing value\n",
    "person[\"age\"] = 26\n",
    "\n",
    "# Adding a new key-value pair\n",
    "person[\"job\"] = \"Engineer\"\n",
    "\n",
    "# Removing a key-value pair\n",
    "del person[\"city\"]\n",
    "\n",
    "# Printing the updated dictionary\n",
    "print(person)\n"
   ]
  },
  {
   "cell_type": "markdown",
   "id": "2a65438f-ff9f-4204-be0d-0063e94f8d0f",
   "metadata": {},
   "source": [
    "# 5.Duplicates Not Allowed\n"
   ]
  },
  {
   "cell_type": "code",
   "execution_count": 4,
   "id": "28e580f0-8b46-4e65-8909-41a9fe1e5927",
   "metadata": {},
   "outputs": [
    {
     "name": "stdout",
     "output_type": "stream",
     "text": [
      "{'brand': 'Ford', 'model': 'Mustang', 'year': 2020}\n"
     ]
    }
   ],
   "source": [
    "thisdict = {\n",
    "  \"brand\": \"Ford\",\n",
    "  \"model\": \"Mustang\",\n",
    "  \"year\": 1964,\n",
    "  \"year\": 2020\n",
    "}\n",
    "print(thisdict)"
   ]
  },
  {
   "cell_type": "markdown",
   "id": "c82b48a6-3749-43da-99d7-9556aa596409",
   "metadata": {},
   "source": [
    "# 6.Dictionary Length"
   ]
  },
  {
   "cell_type": "code",
   "execution_count": 6,
   "id": "61b68b65-048b-400a-82f0-a6f47585c6f4",
   "metadata": {},
   "outputs": [
    {
     "name": "stdout",
     "output_type": "stream",
     "text": [
      "3\n"
     ]
    }
   ],
   "source": [
    "#Print the number of items in the dictionary:\n",
    "print(len(thisdict))"
   ]
  },
  {
   "cell_type": "markdown",
   "id": "af704398-31a4-4057-8d34-b2f2f05d7610",
   "metadata": {},
   "source": [
    "# 7.Dictionary Items - Data Types"
   ]
  },
  {
   "cell_type": "code",
   "execution_count": 7,
   "id": "58a49af6-9925-4a7a-af26-2cdfaa4afbcc",
   "metadata": {},
   "outputs": [
    {
     "data": {
      "text/plain": [
       "{'brand': 'Ford',\n",
       " 'electric': False,\n",
       " 'year': 1964,\n",
       " 'colors': ['red', 'white', 'blue']}"
      ]
     },
     "execution_count": 7,
     "metadata": {},
     "output_type": "execute_result"
    }
   ],
   "source": [
    "#String, int, boolean, and list data types:\n",
    "thisdict = {\n",
    "  \"brand\": \"Ford\",\n",
    "  \"electric\": False,\n",
    "  \"year\": 1964,\n",
    "  \"colors\": [\"red\", \"white\", \"blue\"]\n",
    "}\n",
    "thisdict"
   ]
  },
  {
   "cell_type": "markdown",
   "id": "720ceb39-4d9b-44a8-aed4-9694f44e01bf",
   "metadata": {},
   "source": [
    "# 8.Update Dictionary\n"
   ]
  },
  {
   "cell_type": "markdown",
   "id": "7ec9b27c-0d5a-49dd-a7f0-8ce4d9304491",
   "metadata": {},
   "source": [
    "Update the \"year\" of the car by using the update() method:"
   ]
  },
  {
   "cell_type": "code",
   "execution_count": 6,
   "id": "a7c550ca-d4c2-4d8e-aee3-1eff74259851",
   "metadata": {},
   "outputs": [
    {
     "name": "stdout",
     "output_type": "stream",
     "text": [
      "{'brand': 'Ford', 'model': 'Mustang', 'year': 2020}\n"
     ]
    }
   ],
   "source": [
    "thisdict = {\n",
    "  \"brand\": \"Ford\",\n",
    "  \"model\": \"Mustang\",\n",
    "  \"year\": 1964\n",
    "}\n",
    "thisdict.update({\"year\": 2020})\n",
    "print(thisdict)"
   ]
  },
  {
   "cell_type": "markdown",
   "id": "f44247cb-a4f2-4b4f-972e-87d16e95c4cf",
   "metadata": {},
   "source": [
    "# 9.Adding Items"
   ]
  },
  {
   "cell_type": "markdown",
   "id": "b26f9960-759e-4225-bab4-50f7a7c80035",
   "metadata": {},
   "source": [
    "\n",
    "Adding an item to the dictionary is done by using a new index key and assigning a value to it:"
   ]
  },
  {
   "cell_type": "code",
   "execution_count": 8,
   "id": "95bd9b1c-67a9-47ba-a576-71a925b5d7a7",
   "metadata": {},
   "outputs": [
    {
     "name": "stdout",
     "output_type": "stream",
     "text": [
      "{'brand': 'Ford', 'model': 'Mustang', 'year': 1964, 'color': 'red'}\n"
     ]
    }
   ],
   "source": [
    " thisdict = {\n",
    "  \"brand\": \"Ford\",\n",
    "  \"model\": \"Mustang\",\n",
    "  \"year\": 1964\n",
    "}\n",
    "thisdict[\"color\"] = \"red\"\n",
    "print(thisdict)"
   ]
  },
  {
   "cell_type": "markdown",
   "id": "0fcf4ef6-9b38-47d8-9232-75b44c0ff534",
   "metadata": {},
   "source": [
    "# 10.Removing Items\n"
   ]
  },
  {
   "cell_type": "markdown",
   "id": "01dcfde1-98e8-4b01-89b4-2c02b74d49b9",
   "metadata": {},
   "source": [
    "10.1 The pop() method removes the item with the specified key name:"
   ]
  },
  {
   "cell_type": "code",
   "execution_count": 11,
   "id": "01be363c-c34f-41f4-a5eb-e43ae96964e2",
   "metadata": {},
   "outputs": [
    {
     "name": "stdout",
     "output_type": "stream",
     "text": [
      "{'name': 'kanchan', 'branch': 'AI/ML'}\n"
     ]
    }
   ],
   "source": [
    "student = {\"name\":\"kanchan\",\"age\":20,\"branch\":\"AI/ML\"}\n",
    "student.pop(\"age\")\n",
    "print(student)\n",
    "           "
   ]
  },
  {
   "cell_type": "markdown",
   "id": "3bca9ee4-c568-4edb-988d-8073a1f07e6b",
   "metadata": {},
   "source": [
    "10.2 The popitem() method removes the last inserted item."
   ]
  },
  {
   "cell_type": "code",
   "execution_count": 12,
   "id": "84cc0500-b404-4711-bf2e-9c495d3d3b80",
   "metadata": {},
   "outputs": [
    {
     "name": "stdout",
     "output_type": "stream",
     "text": [
      "{'name': 'kanchan', 'age': 20}\n"
     ]
    }
   ],
   "source": [
    "student = {\"name\":\"kanchan\",\"age\":20,\"branch\":\"AI/ML\"}\n",
    "student.popitem()\n",
    "print(student)"
   ]
  },
  {
   "cell_type": "markdown",
   "id": "7ba1cb09-9f9a-438a-8635-013c78ee4e33",
   "metadata": {},
   "source": [
    "10.3 The del keyword removes the item with the specified key name:"
   ]
  },
  {
   "cell_type": "code",
   "execution_count": 14,
   "id": "774f21bc-c655-4172-b12a-2930d8c2852f",
   "metadata": {},
   "outputs": [
    {
     "name": "stdout",
     "output_type": "stream",
     "text": [
      "{'name': 'kanchan', 'branch': 'AI/ML'}\n"
     ]
    }
   ],
   "source": [
    "student = {\"name\":\"kanchan\",\"age\":20,\"branch\":\"AI/ML\"}\n",
    "del student[\"age\"]\n",
    "print(student)"
   ]
  },
  {
   "cell_type": "markdown",
   "id": "5c35b369-6919-4cb0-a6bd-f12a7f9e3b4d",
   "metadata": {},
   "source": [
    "10.4 The clear() method empties the dictionary:"
   ]
  },
  {
   "cell_type": "code",
   "execution_count": 15,
   "id": "49e38f6a-2879-45e3-a8ef-048bda534c35",
   "metadata": {},
   "outputs": [
    {
     "name": "stdout",
     "output_type": "stream",
     "text": [
      "{}\n"
     ]
    }
   ],
   "source": [
    "student = {\"name\":\"kanchan\",\"age\":20,\"branch\":\"AI/ML\"}\n",
    "student.clear()\n",
    "print(student)"
   ]
  },
  {
   "cell_type": "markdown",
   "id": "29946431-85ca-4ae2-9d13-0c0552e521d2",
   "metadata": {},
   "source": [
    "# 11.Copy a Dictionary"
   ]
  },
  {
   "cell_type": "markdown",
   "id": "4797f47e-ce43-4761-a6a4-07c753fdb41c",
   "metadata": {},
   "source": [
    "Make a copy of a dictionary with the copy() method:"
   ]
  },
  {
   "cell_type": "code",
   "execution_count": 16,
   "id": "e17c1373-373d-4d67-9912-753e9b9bf08a",
   "metadata": {},
   "outputs": [
    {
     "name": "stdout",
     "output_type": "stream",
     "text": [
      "{'name': 'kanchan', 'age': 20, 'branch': 'AI/ML'}\n"
     ]
    }
   ],
   "source": [
    "student = {\"name\":\"kanchan\",\"age\":20,\"branch\":\"AI/ML\"}\n",
    "student2 = student.copy()\n",
    "print(student)"
   ]
  },
  {
   "cell_type": "markdown",
   "id": "cedd5e43-0a28-4ec0-8a62-bef191e8585e",
   "metadata": {},
   "source": [
    "11.1 Make a copy of a dictionary with the dict() function:\n"
   ]
  },
  {
   "cell_type": "code",
   "execution_count": 18,
   "id": "9cbb0ab7-710a-436d-a10f-eb17566b182f",
   "metadata": {},
   "outputs": [
    {
     "name": "stdout",
     "output_type": "stream",
     "text": [
      "{'name': 'kanchan', 'age': 20, 'branch': 'AI/ML'}\n"
     ]
    }
   ],
   "source": [
    "student = {\"name\":\"kanchan\",\"age\":20,\"branch\":\"AI/ML\"}\n",
    "student2 = dict(student)\n",
    "print(student2)"
   ]
  },
  {
   "cell_type": "markdown",
   "id": "2283dd7a-692e-44bd-8a92-64407f484b6e",
   "metadata": {},
   "source": [
    "# 12. Loop Through a Dictionary\n"
   ]
  },
  {
   "cell_type": "markdown",
   "id": "6a5b496b-fc20-4a53-8178-f44d4e02340c",
   "metadata": {},
   "source": [
    "You can loop through a dictionary by using a for loop"
   ]
  },
  {
   "cell_type": "code",
   "execution_count": 20,
   "id": "124419fe-847f-451a-a434-a9049eb71762",
   "metadata": {},
   "outputs": [
    {
     "name": "stdout",
     "output_type": "stream",
     "text": [
      "name\n",
      "age\n",
      "branch\n"
     ]
    }
   ],
   "source": [
    "student = {\"name\":\"kanchan\",\"age\":20,\"branch\":\"AI/ML\"}\n",
    "for x in student:\n",
    "  print(x)\n"
   ]
  },
  {
   "cell_type": "markdown",
   "id": "6b691017-b1f3-4d6c-b8a7-5a95d219541e",
   "metadata": {},
   "source": [
    "12.1 you can also use the values() method to return values of a dictionary:"
   ]
  },
  {
   "cell_type": "code",
   "execution_count": 21,
   "id": "4ccaafe4-df3a-4b0a-8b33-85e4e1c558c5",
   "metadata": {},
   "outputs": [
    {
     "name": "stdout",
     "output_type": "stream",
     "text": [
      "kanchan\n",
      "20\n",
      "AI/ML\n"
     ]
    }
   ],
   "source": [
    "for x in student.values():\n",
    "  print(x)"
   ]
  },
  {
   "cell_type": "markdown",
   "id": "039973b9-145a-4e2a-a935-fbaf175fb969",
   "metadata": {},
   "source": [
    "\n",
    "12.2 You can use the keys() method to return the keys of a dictionary:"
   ]
  },
  {
   "cell_type": "code",
   "execution_count": 23,
   "id": "5d2996b8-04cd-4a0d-95d5-50373ac1f03d",
   "metadata": {},
   "outputs": [
    {
     "name": "stdout",
     "output_type": "stream",
     "text": [
      "name\n",
      "age\n",
      "branch\n"
     ]
    }
   ],
   "source": [
    "for x in student.keys():\n",
    "  print(x)"
   ]
  },
  {
   "cell_type": "markdown",
   "id": "28bcb5f7-84ee-4e95-a589-0e3cd220f9b7",
   "metadata": {},
   "source": [
    "\n",
    "12.3 Loop through both keys and values, by using the items() method:"
   ]
  },
  {
   "cell_type": "markdown",
   "id": "8f206e42-c8e0-4098-b6ba-96d674fca1bc",
   "metadata": {},
   "source": [
    "# 13.Nested Dictionaries\n"
   ]
  },
  {
   "cell_type": "code",
   "execution_count": 27,
   "id": "e190a78f-23a5-499d-8fca-617f24aebeb0",
   "metadata": {},
   "outputs": [
    {
     "data": {
      "text/plain": [
       "{'child1': {'name': 'Emil', 'year': 2004},\n",
       " 'child2': {'name': 'Tobias', 'year': 2007},\n",
       " 'child3': {'name': 'Linus', 'year': 2011}}"
      ]
     },
     "execution_count": 27,
     "metadata": {},
     "output_type": "execute_result"
    }
   ],
   "source": [
    "myfamily = {\n",
    "  \"child1\" : {\n",
    "    \"name\" : \"Emil\",\n",
    "    \"year\" : 2004\n",
    "  },\n",
    "  \"child2\" : {\n",
    "    \"name\" : \"Tobias\",\n",
    "    \"year\" : 2007\n",
    "  },\n",
    "  \"child3\" : {\n",
    "    \"name\" : \"Linus\",\n",
    "    \"year\" : 2011\n",
    "  }\n",
    "}\n",
    "myfamily\n"
   ]
  },
  {
   "cell_type": "markdown",
   "id": "0c9b1092-ee9a-4741-8781-409ea68d8d75",
   "metadata": {},
   "source": [
    "\n",
    "# Method Description"
   ]
  },
  {
   "cell_type": "markdown",
   "id": "e950f9a9-1f70-4341-8074-5d483b6f6c4a",
   "metadata": {},
   "source": [
    "\n",
    "Method\t    Description\n",
    "1. clear()\t :   Removes all the elements from the dictionary\n",
    "2. copy():\t    Returns a copy of the dictionary\n",
    "3. fromkeys():\tReturns a dictionary with the specified keys and value\n",
    "4. get()\t:    Returns the value of the specified key\n",
    "5. items()\t:    Returns a list containing a tuple for each key value pair\n",
    "6. keys()\t:    Returns a list containing the dictionary's keys\n",
    "7. pop()\t:    Removes the element with the specified key\n",
    "8. popitem():\tRemoves the last inserted key-value pair\n",
    "9. setdefault() :Returns the value of the specified key. If the key does not exist: insert the key, with the specified value\n",
    "10. update():\tUpdates the dictionary with the specified key-value pairs\n",
    "11.values():\t Returns a list of all the values in the dictionary"
   ]
  },
  {
   "cell_type": "markdown",
   "id": "b69ed7ea-1940-434d-bb2d-601d07994783",
   "metadata": {},
   "source": [
    "<div style=\"background-color: lightblue; color: white; padding: 10px; text-align: center;\">\n",
    "    <h1>_________________________________END________________________________\n",
    "<!--- Devashish Kumar | Tech Skills Trainer | CodroidHub Private Limited | AI/ML Consultant --->\n",
    "    </h1> </div>"
   ]
  },
  {
   "cell_type": "markdown",
   "id": "13e86481-eae2-4019-9515-66a43a30f0fb",
   "metadata": {},
   "source": [
    "<div style=\"background-color: #002147; color: #fff; padding: 30px; text-align: center;\">\n",
    "    <h1>THANK YOU!\n",
    "        <!--- Devashish Kumar | Tech Skills Trainer | CodroidHub Private Limited | AI/ML Consultant --->\n",
    "</h1> </div>"
   ]
  },
  {
   "cell_type": "markdown",
   "id": "5454f2e3-4fa4-48f9-936a-35be52d769af",
   "metadata": {},
   "source": [
    "<!--- Mohammad Idrees Bhat | Mohammad Idrees Bhat --->"
   ]
  },
  {
   "cell_type": "markdown",
   "id": "15cc27b3-58d0-431e-8121-f1b4c08377c7",
   "metadata": {},
   "source": [
    "<!--- Devashish Kumar | Tech Skills Trainer | CodroidHub Private Limited | AI/ML Consultant --->"
   ]
  },
  {
   "cell_type": "code",
   "execution_count": null,
   "id": "4b3db7c3-7371-43cb-8555-fe00d1e392e4",
   "metadata": {},
   "outputs": [],
   "source": []
  }
 ],
 "metadata": {
  "kernelspec": {
   "display_name": "Python 3 (ipykernel)",
   "language": "python",
   "name": "python3"
  },
  "language_info": {
   "codemirror_mode": {
    "name": "ipython",
    "version": 3
   },
   "file_extension": ".py",
   "mimetype": "text/x-python",
   "name": "python",
   "nbconvert_exporter": "python",
   "pygments_lexer": "ipython3",
   "version": "3.12.4"
  }
 },
 "nbformat": 4,
 "nbformat_minor": 5
}

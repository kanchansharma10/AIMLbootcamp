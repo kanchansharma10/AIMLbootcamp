{
 "cells": [
  {
   "cell_type": "code",
   "execution_count": 3,
   "id": "5681f94c-ea3f-4da6-8628-00aff361b984",
   "metadata": {},
   "outputs": [
    {
     "name": "stdout",
     "output_type": "stream",
     "text": [
      "hello world\n"
     ]
    }
   ],
   "source": [
    "print(\"hello world\")"
   ]
  },
  {
   "cell_type": "code",
   "execution_count": 4,
   "id": "a9e34c81-540b-49bc-bd81-b64e688cd03a",
   "metadata": {},
   "outputs": [
    {
     "name": "stdout",
     "output_type": "stream",
     "text": [
      "hello world\n"
     ]
    }
   ],
   "source": [
    "print('hello world')"
   ]
  },
  {
   "cell_type": "code",
   "execution_count": 5,
   "id": "21a8578d-fa9a-434c-9b0d-ca8e114484da",
   "metadata": {},
   "outputs": [
    {
     "ename": "SyntaxError",
     "evalue": "invalid syntax. Perhaps you forgot a comma? (2497053111.py, line 1)",
     "output_type": "error",
     "traceback": [
      "\u001b[1;36m  Cell \u001b[1;32mIn[5], line 1\u001b[1;36m\u001b[0m\n\u001b[1;33m    print(hello world)\u001b[0m\n\u001b[1;37m          ^\u001b[0m\n\u001b[1;31mSyntaxError\u001b[0m\u001b[1;31m:\u001b[0m invalid syntax. Perhaps you forgot a comma?\n"
     ]
    }
   ],
   "source": [
    "print(hello world)# syntax error"
   ]
  },
  {
   "cell_type": "markdown",
   "id": "f19010e0-69b4-4328-8d9d-21aa17338c73",
   "metadata": {},
   "source": [
    "There are two types of error\n",
    "syntax error and other one semantic eror\n",
    "syntax error : issue with grammer of the language\n",
    "semantic error : issue with logic"
   ]
  },
  {
   "cell_type": "code",
   "execution_count": 12,
   "id": "e625c190-03c8-4892-af88-ae4aa8a5f24e",
   "metadata": {},
   "outputs": [
    {
     "name": "stdout",
     "output_type": "stream",
     "text": [
      "-10\n"
     ]
    }
   ],
   "source": [
    "# aim to print the sum of two numbers\n",
    "num1 = 10\n",
    "num2 = 20\n",
    "sum = num1-num2 # semantic error\n",
    "print(sum)"
   ]
  },
  {
   "cell_type": "code",
   "execution_count": 20,
   "id": "4ecca3e2-c64b-4899-a81a-caa7613958d0",
   "metadata": {},
   "outputs": [
    {
     "name": "stdout",
     "output_type": "stream",
     "text": [
      "value of num1 10 and value of num2 20\n",
      "sum of two num 30\n"
     ]
    }
   ],
   "source": [
    "num1 = 10\n",
    "num2 = 20\n",
    "sum = num1+num2\n",
    "print(f\"value of num1 {num1} and value of num2 {num2}\")\n",
    "print(f\"sum of two num {num1+num2}\")"
   ]
  },
  {
   "cell_type": "code",
   "execution_count": 15,
   "id": "28cb029d-0a89-4eb2-99f5-4638402040b0",
   "metadata": {},
   "outputs": [
    {
     "name": "stdin",
     "output_type": "stream",
     "text": [
      "enter the age 8\n"
     ]
    },
    {
     "name": "stdout",
     "output_type": "stream",
     "text": [
      " not eligible for vote\n"
     ]
    }
   ],
   "source": [
    "# wap to check the eligibility for vote\n",
    "age = int(input(\"enter the age\"))\n",
    "if age > 18:\n",
    "    print(\"eligible for vote\")\n",
    "else:\n",
    "    print(\" not eligible for vote\")"
   ]
  },
  {
   "cell_type": "code",
   "execution_count": 3,
   "id": "d747aa6b-f346-4808-99ac-bb12ac32934d",
   "metadata": {},
   "outputs": [
    {
     "name": "stdin",
     "output_type": "stream",
     "text": [
      "enter a num 87\n",
      "enter a num 76\n"
     ]
    },
    {
     "name": "stdout",
     "output_type": "stream",
     "text": [
      "1-add \n",
      " 2-sub \n",
      " 3-mul \n",
      " 4-div\n"
     ]
    },
    {
     "name": "stdin",
     "output_type": "stream",
     "text": [
      "enter the operation 4\n"
     ]
    },
    {
     "name": "stdout",
     "output_type": "stream",
     "text": [
      "div 1.144736842105263\n"
     ]
    }
   ],
   "source": [
    "# calculator\n",
    "num1 = int(input(\"enter a num\"))\n",
    "num2 = int(input(\"enter a num\"))\n",
    "print(\"1-add \\n 2-sub \\n 3-mul \\n 4-div\")\n",
    "operation = int(input(\"enter the operation\"))\n",
    "if operation == 1:\n",
    "    print('add',num1+num2)\n",
    "elif operation == 2:\n",
    "    print('sub',num1-num2)\n",
    "elif operation == 3:\n",
    "    print('mul',num1*num2)\n",
    "elif operation == 4:\n",
    "    print('div',num1/num2)\n",
    "else:\n",
    "    print('no. is not valid')\n"
   ]
  },
  {
   "cell_type": "code",
   "execution_count": 7,
   "id": "ab467bed-eac9-4f25-b871-584596d22df0",
   "metadata": {
    "jp-MarkdownHeadingCollapsed": true
   },
   "outputs": [
    {
     "name": "stdin",
     "output_type": "stream",
     "text": [
      "enter a char g\n"
     ]
    },
    {
     "name": "stdout",
     "output_type": "stream",
     "text": [
      "char are consonant\n"
     ]
    }
   ],
   "source": [
    "#wap to check character vowel or not\n",
    "char = (input(\"enter a char\"))\n",
    "if(char == 'a' or char == 'i'or char == 'e' or char == 'o'or char == 'u' or char == 'A'or char == 'I' or char == 'E' or char == 'O' or char == 'U'):\n",
    "    print(\"char are vowel\")\n",
    "else:\n",
    "    print(\"char are consonant\") \n",
    "    \n"
   ]
  },
  {
   "cell_type": "code",
   "execution_count": 8,
   "id": "d7cfbebc-67fb-45a2-b406-d23e5e3bb056",
   "metadata": {},
   "outputs": [
    {
     "name": "stdin",
     "output_type": "stream",
     "text": [
      "enter a choice (rock, paper, scissor,): paper\n"
     ]
    },
    {
     "name": "stdout",
     "output_type": "stream",
     "text": [
      "\n",
      " you choice paper,computer choice scissor.\n",
      "\n",
      "scissor cut the paper , you lose!\n"
     ]
    }
   ],
   "source": [
    "# rock paper scissor\n",
    "import random\n",
    "user_action = input(\"enter a choice (rock, paper, scissor,):\")\n",
    "possible_action = ( \"rock\", \"paper\", \"scissor\")\n",
    "computer_action = random.choice(possible_action)\n",
    "print(f'\\n you choice {user_action},computer choice { computer_action}.\\n')\n",
    "if user_action == computer_action:\n",
    "    print(\" it is a tie \")\n",
    "elif user_action == \"rock\":\n",
    "    if computer_action == \"scissor\":\n",
    "        print(\"rock smashes scissor, you win!\")\n",
    "    else:\n",
    "        print(\"paper cover scisor , you lose!\")\n",
    "elif user_action == \"paper\":\n",
    "    if computer_action == \"rock\":\n",
    "        print(\"paper cover rock , you win!\")\n",
    "    else:\n",
    "        print(\"scissor cut the paper , you lose!\")\n",
    "elif user_action == \"scissor\":\n",
    "    if computer_action == \"paper\":\n",
    "        print(\"scissor cut the paper  , you win!\")\n",
    "    else:\n",
    "        print(\"rock smashes scissor , you lose!\")\n",
    "\n",
    "\n",
    "\n"
   ]
  },
  {
   "cell_type": "code",
   "execution_count": 19,
   "id": "d2d0c0af-3f86-4004-8015-af16cea61a93",
   "metadata": {},
   "outputs": [
    {
     "name": "stdin",
     "output_type": "stream",
     "text": [
      "enter the num 7\n",
      "enter the num 7\n",
      "enert the num 3\n"
     ]
    },
    {
     "name": "stdout",
     "output_type": "stream",
     "text": [
      "1-add , 2-sub , 3-mul , 4-div \n"
     ]
    },
    {
     "name": "stdin",
     "output_type": "stream",
     "text": [
      "enter the operations 4\n"
     ]
    },
    {
     "name": "stdout",
     "output_type": "stream",
     "text": [
      "div 1.0\n"
     ]
    }
   ],
   "source": [
    "# 3 numbers calcaluations\n",
    "num1 = int(input(\"enter the num\"))\n",
    "num2 = int(input(\"enter the num\")) \n",
    "num3 = int(input(\"enert the num\"))\n",
    "print(\"1-add , 2-sub , 3-mul , 4-div \")\n",
    "operation = int(input(\"enter the operations\"))\n",
    "if operation == 1:\n",
    "    print('add',num1+num2+num3)\n",
    "elif operation == 2:\n",
    "    print('sub',num1-num2-num3)\n",
    "elif operation == 3:\n",
    "    print('mul',num1*num2*num3)\n",
    "elif operation == 4:\n",
    "    print('div',num1/num2)\n",
    "else:\n",
    "    print('no. is not valid')\n"
   ]
  },
  {
   "cell_type": "code",
   "execution_count": 11,
   "id": "e8e384ec-bfc0-49a2-924d-a9f0262e3328",
   "metadata": {},
   "outputs": [
    {
     "name": "stdin",
     "output_type": "stream",
     "text": [
      "enter the num 9\n"
     ]
    },
    {
     "name": "stdout",
     "output_type": "stream",
     "text": [
      "num is odd\n"
     ]
    }
   ],
   "source": [
    "# wap to check num odd or even\n",
    "num = int(input(\"enter the num\"))\n",
    "if (num%2 == 0):\n",
    "    print(\"num is even\")\n",
    "else:\n",
    "    print(\"num is odd\")"
   ]
  },
  {
   "cell_type": "code",
   "execution_count": 1,
   "id": "8295f9c5-7177-4940-9c21-583e93cb6190",
   "metadata": {},
   "outputs": [
    {
     "name": "stdout",
     "output_type": "stream",
     "text": [
      "50\n"
     ]
    }
   ],
   "source": [
    "# create a variable a and assign it the value 50\n",
    "a = 50\n",
    "print(a)"
   ]
  },
  {
   "cell_type": "code",
   "execution_count": 2,
   "id": "1eee10e7-fe74-46d7-bc78-c75b37d31b76",
   "metadata": {},
   "outputs": [
    {
     "name": "stdout",
     "output_type": "stream",
     "text": [
      "30.5\n"
     ]
    }
   ],
   "source": [
    "#craete another variable b and assign it the value it the value 30.5\n",
    "b = 30.5\n",
    "print(b)"
   ]
  },
  {
   "cell_type": "code",
   "execution_count": 7,
   "id": "dc741cf3-7ea9-4719-82d1-523e0e1f172f",
   "metadata": {},
   "outputs": [
    {
     "name": "stdout",
     "output_type": "stream",
     "text": [
      "a:50 and type:<class 'type'>\n",
      "b:30.5 and type:<class 'type'>\n"
     ]
    }
   ],
   "source": [
    "# print theeir values and types\n",
    "a = 50\n",
    "b = 30.5\n",
    "print(f\"a:{a} and type:{type}\")\n",
    "print(f\"b:{b} and type:{type}\")"
   ]
  },
  {
   "cell_type": "code",
   "execution_count": 9,
   "id": "c52d436a-463c-4a81-954d-4f32de8deb76",
   "metadata": {},
   "outputs": [
    {
     "name": "stdout",
     "output_type": "stream",
     "text": [
      "8\n",
      "2\n",
      "15\n",
      "1\n"
     ]
    }
   ],
   "source": [
    "# using variables a and b perform the various operations like addition, sub, mul, floor div.\n",
    "a = 5\n",
    "b= 3\n",
    "print(a+b)\n",
    "print(a-b)\n",
    "print(a*b)\n",
    "print(a//b)"
   ]
  },
  {
   "cell_type": "code",
   "execution_count": 10,
   "id": "bc08f036-0940-42c0-89ad-bec816eda64d",
   "metadata": {},
   "outputs": [
    {
     "name": "stdout",
     "output_type": "stream",
     "text": [
      "a is greater then b\n"
     ]
    }
   ],
   "source": [
    "# campare two variables to check if a is greater then b.\n",
    "a = 5\n",
    "b = 3\n",
    "if a>b:\n",
    "    print(\"a is greater then b\")\n",
    "else:\n",
    "    print(\"b is greater then a\")\n"
   ]
  },
  {
   "cell_type": "code",
   "execution_count": 12,
   "id": "8940fa6f-97aa-4452-b3ea-9527e60e152f",
   "metadata": {},
   "outputs": [
    {
     "name": "stdout",
     "output_type": "stream",
     "text": [
      "before swaping\n",
      "a= 6\n",
      "b= 5\n",
      "after swaping:\n",
      "a= 5\n",
      "b= 6\n"
     ]
    }
   ],
   "source": [
    "# swap the values of a and b without using a third variable\n",
    "a = 6\n",
    "b = 5\n",
    "print(\"before swaping\")\n",
    "print(\"a=\" ,a)\n",
    "print(\"b=\" ,b)\n",
    "a = a + b\n",
    "b = a - b\n",
    "a = a - b\n",
    "print(\"after swaping:\")\n",
    "print(\"a=\" ,a)\n",
    "print(\"b=\" ,b)\n"
   ]
  },
  {
   "cell_type": "code",
   "execution_count": 1,
   "id": "2acffc0f-3366-4161-ab4d-9b1444299f95",
   "metadata": {},
   "outputs": [
    {
     "name": "stdout",
     "output_type": "stream",
     "text": [
      "9\n",
      "1\n"
     ]
    }
   ],
   "source": [
    "# find the maximum and minimum of the list\n",
    "list = [1,6,3,7,8,9,3,2,9]\n",
    "min = min (list)\n",
    "max = max(list)\n",
    "print(max)\n",
    "print(min)"
   ]
  },
  {
   "cell_type": "code",
   "execution_count": 14,
   "id": "7f8e2c91-05e5-44e2-9136-42018487b6ba",
   "metadata": {},
   "outputs": [
    {
     "name": "stdin",
     "output_type": "stream",
     "text": [
      "enter a num 9\n"
     ]
    },
    {
     "name": "stdout",
     "output_type": "stream",
     "text": [
      "9 is a prime\n",
      "9 is not a prime no\n"
     ]
    }
   ],
   "source": [
    "# check for prime number\n",
    "x = int(input(\"enter a num\"))\n",
    "if x>2:\n",
    "    for i in range(2,(x//2)+1):\n",
    "        if (x%i) == 0:\n",
    "            print(x, \"is not a prime no\")\n",
    "            break\n",
    "        else:\n",
    "            print(x, \"is a prime\")\n",
    "else:\n",
    "    print(x,\"is not a prime no\")\n",
    "    #doubt in program \n"
   ]
  },
  {
   "cell_type": "code",
   "execution_count": 5,
   "id": "f3a4d118-bd3a-4ed8-9de2-ed9261208e00",
   "metadata": {},
   "outputs": [
    {
     "name": "stdout",
     "output_type": "stream",
     "text": [
      "1\n",
      "2\n",
      "3\n",
      "4\n",
      "5\n",
      "6\n",
      "7\n"
     ]
    }
   ],
   "source": [
    "#iterating over a list numbers\n",
    "num = [1,2,3,4,5,6,7]\n",
    "for i in num:\n",
    "    print(i)"
   ]
  },
  {
   "cell_type": "code",
   "execution_count": 8,
   "id": "09f3fe72-5941-49a0-910c-9cc5c629934e",
   "metadata": {},
   "outputs": [
    {
     "name": "stdout",
     "output_type": "stream",
     "text": [
      "1\n",
      "2\n",
      "3\n",
      "4\n",
      "5\n",
      "6\n",
      "7\n",
      "8\n",
      "9\n",
      "10\n"
     ]
    }
   ],
   "source": [
    "for i in range(1,11):\n",
    "    print(i)"
   ]
  },
  {
   "cell_type": "code",
   "execution_count": 9,
   "id": "24a27dad-2451-464b-bf22-54196ebddfc1",
   "metadata": {},
   "outputs": [
    {
     "name": "stdout",
     "output_type": "stream",
     "text": [
      "1\n",
      "3\n",
      "5\n",
      "7\n",
      "9\n",
      "11\n",
      "13\n",
      "15\n",
      "17\n",
      "19\n"
     ]
    }
   ],
   "source": [
    "for i in range(1,20,2):\n",
    "    print(i)"
   ]
  },
  {
   "cell_type": "code",
   "execution_count": 2,
   "id": "e998e28a-1680-4ded-89d3-b13610992028",
   "metadata": {},
   "outputs": [
    {
     "name": "stdout",
     "output_type": "stream",
     "text": [
      "5\n",
      "4\n",
      "3\n",
      "2\n",
      "1\n"
     ]
    }
   ],
   "source": [
    "# while loops\n",
    "count = 5\n",
    "while count > 0:\n",
    "    print(count)\n",
    "    count-=1"
   ]
  },
  {
   "cell_type": "code",
   "execution_count": 9,
   "id": "82c80ae3-1697-434e-8109-af9f9a63297a",
   "metadata": {},
   "outputs": [
    {
     "name": "stdout",
     "output_type": "stream",
     "text": [
      "0\n",
      "1\n",
      "2\n",
      "3\n",
      "4\n",
      "5\n",
      "6\n"
     ]
    }
   ],
   "source": [
    "# breaking out of loops\n",
    "for num in range(10):\n",
    "    if num==7:# exist the loop when num is 7\n",
    "         break\n",
    "    print(num)\n",
    "       "
   ]
  },
  {
   "cell_type": "code",
   "execution_count": 11,
   "id": "a039a7a2-de5d-4d62-ab16-ba5c91526bf4",
   "metadata": {},
   "outputs": [
    {
     "name": "stdout",
     "output_type": "stream",
     "text": [
      "0\n",
      "1\n",
      "2\n",
      "3\n",
      "4\n",
      "5\n",
      "6\n",
      "8\n",
      "9\n"
     ]
    }
   ],
   "source": [
    "# skkiping the iteration\n",
    "for num in range(10):\n",
    "    if num==7:#  skip num is 7\n",
    "         continue\n",
    "    print(num)\n",
    "       \n"
   ]
  },
  {
   "cell_type": "code",
   "execution_count": 12,
   "id": "05f1903a-75eb-4618-ac31-e1c44210c727",
   "metadata": {},
   "outputs": [
    {
     "name": "stdout",
     "output_type": "stream",
     "text": [
      "1\n",
      "3\n",
      "5\n",
      "7\n",
      "9\n"
     ]
    }
   ],
   "source": [
    "for num in range(10):\n",
    "    if num%2==0:\n",
    "        continue # skip the even no.\n",
    "    print(num)"
   ]
  },
  {
   "cell_type": "code",
   "execution_count": 5,
   "id": "d9d00602-597f-46cf-8022-d01b4eb16dd2",
   "metadata": {},
   "outputs": [
    {
     "name": "stdout",
     "output_type": "stream",
     "text": [
      "factorial of 6 is 720\n"
     ]
    }
   ],
   "source": [
    "# factorial of a no.\n",
    "num = 6\n",
    "factorial = 1\n",
    "for i in range(1 ,num+1):\n",
    "    factorial *=i\n",
    "print(f'factorial of {num} is {factorial}')\n"
   ]
  },
  {
   "cell_type": "code",
   "execution_count": 16,
   "id": "39e7f345-f342-4674-b911-3127bc0d5697",
   "metadata": {},
   "outputs": [
    {
     "name": "stdin",
     "output_type": "stream",
     "text": [
      "enter a num 9\n"
     ]
    },
    {
     "name": "stdout",
     "output_type": "stream",
     "text": [
      "9 Not a Prime Number\n"
     ]
    }
   ],
   "source": [
    "# check for prime number\n",
    "x = int(input(\"enter a num\"))\n",
    "isPrime = False\n",
    "if x>2:\n",
    "    for i in range(2,(x//2)+1):\n",
    "        if (x%i) == 0:\n",
    "            isPrime = False\n",
    "            break\n",
    "            \n",
    "        else:\n",
    "            isPrime = True\n",
    "    if isPrime == True:\n",
    "        print(x, \"Is a Prime Number\")\n",
    "    else:\n",
    "        print(x,\"Not a Prime Number\")\n",
    "else:\n",
    "    print(x,\"is not a prime no\")\n",
    "    \n",
    "\n"
   ]
  },
  {
   "cell_type": "code",
   "execution_count": 18,
   "id": "3fab0f2f-0bb2-4d6f-b8fb-172df95a9fcf",
   "metadata": {},
   "outputs": [
    {
     "name": "stdout",
     "output_type": "stream",
     "text": [
      "2\n",
      "3\n",
      "4\n",
      "5\n",
      "6\n"
     ]
    }
   ],
   "source": [
    "for x in range(2,7):\n",
    "    print(x)"
   ]
  },
  {
   "cell_type": "code",
   "execution_count": null,
   "id": "b93352b9-8638-43c6-84df-22cb04d11e7f",
   "metadata": {},
   "outputs": [],
   "source": [
    "u = 6\n",
    "fact = 1\n",
    "for i in range(1,u+1):\n",
    "    fact *= i\n",
    "    \n",
    "\n",
    "\n",
    "\n",
    "\n"
   ]
  },
  {
   "cell_type": "code",
   "execution_count": null,
   "id": "9a1162b9-a3a5-4e2c-9360-c157a864dcd1",
   "metadata": {},
   "outputs": [],
   "source": []
  },
  {
   "cell_type": "code",
   "execution_count": null,
   "id": "aec64257-2b6d-4bbb-984e-5435738bf661",
   "metadata": {},
   "outputs": [],
   "source": []
  }
 ],
 "metadata": {
  "kernelspec": {
   "display_name": "Python 3 (ipykernel)",
   "language": "python",
   "name": "python3"
  },
  "language_info": {
   "codemirror_mode": {
    "name": "ipython",
    "version": 3
   },
   "file_extension": ".py",
   "mimetype": "text/x-python",
   "name": "python",
   "nbconvert_exporter": "python",
   "pygments_lexer": "ipython3",
   "version": "3.12.4"
  }
 },
 "nbformat": 4,
 "nbformat_minor": 5
}

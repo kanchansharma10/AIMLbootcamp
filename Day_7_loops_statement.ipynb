{
 "cells": [
  {
   "cell_type": "markdown",
   "id": "8c4bc666-34a1-47b6-8018-1ad79dafae95",
   "metadata": {},
   "source": [
    "<div style=\"background-color: #add8e6; padding: 10px; height: 70px; border-radius: 15px;\">\n",
    "    <div style=\"font-family: 'Georgia', serif; font-size: 20px; padding: 10px; text-align: right; position: absolute; right: 20px;\">\n",
    "        Kanchan Sharma <br>\n",
    "        <span style=\"font-family: 'Arial', sans-serif;font-size: 12px; color: #0a0a0a;\">Tech Skills Trainee | AI/ML Bootcamp</span> \n",
    "    </div>\n",
    "</div>"
   ]
  },
  {
   "cell_type": "markdown",
   "id": "ef444d2e-97e9-49a8-bf3d-0119a2dfebb5",
   "metadata": {},
   "source": [
    "<!--- Devashish Kumar | Tech Skills Trainer | CodroidHub Private Limited | AI/ML Consultant --->"
   ]
  },
  {
   "cell_type": "markdown",
   "id": "151ad3d8-0bce-4e29-86da-5ea91b5a69df",
   "metadata": {},
   "source": [
    "<div style=\"background-color: #002147; padding: 10px; text-align: center; color: white; font-size: 32px; font-family: 'Arial', sans-serif;\">\n",
    "    Loops in Python <br>\n",
    "    <h3 style=\"text-align: center; color: white; font-size: 15px; font-family: 'Arial', sans-serif;\">Introduction</h3>\n",
    "</div>"
   ]
  },
  {
   "cell_type": "markdown",
   "id": "fbbaf312-23fb-475f-91e8-dbd31b88df50",
   "metadata": {},
   "source": [
    "# What is loops in python?"
   ]
  },
  {
   "cell_type": "markdown",
   "id": "7fb8295a-207d-4c7a-8660-1c22896b5fcf",
   "metadata": {},
   "source": [
    "In Python, loops allow you to repeat a block of code multiple times. There are two primary types of loops in Python: for loops and while loops."
   ]
  },
  {
   "cell_type": "markdown",
   "id": "2fdda083-ad1f-4275-9805-d67aaaa1c926",
   "metadata": {},
   "source": [
    "# 1. For Loop\n",
    "The for loop is used to iterate over a sequence (like a list, tuple, dictionary, set, or string) or a range of numbers."
   ]
  },
  {
   "cell_type": "raw",
   "id": "895ee67a-7715-46d3-8e73-c0579c93c275",
   "metadata": {},
   "source": [
    "for item in iterable:\n",
    "    # Code to execute\n"
   ]
  },
  {
   "cell_type": "markdown",
   "id": "8918175c-426d-46b3-ab92-8a936160e0b6",
   "metadata": {},
   "source": [
    "# Example 1: Iterating over a list"
   ]
  },
  {
   "cell_type": "code",
   "execution_count": 2,
   "id": "8385919e-5b2f-4e0e-bc28-d999de684fae",
   "metadata": {},
   "outputs": [
    {
     "name": "stdout",
     "output_type": "stream",
     "text": [
      "apple\n",
      "banana\n",
      "cherry\n"
     ]
    }
   ],
   "source": [
    "fruits = ['apple', 'banana', 'cherry']\n",
    "for fruit in fruits:\n",
    "    print(fruit)\n"
   ]
  },
  {
   "cell_type": "markdown",
   "id": "c61b8cc7-1fc2-44de-af5c-865dc5b9d1c0",
   "metadata": {},
   "source": [
    "# Example 2: Using range() for a sequence of numbers"
   ]
  },
  {
   "cell_type": "code",
   "execution_count": 3,
   "id": "39a46d0c-0c67-4627-86af-b9c45586dabc",
   "metadata": {},
   "outputs": [
    {
     "name": "stdout",
     "output_type": "stream",
     "text": [
      "0\n",
      "1\n",
      "2\n",
      "3\n",
      "4\n"
     ]
    }
   ],
   "source": [
    "for i in range(5):  # Loops from 0 to 4\n",
    "    print(i)\n"
   ]
  },
  {
   "cell_type": "markdown",
   "id": "92cb2bee-3429-4bcc-b27b-8b230f518a30",
   "metadata": {},
   "source": [
    " Example: Here's a more interesting Python program using a for loop. This one calculates the sum of all even numbers from 1 to 100:"
   ]
  },
  {
   "cell_type": "code",
   "execution_count": 4,
   "id": "3f9fa24c-917c-4e5f-99df-c0f6af64eb41",
   "metadata": {},
   "outputs": [
    {
     "name": "stdout",
     "output_type": "stream",
     "text": [
      "Sum of all even numbers from 1 to 100 is: 2550\n"
     ]
    }
   ],
   "source": [
    "# Program to calculate the sum of even numbers from 1 to 100\n",
    "\n",
    "sum_of_evens = 0\n",
    "\n",
    "# Iterate through numbers from 1 to 100\n",
    "for num in range(1, 101):\n",
    "    if num % 2 == 0:  # Check if the number is even\n",
    "        sum_of_evens += num  # Add the even number to the sum\n",
    "\n",
    "print(\"Sum of all even numbers from 1 to 100 is:\", sum_of_evens)\n"
   ]
  },
  {
   "cell_type": "markdown",
   "id": "633c9ad9-47a1-45f1-beeb-efa9af5324db",
   "metadata": {},
   "source": [
    "# 2. While Loop\n",
    "A while loop repeats as long as a given condition is True."
   ]
  },
  {
   "cell_type": "raw",
   "id": "0c8143cf-9363-4dfa-b213-c496a394c7b0",
   "metadata": {},
   "source": [
    "while condition:\n",
    "    # Code to execute\n"
   ]
  },
  {
   "cell_type": "markdown",
   "id": "66404ba1-98be-4c73-8606-6ec2e087fbaa",
   "metadata": {},
   "source": [
    "# Example 1: Simple while loop"
   ]
  },
  {
   "cell_type": "code",
   "execution_count": 5,
   "id": "eaa8b50c-22bd-4690-bc88-71d89bba4ff2",
   "metadata": {},
   "outputs": [
    {
     "name": "stdout",
     "output_type": "stream",
     "text": [
      "0\n",
      "1\n",
      "2\n",
      "3\n",
      "4\n"
     ]
    }
   ],
   "source": [
    "counter = 0\n",
    "while counter < 5:\n",
    "    print(counter)\n",
    "    counter += 1  # Increment the counter to avoid infinite loop\n"
   ]
  },
  {
   "cell_type": "markdown",
   "id": "f9950cb4-e66e-4b17-ac49-6e0ba1229047",
   "metadata": {},
   "source": [
    "# Loop Control Statements\n",
    "1. break: Used to exit the loop entirely, even if the condition is still true."
   ]
  },
  {
   "cell_type": "code",
   "execution_count": 6,
   "id": "523ed342-d6b0-43ba-a2ec-77c43e3863ec",
   "metadata": {},
   "outputs": [
    {
     "name": "stdout",
     "output_type": "stream",
     "text": [
      "0\n",
      "1\n",
      "2\n",
      "3\n",
      "4\n"
     ]
    }
   ],
   "source": [
    "for i in range(10):\n",
    "    if i == 5:\n",
    "        break\n",
    "    print(i)\n"
   ]
  },
  {
   "cell_type": "markdown",
   "id": "6b20b011-0ec2-4a31-89f2-6a966b75d6ef",
   "metadata": {},
   "source": [
    "2. continue: Skips the current iteration and moves to the next iteration of the loop."
   ]
  },
  {
   "cell_type": "code",
   "execution_count": 8,
   "id": "197f5988-3c7b-42a9-bc6b-b6008a1651ee",
   "metadata": {},
   "outputs": [
    {
     "name": "stdout",
     "output_type": "stream",
     "text": [
      "0\n",
      "1\n",
      "3\n",
      "4\n"
     ]
    }
   ],
   "source": [
    "for i in range(5):\r\n",
    "    if i == 2:\r\n",
    "        continue  # Skip printing 2\r\n",
    "    print(i)\r\n"
   ]
  },
  {
   "cell_type": "markdown",
   "id": "3945a5fc-c498-475a-a590-088b9872ea29",
   "metadata": {},
   "source": [
    "\n",
    "3. else: An optional part of both for and while loops. The else block runs after the loop finishes executing (unless the loop is terminated with break)."
   ]
  },
  {
   "cell_type": "code",
   "execution_count": 9,
   "id": "8c7432a4-c6de-4cd9-a8f3-56802a804399",
   "metadata": {},
   "outputs": [
    {
     "name": "stdout",
     "output_type": "stream",
     "text": [
      "0\n",
      "1\n",
      "2\n",
      "Loop finished\n"
     ]
    }
   ],
   "source": [
    "for i in range(3):\n",
    "    print(i)\n",
    "else:\n",
    "    print(\"Loop finished\")\n"
   ]
  },
  {
   "cell_type": "markdown",
   "id": "ba3f2fe0-ea5d-4e4d-9477-c02cbeab479c",
   "metadata": {},
   "source": [
    "# Uses of loops"
   ]
  },
  {
   "cell_type": "markdown",
   "id": "e480be22-b57d-443e-9d15-48c842c8540d",
   "metadata": {},
   "source": [
    "# 1. Iterating Over a Collection (Lists, Tuples, Strings, etc.)\n",
    "Loops are frequently used to iterate over elements in a collection (like lists, tuples, dictionaries, strings, etc.), allowing you to perform an operation on each element."
   ]
  },
  {
   "cell_type": "code",
   "execution_count": 10,
   "id": "f204daec-b519-401f-92a2-9bb215ab6e68",
   "metadata": {},
   "outputs": [
    {
     "name": "stdout",
     "output_type": "stream",
     "text": [
      "Enjoy your apple!\n",
      "Enjoy your banana!\n",
      "Enjoy your cherry!\n"
     ]
    }
   ],
   "source": [
    "fruits = ['apple', 'banana', 'cherry']\n",
    "for fruit in fruits:\n",
    "    print(f\"Enjoy your {fruit}!\")\n"
   ]
  },
  {
   "cell_type": "markdown",
   "id": "69b54b44-ebc2-404e-a37a-9376bd3f9479",
   "metadata": {},
   "source": [
    "# 2. Repetition of Tasks\n",
    "Sometimes, you may want to repeat a task multiple times. Loops allow you to do this without writing repetitive code."
   ]
  },
  {
   "cell_type": "code",
   "execution_count": 11,
   "id": "7deba5a0-e9a0-4ac8-b77c-a1b3127f48cd",
   "metadata": {},
   "outputs": [
    {
     "name": "stdout",
     "output_type": "stream",
     "text": [
      "Hello!\n",
      "Hello!\n",
      "Hello!\n",
      "Hello!\n",
      "Hello!\n"
     ]
    }
   ],
   "source": [
    "# Print 'Hello' 5 times\n",
    "for i in range(5):\n",
    "    print(\"Hello!\")\n"
   ]
  },
  {
   "cell_type": "markdown",
   "id": "91ea0846-7030-4c50-8043-ad5eb9903f02",
   "metadata": {},
   "source": [
    "# 3. Summing Values or Aggregating Data\n",
    "Loops are often used to accumulate values, such as summing numbers, finding the average, or collecting data into a new list or dictionary.\n",
    "\n"
   ]
  },
  {
   "cell_type": "code",
   "execution_count": 12,
   "id": "bfbe5e97-d32c-424f-bc05-88da80aeca5d",
   "metadata": {},
   "outputs": [
    {
     "name": "stdout",
     "output_type": "stream",
     "text": [
      "Total: 100\n"
     ]
    }
   ],
   "source": [
    "numbers = [10, 20, 30, 40]\n",
    "total = 0\n",
    "for number in numbers:\n",
    "    total += number\n",
    "print(\"Total:\", total)  # Output will be 100\n"
   ]
  },
  {
   "cell_type": "markdown",
   "id": "e01e5555-c77d-4464-83f4-593c603ee81d",
   "metadata": {},
   "source": [
    "\n",
    "# 4. Searching for an Item\n",
    "Loops are helpful when searching through a collection to find an item that satisfies a condition."
   ]
  },
  {
   "cell_type": "code",
   "execution_count": 13,
   "id": "f4aa81b3-ecec-4e49-a299-cc02afcfe6bf",
   "metadata": {},
   "outputs": [
    {
     "name": "stdout",
     "output_type": "stream",
     "text": [
      "Bob found!\n"
     ]
    }
   ],
   "source": [
    "names = ['Alice', 'Bob', 'Charlie']\n",
    "search_name = 'Bob'\n",
    "for name in names:\n",
    "    if name == search_name:\n",
    "        print(f\"{search_name} found!\")\n",
    "        break\n"
   ]
  },
  {
   "cell_type": "markdown",
   "id": "9f616926-53da-4fb8-8e55-7e3f66268e89",
   "metadata": {},
   "source": [
    "# 5. Game Loops\n",
    "In game development, loops are often used to handle the main game loop that runs continuously to update the game state, process inputs, and render frames."
   ]
  },
  {
   "cell_type": "code",
   "execution_count": null,
   "id": "7e6b60e4-fdc7-48e6-9112-e961c5b95584",
   "metadata": {},
   "outputs": [
    {
     "name": "stdout",
     "output_type": "stream",
     "text": [
      "Game is running...\n"
     ]
    },
    {
     "name": "stdin",
     "output_type": "stream",
     "text": [
      "Type 'quit' to stop:  stop\n"
     ]
    },
    {
     "name": "stdout",
     "output_type": "stream",
     "text": [
      "Game is running...\n"
     ]
    },
    {
     "name": "stdin",
     "output_type": "stream",
     "text": [
      "Type 'quit' to stop:  quite\n"
     ]
    },
    {
     "name": "stdout",
     "output_type": "stream",
     "text": [
      "Game is running...\n"
     ]
    }
   ],
   "source": [
    "# Simplified game loop (infinite loop, in practice it would have a stopping condition)\n",
    "while True:\n",
    "    # Handle events like user input or collision detection\n",
    "    print(\"Game is running...\")\n",
    "    # Check for quit condition to break the loop\n",
    "    quit = input(\"Type 'quit' to stop: \")\n",
    "    if quit.lower() == 'quit':\n",
    "        break\n"
   ]
  },
  {
   "cell_type": "markdown",
   "id": "b69ed7ea-1940-434d-bb2d-601d07994783",
   "metadata": {},
   "source": [
    "<div style=\"background-color: lightblue; color: white; padding: 10px; text-align: center;\">\n",
    "    <h1>_________________________________END________________________________\n",
    "<!--- Devashish Kumar | Tech Skills Trainer | CodroidHub Private Limited | AI/ML Consultant --->\n",
    "    </h1> </div>"
   ]
  },
  {
   "cell_type": "markdown",
   "id": "13e86481-eae2-4019-9515-66a43a30f0fb",
   "metadata": {},
   "source": [
    "<div style=\"background-color: #002147; color: #fff; padding: 30px; text-align: center;\">\n",
    "    <h1>THANK YOU!\n",
    "        <!--- Devashish Kumar | Tech Skills Trainer | CodroidHub Private Limited | AI/ML Consultant --->\n",
    "</h1> </div>"
   ]
  },
  {
   "cell_type": "markdown",
   "id": "15cc27b3-58d0-431e-8121-f1b4c08377c7",
   "metadata": {},
   "source": [
    "<!--- Devashish Kumar | Tech Skills Trainer | CodroidHub Private Limited | AI/ML Consultant --->"
   ]
  },
  {
   "cell_type": "code",
   "execution_count": null,
   "id": "4b3db7c3-7371-43cb-8555-fe00d1e392e4",
   "metadata": {},
   "outputs": [],
   "source": []
  }
 ],
 "metadata": {
  "kernelspec": {
   "display_name": "Python 3 (ipykernel)",
   "language": "python",
   "name": "python3"
  },
  "language_info": {
   "codemirror_mode": {
    "name": "ipython",
    "version": 3
   },
   "file_extension": ".py",
   "mimetype": "text/x-python",
   "name": "python",
   "nbconvert_exporter": "python",
   "pygments_lexer": "ipython3",
   "version": "3.12.4"
  }
 },
 "nbformat": 4,
 "nbformat_minor": 5
}

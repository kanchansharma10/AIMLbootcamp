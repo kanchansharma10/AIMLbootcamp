{
 "cells": [
  {
   "cell_type": "markdown",
   "id": "8c4bc666-34a1-47b6-8018-1ad79dafae95",
   "metadata": {},
   "source": [
    "<div style=\"background-color: #add8e6; padding: 10px; height: 70px; border-radius: 15px;\">\n",
    "    <div style=\"font-family: 'Georgia', serif; font-size: 20px; padding: 10px; text-align: right; position: absolute; right: 20px;\">\n",
    "        Kanchan Sharma <br>\n",
    "        <span style=\"font-family: 'Arial', sans-serif;font-size: 12px; color: #0a0a0a;\">Tech Skills Trainee | AI/ML Bootcamp</span> <!--- Devashish Kumar | CodroidHub Private Limited | AI/ML Consultant --->\n",
    "    </div>\n",
    "</div>"
   ]
  },
  {
   "cell_type": "markdown",
   "id": "ef444d2e-97e9-49a8-bf3d-0119a2dfebb5",
   "metadata": {},
   "source": [
    "<!--- Devashish Kumar | Tech Skills Trainer | CodroidHub Private Limited | AI/ML Consultant --->"
   ]
  },
  {
   "cell_type": "markdown",
   "id": "07e72f48-d11c-4990-822f-67cbeb5c5bcf",
   "metadata": {},
   "source": [
    "<div style=\"background-color: #002147; padding: 10px; text-align: center; color: white; font-size: 32px; font-family: 'Arial', sans-serif;\">\n",
    "    Data types in Python <br>\n",
    "    <h3 style=\"text-align: center; color: white; font-size: 15px; font-family: 'Arial', sans-serif;\">Introduction</h3>\n",
    "</div>"
   ]
  },
  {
   "cell_type": "markdown",
   "id": "1baf5c74-f3c9-4e68-a51a-cfcde057bcbc",
   "metadata": {},
   "source": [
    "# What is Data type in python?"
   ]
  },
  {
   "cell_type": "markdown",
   "id": "42a8b47e-c700-46bd-97f3-b226bd4af90f",
   "metadata": {},
   "source": [
    "In Python, a data type is a classification that specifies which type of value a variable can hold. Python supports several built-in data types, each serving different purposes. Here are the main data types in Python:"
   ]
  },
  {
   "cell_type": "markdown",
   "id": "14a5db10-7b8c-4e3e-8226-f6f169be08fe",
   "metadata": {},
   "source": [
    "# 1. Numeric Types"
   ]
  },
  {
   "cell_type": "markdown",
   "id": "ecba07d7-f3f0-44ed-bfdf-d6cc81af3ed8",
   "metadata": {},
   "source": [
    "\n",
    "int: Integer numbers (whole numbers).\n"
   ]
  },
  {
   "cell_type": "code",
   "execution_count": 1,
   "id": "9f024d0c-835d-4f86-8f2b-e83da0115379",
   "metadata": {},
   "outputs": [
    {
     "name": "stdout",
     "output_type": "stream",
     "text": [
      "5\n"
     ]
    }
   ],
   "source": [
    " x = 5\n",
    "print(x)\n"
   ]
  },
  {
   "cell_type": "markdown",
   "id": "83112fe9-68d3-43be-bb4f-8a890820d1a3",
   "metadata": {},
   "source": [
    "float: Floating-point numbers (decimals)."
   ]
  },
  {
   "cell_type": "code",
   "execution_count": 3,
   "id": "ee186b3a-679b-470f-8a9e-d8eb37491775",
   "metadata": {},
   "outputs": [
    {
     "name": "stdout",
     "output_type": "stream",
     "text": [
      "3.12\n"
     ]
    }
   ],
   "source": [
    "y = 3.12\n",
    "print(y)"
   ]
  },
  {
   "cell_type": "markdown",
   "id": "1ee4c086-2bea-4696-9b25-3bd440831b89",
   "metadata": {},
   "source": [
    "complex: Complex numbers (numbers with real and imaginary parts)."
   ]
  },
  {
   "cell_type": "code",
   "execution_count": 6,
   "id": "b2779579-7f01-43f5-b7b8-b116522c847b",
   "metadata": {},
   "outputs": [
    {
     "name": "stdout",
     "output_type": "stream",
     "text": [
      "(2+3j)\n"
     ]
    }
   ],
   "source": [
    "z = 2 + 3j\n",
    "print(z)\n"
   ]
  },
  {
   "cell_type": "markdown",
   "id": "e919c36b-62df-496e-95c7-ee40ac593d67",
   "metadata": {},
   "source": [
    "### 2. Sequence Types"
   ]
  },
  {
   "cell_type": "markdown",
   "id": "3f59ccb7-6663-4aef-8ac7-f8c3d1082c97",
   "metadata": {},
   "source": [
    "str : Represents strings (a sequence of characters)."
   ]
  },
  {
   "cell_type": "code",
   "execution_count": 8,
   "id": "63dc4c10-dd35-4480-ab53-ab3af7a6fd73",
   "metadata": {},
   "outputs": [
    {
     "name": "stdout",
     "output_type": "stream",
     "text": [
      "hello world\n"
     ]
    }
   ],
   "source": [
    "print(\"hello world\")"
   ]
  },
  {
   "cell_type": "code",
   "execution_count": null,
   "id": "23307b12-7995-4710-aa46-7cc5c03ada74",
   "metadata": {},
   "outputs": [],
   "source": [
    " list : Represents a mutable (changeable) sequence of items."
   ]
  },
  {
   "cell_type": "code",
   "execution_count": 9,
   "id": "a7d22771-700f-4248-b24c-86b146fc0bd4",
   "metadata": {},
   "outputs": [
    {
     "name": "stdout",
     "output_type": "stream",
     "text": [
      "[1, 2, 3, 'apple', 'banana', 'cherry']\n"
     ]
    }
   ],
   "source": [
    "list = [1, 2, 3,\"apple\", \"banana\", \"cherry\"]\n",
    "print(list)"
   ]
  },
  {
   "cell_type": "markdown",
   "id": "69e77f37-fa02-46d4-830d-47a695223c6f",
   "metadata": {},
   "source": [
    "tuple: Represents an immutable (unchangeable) sequence of items."
   ]
  },
  {
   "cell_type": "code",
   "execution_count": 11,
   "id": "3276d66f-117a-49d6-8b67-645312417f1b",
   "metadata": {},
   "outputs": [
    {
     "name": "stdout",
     "output_type": "stream",
     "text": [
      "(1, 2, 3, 'a', 'b', 'c')\n"
     ]
    }
   ],
   "source": [
    "tuple = (1, 2, 3, \"a\", \"b\", \"c\")\n",
    "print(tuple)\n"
   ]
  },
  {
   "cell_type": "markdown",
   "id": "33b95207-a7d2-4387-8e91-aca6cd880dc1",
   "metadata": {},
   "source": [
    "range: Represents an immutable sequence of numbers, commonly used in loops.\n",
    "  "
   ]
  },
  {
   "cell_type": "code",
   "execution_count": 17,
   "id": "e6d5f99a-8a80-4004-9329-a71ad35f0853",
   "metadata": {},
   "outputs": [
    {
     "name": "stdout",
     "output_type": "stream",
     "text": [
      "0\n",
      "1\n",
      "2\n",
      "3\n",
      "4\n"
     ]
    }
   ],
   "source": [
    "for i in range(0,5):\n",
    "  print(i)"
   ]
  },
  {
   "cell_type": "markdown",
   "id": "8b27a4e5-bf4b-4573-9f2b-166e4f0e82eb",
   "metadata": {},
   "source": [
    "# 3. Mapping Type"
   ]
  },
  {
   "cell_type": "code",
   "execution_count": null,
   "id": "346d912b-4697-4a8b-800e-1e2bbe568980",
   "metadata": {},
   "outputs": [],
   "source": [
    "dict : Represents a collection of key-value pairs, also known as a dictionary.\n",
    "  - Example: `{\"name\": \"Alice\", \"age\": 25}`"
   ]
  },
  {
   "cell_type": "code",
   "execution_count": 18,
   "id": "ca7fea89-ca47-4be4-bf94-c757c1ab6d5d",
   "metadata": {},
   "outputs": [
    {
     "name": "stdout",
     "output_type": "stream",
     "text": [
      "{'name': 'Alice', 'age': 25}\n"
     ]
    }
   ],
   "source": [
    "dict = {\"name\": \"Alice\", \"age\": 25}\n",
    "print(dict)"
   ]
  },
  {
   "cell_type": "markdown",
   "id": "a63479f3-01eb-4e52-aff9-91e910d114a0",
   "metadata": {},
   "source": [
    "\n",
    "### 4. Set Types\n"
   ]
  },
  {
   "cell_type": "markdown",
   "id": "96a2a4c3-f72b-4d43-804b-efb94e4558cc",
   "metadata": {},
   "source": [
    "\n",
    "set : Represents an unordered collection of unique items.\n",
    "  "
   ]
  },
  {
   "cell_type": "code",
   "execution_count": 21,
   "id": "e16ff490-7706-41ec-b046-88d771b3d1df",
   "metadata": {},
   "outputs": [
    {
     "name": "stdout",
     "output_type": "stream",
     "text": [
      "{'banana', 2, 3, 1, 'apple', 'cherry'}\n"
     ]
    }
   ],
   "source": [
    "set = {1, 2, 3 , \"apple\", \"banana\", \"cherry\"}\n",
    "print(set)"
   ]
  },
  {
   "cell_type": "markdown",
   "id": "511bab91-616e-43cf-8772-4a129723d7b0",
   "metadata": {},
   "source": [
    "frozenset : Represents an immutable set (cannot be changed after creation).\n",
    "  "
   ]
  },
  {
   "cell_type": "code",
   "execution_count": 22,
   "id": "3eea1b9e-62a0-42d5-a965-97650ad43a84",
   "metadata": {},
   "outputs": [
    {
     "name": "stdout",
     "output_type": "stream",
     "text": [
      "frozenset({1, 2, 3})\n"
     ]
    }
   ],
   "source": [
    "set2 = frozenset([1, 2, 3])\n",
    "print(set2)\n"
   ]
  },
  {
   "cell_type": "markdown",
   "id": "59e7ec41-11cb-407c-8085-9d682a2c9272",
   "metadata": {},
   "source": [
    "# 5. Boolean Type"
   ]
  },
  {
   "cell_type": "markdown",
   "id": "aae78f33-f2b2-41ec-83fa-f2671625766d",
   "metadata": {},
   "source": [
    "bool: Represents Boolean values, which can either be `True` or `False`.\n",
    "  "
   ]
  },
  {
   "cell_type": "code",
   "execution_count": 25,
   "id": "a5d4ca60-0aa2-4f86-a6b3-b33a6ce0997e",
   "metadata": {},
   "outputs": [
    {
     "name": "stdout",
     "output_type": "stream",
     "text": [
      "(True, False)\n"
     ]
    }
   ],
   "source": [
    "bool = ( True, False)\n",
    "print(bool)"
   ]
  },
  {
   "cell_type": "markdown",
   "id": "ac1d0bba-5c95-4b75-bf78-b17fa2164ccf",
   "metadata": {},
   "source": [
    "# 6. Binary Types"
   ]
  },
  {
   "cell_type": "markdown",
   "id": "974ad310-cced-4cb8-b758-67fe8ce4ce6f",
   "metadata": {},
   "source": [
    " **`bytes`**: Immutable sequence of bytes.\n",
    "  - Example: `b'hello'`\n",
    "\n",
    " **`bytearray`**: Mutable sequence of bytes.\n",
    "  - Example: `bytearray([65, 66, 67])`\n",
    "\n",
    "-**`memoryview`**: Represents a view object that exposes an array's memory buffer.\n",
    "  - Example: `memoryview(b'hello')`"
   ]
  },
  {
   "cell_type": "markdown",
   "id": "0330f204-0e4a-4690-88b7-c6d513c6570b",
   "metadata": {},
   "source": [
    "\n",
    "# 7. None Type"
   ]
  },
  {
   "cell_type": "markdown",
   "id": "038674e2-236c-4e40-b7d2-6785eb7262a4",
   "metadata": {},
   "source": [
    "\n",
    "None : Represents the absence of a value or a null value.\n",
    "  "
   ]
  },
  {
   "cell_type": "code",
   "execution_count": 26,
   "id": "dffd6b1e-2b12-4fa3-bce5-f575d0712629",
   "metadata": {},
   "outputs": [
    {
     "name": "stdout",
     "output_type": "stream",
     "text": [
      "()\n"
     ]
    }
   ],
   "source": [
    "var = ()\n",
    "print(var)"
   ]
  },
  {
   "cell_type": "markdown",
   "id": "0fc4b6d3-2950-4533-8f24-e3c575095046",
   "metadata": {},
   "source": [
    "### Type Conversion"
   ]
  },
  {
   "cell_type": "markdown",
   "id": "8df61a54-2e64-465a-a229-2652dfb520ec",
   "metadata": {},
   "source": [
    "You can convert between different data types using functions like:\n",
    "- `int()`: Convert to an integer.\n",
    "- `float()`: Convert to a float.\n",
    "- `str()`: Convert to a string.\n",
    "- `list()`: Convert to a list.\n",
    "\n",
    "These are the fundamental data types in Python!"
   ]
  },
  {
   "cell_type": "code",
   "execution_count": 30,
   "id": "2514a4d6-f417-4709-b7ab-cbbdb7501e63",
   "metadata": {},
   "outputs": [
    {
     "name": "stdout",
     "output_type": "stream",
     "text": [
      "9\n",
      "2.0\n",
      "6\n"
     ]
    }
   ],
   "source": [
    "num1 = int(9.5)\n",
    "num2 = float(2)\n",
    "var = str(6)\n",
    "print(num1)\n",
    "print(num2)\n",
    "print(var)"
   ]
  },
  {
   "cell_type": "markdown",
   "id": "b69ed7ea-1940-434d-bb2d-601d07994783",
   "metadata": {},
   "source": [
    "<div style=\"background-color: lightblue; color: white; padding: 10px; text-align: center;\">\n",
    "    <h1>_________________________________END________________________________\n",
    "<!--- Devashish Kumar | Tech Skills Trainer | CodroidHub Private Limited | AI/ML Consultant --->\n",
    "    </h1> </div>"
   ]
  },
  {
   "cell_type": "markdown",
   "id": "13e86481-eae2-4019-9515-66a43a30f0fb",
   "metadata": {},
   "source": [
    "<div style=\"background-color: #002147; color: #fff; padding: 30px; text-align: center;\">\n",
    "    <h1>THANK YOU!\n",
    "        <!--- Devashish Kumar | Tech Skills Trainer | CodroidHub Private Limited | AI/ML Consultant --->\n",
    "</h1> </div>"
   ]
  }
 ],
 "metadata": {
  "kernelspec": {
   "display_name": "Python 3 (ipykernel)",
   "language": "python",
   "name": "python3"
  },
  "language_info": {
   "codemirror_mode": {
    "name": "ipython",
    "version": 3
   },
   "file_extension": ".py",
   "mimetype": "text/x-python",
   "name": "python",
   "nbconvert_exporter": "python",
   "pygments_lexer": "ipython3",
   "version": "3.12.4"
  }
 },
 "nbformat": 4,
 "nbformat_minor": 5
}

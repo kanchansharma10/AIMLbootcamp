{
 "cells": [
  {
   "cell_type": "markdown",
   "id": "fa84399d-1283-46b5-b7b4-8279d7893ad9",
   "metadata": {},
   "source": [
    "<div style=\"background-color: pink; padding: 10px; height: 70px; border-radius: 15px;\">\n",
    "    <div style=\"font-family: 'Georgia', serif; font-size: 20px; padding: 10px; text-align: right; position: absolute; right: 20px;\">\n",
    "        Kanchan Sharma <br>\n",
    "        <span style=\"font-family: 'Arial', sans-serif;font-size: 12px; color: #0a0a0a;\">Tech Skills Trainee | AI/ML Bootcamp</span> <!--- Devashish Kumar | CodroidHub Private Limited | AI/ML Consultant --->\n",
    "    </div>\n",
    "</div>"
   ]
  },
  {
   "cell_type": "markdown",
   "id": "6ce16b91-3e3c-4567-9f21-676a15ad5d90",
   "metadata": {},
   "source": [
    "<div style=\"background-color: #baf733; padding: 10px; text-align: center; color: black; font-size: 32px; font-family: 'Arial', sans-serif;\">\n",
    "    Python Match\n",
    "<br>\n",
    "    <h3 style=\"text-align: center; color: black; font-size: 15px; font-family: 'Arial', sans-serif;\">Introduction</h3>\n",
    "</div"
   ]
  },
  {
   "cell_type": "markdown",
   "id": "3243e227-7760-4a31-b558-70aa194922e8",
   "metadata": {},
   "source": [
    "# Python Match\n",
    "The match statement is used to perform different actions based on different conditions."
   ]
  },
  {
   "cell_type": "markdown",
   "id": "8e80422c-3834-4bb8-a2f1-94cdaa8afee0",
   "metadata": {},
   "source": [
    "# The Python Match Statement\n",
    "Instead of writing many if..else statements, you can use the match statement.\n",
    "\n",
    "The match statement selects one of many code blocks to be executed."
   ]
  },
  {
   "cell_type": "code",
   "execution_count": null,
   "id": "ba980930-e37f-4dd3-aa84-6d99ae8cfffc",
   "metadata": {},
   "outputs": [],
   "source": [
    "Syntax\n",
    "match expression:\n",
    "  case x:\n",
    "    code block\n",
    "  case y:\n",
    "    code block\n",
    "  case z:\n",
    "    code block"
   ]
  },
  {
   "cell_type": "markdown",
   "id": "074a0ad9-13b5-4881-a424-91ab1f35667b",
   "metadata": {},
   "source": [
    "This is how it works:\n",
    "\n",
    "1. The match expression is evaluated once.\n",
    "2. The value of the expression is compared with the values of each case.\n",
    "3. If there is a match, the associated block of code is executed."
   ]
  },
  {
   "cell_type": "code",
   "execution_count": 1,
   "id": "c3a19428-e6ec-4097-b253-8faf82199c42",
   "metadata": {},
   "outputs": [
    {
     "name": "stdout",
     "output_type": "stream",
     "text": [
      "Thursday\n"
     ]
    }
   ],
   "source": [
    "day = 4\n",
    "match day:\n",
    "  case 1:\n",
    "    print(\"Monday\")\n",
    "  case 2:\n",
    "    print(\"Tuesday\")\n",
    "  case 3:\n",
    "    print(\"Wednesday\")\n",
    "  case 4:\n",
    "    print(\"Thursday\")\n",
    "  case 5:\n",
    "    print(\"Friday\")\n",
    "  case 6:\n",
    "    print(\"Saturday\")\n",
    "  case 7:\n",
    "    print(\"Sunday\")"
   ]
  },
  {
   "cell_type": "markdown",
   "id": "94bc9451-e9b7-4483-a553-8623c0d51e8c",
   "metadata": {},
   "source": [
    "# Default Value\n",
    "Use the underscore character _ as the last case value if you want a code block to execute when there are not other matches"
   ]
  },
  {
   "cell_type": "code",
   "execution_count": 2,
   "id": "a2c3652b-e1e8-4904-b8fa-098cfcc009f3",
   "metadata": {},
   "outputs": [
    {
     "name": "stdout",
     "output_type": "stream",
     "text": [
      "Looking forward to the Weekend\n"
     ]
    }
   ],
   "source": [
    "day = 4\n",
    "match day:\n",
    "  case 6:\n",
    "    print(\"Today is Saturday\")\n",
    "  case 7:\n",
    "    print(\"Today is Sunday\")\n",
    "  case _:\n",
    "    print(\"Looking forward to the Weekend\")\n"
   ]
  },
  {
   "cell_type": "markdown",
   "id": "032ef205-1e9f-405c-bf94-72f913e31912",
   "metadata": {},
   "source": [
    "# Combine Values\n",
    "Use the pipe character | as an or operator in the case evaluation to check for more than one value match in one case:"
   ]
  },
  {
   "cell_type": "markdown",
   "id": "efbe2322-7d4c-4406-9fc7-0b4b8c2d5ba7",
   "metadata": {},
   "source": [
    "\n",
    "# If Statements as Guards\n",
    "You can add if statements in the case evaluation as an extra condition-check:\n",
    "\n"
   ]
  },
  {
   "cell_type": "code",
   "execution_count": 4,
   "id": "1e5e22e4-e2e9-45a0-a1a5-4b957c04b157",
   "metadata": {},
   "outputs": [
    {
     "name": "stdout",
     "output_type": "stream",
     "text": [
      "A weekday in May\n"
     ]
    }
   ],
   "source": [
    "month = 5\n",
    "day = 4\n",
    "match day:\n",
    "  case 1 | 2 | 3 | 4 | 5 if month == 4:\n",
    "    print(\"A weekday in April\")\n",
    "  case 1 | 2 | 3 | 4 | 5 if month == 5:\n",
    "    print(\"A weekday in May\")\n",
    "  case _:\n",
    "    print(\"No match\")"
   ]
  },
  {
   "cell_type": "markdown",
   "id": "aabd053c-c538-4069-b9b7-be9c200c5c2a",
   "metadata": {},
   "source": [
    "<div style=\"background-color: lightblue; color: white; padding: 10px; text-align: center;\">\n",
    "    <h1>_________________________________END________________________________\n",
    "<!--- Devashish Kumar | Tech Skills Trainer | CodroidHub Private Limited | AI/ML Consultant --->\n",
    "    </h1> </div>"
   ]
  },
  {
   "cell_type": "markdown",
   "id": "31897d10-23fa-4768-ae56-d12e27c24eca",
   "metadata": {},
   "source": [
    "<div style=\"background-color: #002147; color: #fff; padding: 30px; text-align: center;\">\n",
    "    <h1>THANK YOU!\n",
    "        <!--- Devashish Kumar | Tech Skills Trainer | CodroidHub Private Limited | AI/ML Consultant --->\n",
    "</h1> </div>"
   ]
  }
 ],
 "metadata": {
  "kernelspec": {
   "display_name": "Python 3 (ipykernel)",
   "language": "python",
   "name": "python3"
  },
  "language_info": {
   "codemirror_mode": {
    "name": "ipython",
    "version": 3
   },
   "file_extension": ".py",
   "mimetype": "text/x-python",
   "name": "python",
   "nbconvert_exporter": "python",
   "pygments_lexer": "ipython3",
   "version": "3.12.4"
  }
 },
 "nbformat": 4,
 "nbformat_minor": 5
}

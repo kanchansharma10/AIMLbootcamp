{
 "cells": [
  {
   "cell_type": "markdown",
   "id": "fe6f6c37-e948-4b4f-8774-d6e5320da52e",
   "metadata": {},
   "source": [
    "# Assignment 4 : Mini Projects\n",
    "# project : simple calculator"
   ]
  },
  {
   "cell_type": "code",
   "execution_count": 1,
   "id": "41580cf5-4129-491f-9ec6-8cd8ffc46c01",
   "metadata": {},
   "outputs": [
    {
     "name": "stdin",
     "output_type": "stream",
     "text": [
      "enter the num 5\n",
      "enter the num 7\n"
     ]
    },
    {
     "name": "stdout",
     "output_type": "stream",
     "text": [
      "\n",
      " 1-add, \n",
      " 2-sub, /n 3-mul, \n",
      "4-div\n"
     ]
    },
    {
     "name": "stdin",
     "output_type": "stream",
     "text": [
      "enter the operation  3\n"
     ]
    },
    {
     "name": "stdout",
     "output_type": "stream",
     "text": [
      "mul 35\n"
     ]
    }
   ],
   "source": [
    "num1 = int(input(\"enter the num\"))\n",
    "num2 = int(input(\"enter the num\"))\n",
    "print(\"\\n 1-add, \\n 2-sub, /n 3-mul, \\n4-div\")\n",
    "operation = int(input(\"enter the operation \"))\n",
    "if operation == 1:\n",
    "    print(\"add\",num1+num2)\n",
    "elif operation == 2:\n",
    "    print(\"sub\",num1-num2)\n",
    "elif operation == 3:\n",
    "    print(\"mul\",num1*num2)\n",
    "if operation == 4:\n",
    "    print(\"div\",num1/num2)"
   ]
  },
  {
   "cell_type": "markdown",
   "id": "c38657d0-7781-4712-b3fa-bdad9d261b96",
   "metadata": {},
   "source": [
    "# project 2 : guess the number"
   ]
  },
  {
   "cell_type": "code",
   "execution_count": 3,
   "id": "45c728a9-9eb2-42e0-a2e0-47f7264237eb",
   "metadata": {},
   "outputs": [
    {
     "name": "stdin",
     "output_type": "stream",
     "text": [
      "enter the number(between 1 and 10): 5\n"
     ]
    },
    {
     "name": "stdout",
     "output_type": "stream",
     "text": [
      "Try again\n"
     ]
    },
    {
     "name": "stdin",
     "output_type": "stream",
     "text": [
      "enter the number(between 1 and 10): 6\n"
     ]
    },
    {
     "name": "stdout",
     "output_type": "stream",
     "text": [
      "Try again\n"
     ]
    },
    {
     "name": "stdin",
     "output_type": "stream",
     "text": [
      "enter the number(between 1 and 10): 7\n"
     ]
    },
    {
     "name": "stdout",
     "output_type": "stream",
     "text": [
      "Try again\n"
     ]
    },
    {
     "name": "stdin",
     "output_type": "stream",
     "text": [
      "enter the number(between 1 and 10): 8\n"
     ]
    },
    {
     "name": "stdout",
     "output_type": "stream",
     "text": [
      "correct ! You guess the numbe|r\n"
     ]
    }
   ],
   "source": [
    "import random\n",
    "secret_number = random.randint(1,10)\n",
    "while True:\n",
    "    guess = int(input(\"enter the number(between 1 and 10):\"))\n",
    "    if guess == secret_number:\n",
    "        print(\"correct ! You guess the numbe|r\")\n",
    "        break\n",
    "    else:\n",
    "        print(\"Try again\")\n",
    "        \n",
    "    "
   ]
  },
  {
   "cell_type": "markdown",
   "id": "64b63422-06bc-40dd-98a5-296fdee1918c",
   "metadata": {},
   "source": [
    "# Project 3 : rock - paper - scissor game"
   ]
  },
  {
   "cell_type": "code",
   "execution_count": 4,
   "id": "8b926022-7f14-4db0-856f-bb3bcd078715",
   "metadata": {},
   "outputs": [
    {
     "name": "stdin",
     "output_type": "stream",
     "text": [
      "enter a choice(rock , paper , scissor): paper\n"
     ]
    },
    {
     "name": "stdout",
     "output_type": "stream",
     "text": [
      "you choice paper , computer choice rock\n",
      "paper cover the rock, You win!\n"
     ]
    }
   ],
   "source": [
    "import random\n",
    "user_action = input(\"enter a choice(rock , paper , scissor):\")\n",
    "possible_action = (\"rock\" , \"paper\" , \"scissor\")\n",
    "computer_action = random.choice(possible_action)\n",
    "print(f'you choice {user_action} , computer choice {computer_action}')\n",
    "if user_action == computer_action:\n",
    "    print(\" It is a tie\")\n",
    "elif user_action == \"rock\":\n",
    "    if computer_action == \"scissor\":\n",
    "        print(\"rock smashes the scissor, You win!\")\n",
    "    else:\n",
    "        print(\"paper cover the scissor, You lose!\")\n",
    "elif user_action == \"paper\":\n",
    "    if computer_action == \"rock\":\n",
    "        print(\"paper cover the rock, You win!\")\n",
    "    else:\n",
    "        print(\"scissor cut the paper, You lose!\")\n",
    "elif user_action == \"scissor\":\n",
    "    if computer_action == \"paper\":\n",
    "        print(\"scissor cut the paper, You win!\")\n",
    "    else:\n",
    "        print(\"rock smashes the scissor, You lose!\")"
   ]
  },
  {
   "cell_type": "code",
   "execution_count": null,
   "id": "3d6bca7d-4424-4694-95c6-3dce1ddba2c8",
   "metadata": {},
   "outputs": [],
   "source": []
  }
 ],
 "metadata": {
  "kernelspec": {
   "display_name": "Python 3 (ipykernel)",
   "language": "python",
   "name": "python3"
  },
  "language_info": {
   "codemirror_mode": {
    "name": "ipython",
    "version": 3
   },
   "file_extension": ".py",
   "mimetype": "text/x-python",
   "name": "python",
   "nbconvert_exporter": "python",
   "pygments_lexer": "ipython3",
   "version": "3.12.4"
  }
 },
 "nbformat": 4,
 "nbformat_minor": 5
}

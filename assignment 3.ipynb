{
 "cells": [
  {
   "cell_type": "markdown",
   "id": "64c288aa-1511-49d5-b085-037761e0ef68",
   "metadata": {},
   "source": [
    "# Assignment 3 : loops and control structures\n",
    "# Task 1 = print multiplication table\n",
    "\n"
   ]
  },
  {
   "cell_type": "code",
   "execution_count": 1,
   "id": "717b3648-a116-47b5-9b5e-ea6f177b7dec",
   "metadata": {},
   "outputs": [
    {
     "name": "stdin",
     "output_type": "stream",
     "text": [
      "enter the num  7\n"
     ]
    },
    {
     "name": "stdout",
     "output_type": "stream",
     "text": [
      "7x1 = 7\n",
      "7x2 = 14\n",
      "7x3 = 21\n",
      "7x4 = 28\n",
      "7x5 = 35\n",
      "7x6 = 42\n",
      "7x7 = 49\n",
      "7x8 = 56\n",
      "7x9 = 63\n",
      "7x10 = 70\n"
     ]
    }
   ],
   "source": [
    "num = int(input(\"enter the num \"))\n",
    "for i in range (1,11):\n",
    "   print(f'{num}x{i} = {num*i}')"
   ]
  },
  {
   "cell_type": "code",
   "execution_count": 2,
   "id": "a821242c-fe07-45f1-82f0-f7e9f70acbc3",
   "metadata": {},
   "outputs": [
    {
     "name": "stdin",
     "output_type": "stream",
     "text": [
      "enter the num  3\n"
     ]
    },
    {
     "name": "stdout",
     "output_type": "stream",
     "text": [
      "3\n",
      "6\n",
      "9\n",
      "12\n",
      "15\n",
      "18\n",
      "21\n",
      "24\n",
      "27\n",
      "30\n"
     ]
    }
   ],
   "source": [
    "num = int(input(\"enter the num \"))\n",
    "for i in range (1,11):\n",
    "    print(num*i)"
   ]
  },
  {
   "cell_type": "markdown",
   "id": "6d36e359-b6b1-4bd7-9172-f5f086fb9139",
   "metadata": {},
   "source": [
    "# Task 2 = print numbers from 10 to 1 using a while loop"
   ]
  },
  {
   "cell_type": "code",
   "execution_count": 3,
   "id": "392fd192-d1e2-4ef0-8bac-4d365053a932",
   "metadata": {},
   "outputs": [
    {
     "name": "stdout",
     "output_type": "stream",
     "text": [
      "10\n",
      "9\n",
      "8\n",
      "7\n",
      "6\n",
      "5\n",
      "4\n",
      "3\n",
      "2\n",
      "1\n"
     ]
    }
   ],
   "source": [
    "i = 10\n",
    "while i>=1:\n",
    "    print(i)\n",
    "    i -= 1\n",
    "    "
   ]
  },
  {
   "cell_type": "markdown",
   "id": "62f63dd8-3915-4674-b87a-39171f80f276",
   "metadata": {},
   "source": [
    "# Task 3 = finding maximum and minimum numbers"
   ]
  },
  {
   "cell_type": "code",
   "execution_count": 4,
   "id": "d65f9133-76e6-4c69-8638-46f9b131e01f",
   "metadata": {},
   "outputs": [
    {
     "name": "stdout",
     "output_type": "stream",
     "text": [
      "minimum number:1\n",
      "maximum number:78\n"
     ]
    }
   ],
   "source": [
    "list = [ 1 ,8 ,7 ,9 , 3 , 5 , 12 , 78 ,2 , 56]\n",
    "min = min(list)\n",
    "max = max(list)\n",
    "print(f'minimum number:{min}')\n",
    "print(f'maximum number:{max}')\n"
   ]
  },
  {
   "cell_type": "markdown",
   "id": "802ae1e5-64d8-4f7c-ac35-8494448df8cd",
   "metadata": {},
   "source": [
    "# Take 4 : print the fibonacci sequence up to n terms"
   ]
  },
  {
   "cell_type": "code",
   "execution_count": 7,
   "id": "6964f386-e6ed-4ee7-8d86-fc1f25120a26",
   "metadata": {},
   "outputs": [
    {
     "ename": "NameError",
     "evalue": "name 'num2' is not defined",
     "output_type": "error",
     "traceback": [
      "\u001b[1;31m---------------------------------------------------------------------------\u001b[0m",
      "\u001b[1;31mNameError\u001b[0m                                 Traceback (most recent call last)",
      "Cell \u001b[1;32mIn[7], line 4\u001b[0m\n\u001b[0;32m      2\u001b[0m num \u001b[38;5;241m=\u001b[39m \u001b[38;5;241m1\u001b[39m\n\u001b[0;32m      3\u001b[0m num \u001b[38;5;241m=\u001b[39m \u001b[38;5;241m2\u001b[39m\n\u001b[1;32m----> 4\u001b[0m next_number \u001b[38;5;241m=\u001b[39m \u001b[43mnum2\u001b[49m\n\u001b[0;32m      5\u001b[0m count \u001b[38;5;241m=\u001b[39m \u001b[38;5;241m1\u001b[39m\n\u001b[0;32m      6\u001b[0m \u001b[38;5;28;01mwhile\u001b[39;00m count \u001b[38;5;241m<\u001b[39m\u001b[38;5;241m=\u001b[39m n:\n",
      "\u001b[1;31mNameError\u001b[0m: name 'num2' is not defined"
     ]
    }
   ],
   "source": [
    "n = 10 \n",
    "num = 1\n",
    "num = 2\n",
    "next_number = num2\n",
    "count = 1\n",
    "while count <= n:\n",
    "    print(next_number, end=\" \")\n",
    "    count += 1\n",
    "    num1 , num2 =  num2 , next_number\n",
    "    next_number = num1 + num2\n",
    "print()\n",
    "    \n"
   ]
  },
  {
   "cell_type": "code",
   "execution_count": null,
   "id": "17d4d3c5-4b31-4fb6-a69e-9f049a7d79eb",
   "metadata": {},
   "outputs": [],
   "source": []
  }
 ],
 "metadata": {
  "kernelspec": {
   "display_name": "Python 3 (ipykernel)",
   "language": "python",
   "name": "python3"
  },
  "language_info": {
   "codemirror_mode": {
    "name": "ipython",
    "version": 3
   },
   "file_extension": ".py",
   "mimetype": "text/x-python",
   "name": "python",
   "nbconvert_exporter": "python",
   "pygments_lexer": "ipython3",
   "version": "3.12.4"
  }
 },
 "nbformat": 4,
 "nbformat_minor": 5
}

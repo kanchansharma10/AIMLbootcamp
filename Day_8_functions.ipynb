{
 "cells": [
  {
   "cell_type": "markdown",
   "id": "8c4bc666-34a1-47b6-8018-1ad79dafae95",
   "metadata": {},
   "source": [
    "<div style=\"background-color: #add8e6; padding: 10px; height: 70px; border-radius: 15px;\">\n",
    "    <div style=\"font-family: 'Georgia', serif; font-size: 20px; padding: 10px; text-align: right; position: absolute; right: 20px;\">\n",
    "        Kanchan Sharma <br>\n",
    "        <span style=\"font-family: 'Arial', sans-serif;font-size: 12px; color: #0a0a0a;\">Tech Skills Trainee | AI/ML Bootcamp</span> \n",
    "    </div>\n",
    "</div>"
   ]
  },
  {
   "cell_type": "markdown",
   "id": "ef444d2e-97e9-49a8-bf3d-0119a2dfebb5",
   "metadata": {},
   "source": [
    "<!--- Devashish Kumar | Tech Skills Trainer | CodroidHub Private Limited | AI/ML Consultant --->"
   ]
  },
  {
   "cell_type": "markdown",
   "id": "151ad3d8-0bce-4e29-86da-5ea91b5a69df",
   "metadata": {},
   "source": [
    "<div style=\"background-color: #002147; padding: 10px; text-align: center; color: white; font-size: 32px; font-family: 'Arial', sans-serif;\">\n",
    "    Functions in Python <br>\n",
    "    <h3 style=\"text-align: center; color: white; font-size: 15px; font-family: 'Arial', sans-serif;\">Introduction</h3>\n",
    "</div>"
   ]
  },
  {
   "cell_type": "markdown",
   "id": "fbbaf312-23fb-475f-91e8-dbd31b88df50",
   "metadata": {},
   "source": [
    "# What is function in python?"
   ]
  },
  {
   "cell_type": "markdown",
   "id": "7fb8295a-207d-4c7a-8660-1c22896b5fcf",
   "metadata": {},
   "source": [
    "In Python, a function is a block of code that only runs when it is called. Functions allow for code reusability, modularity, and better organization. You can define functions to perform specific tasks, and then you can call them whenever needed."
   ]
  },
  {
   "cell_type": "markdown",
   "id": "2fdda083-ad1f-4275-9805-d67aaaa1c926",
   "metadata": {},
   "source": [
    "# Key points:\n",
    "def keyword: This is used to define a function.\n",
    "\n",
    "Function name: This is the name you choose for your function.\n",
    "\n",
    "Parameters (optional): These are values you can pass to the function. They are optional.\n",
    "\n",
    "Return value (optional): A function can return a value, which you can use elsewhere in your program."
   ]
  },
  {
   "cell_type": "code",
   "execution_count": 3,
   "id": "fdd3abac-8dbd-4db7-b50f-7dde3545097b",
   "metadata": {},
   "outputs": [],
   "source": [
    "def greet(name):\n",
    "    print(f\"Hello, {name}!\")\n"
   ]
  },
  {
   "cell_type": "code",
   "execution_count": 4,
   "id": "8385919e-5b2f-4e0e-bc28-d999de684fae",
   "metadata": {},
   "outputs": [
    {
     "name": "stdout",
     "output_type": "stream",
     "text": [
      "8\n"
     ]
    }
   ],
   "source": [
    "def add(a, b):\n",
    "    return a + b\n",
    "\n",
    "result = add(3, 5)\n",
    "print(result) \n",
    "\n"
   ]
  },
  {
   "cell_type": "markdown",
   "id": "40e76f36-88d7-49c3-b636-94f2caa77f03",
   "metadata": {},
   "source": [
    "# Types of functions in Python:\n",
    "Built-in functions: These are functions that are provided by Python, such as print(), len(), sum(), etc.\n",
    "\n",
    "User-defined functions: These are functions that you define yourself, like the examples shown above.\n",
    "\n"
   ]
  },
  {
   "cell_type": "markdown",
   "id": "92cb2bee-3429-4bcc-b27b-8b230f518a30",
   "metadata": {},
   "source": [
    "\n",
    " "
   ]
  },
  {
   "cell_type": "markdown",
   "id": "6a90d843-ae40-431f-bc93-01dde7d3147b",
   "metadata": {},
   "source": [
    "# Why use function in python?\n",
    "Using functions in Python provides several benefits, particularly when writing and maintaining code.\n",
    "1. Code Reusability\n",
    "\n",
    "2. Modularit\n",
    "3. Improved Code Readability and Maintainability\n",
    "4. Abstraction\n",
    "5. Avoid Repetition (DRY principle)\n",
    "6.  Easier Debugging\n",
    "7.  Support for Recursion\n",
    "8.  Better Memory Management\n",
    "                   \n",
    "y."
   ]
  },
  {
   "cell_type": "markdown",
   "id": "633c9ad9-47a1-45f1-beeb-efa9af5324db",
   "metadata": {},
   "source": [
    "1. Code Reusability\n",
    "Functions allow you to write a block of code once and reuse it multiple times without having to rewrite the same code. This reduces redundancy and makes your code more concise and efficient.\n",
    "\n",
    "Example:"
   ]
  },
  {
   "cell_type": "code",
   "execution_count": 5,
   "id": "2e4e5fb1-7fd9-4984-a0d0-680aff53a2df",
   "metadata": {},
   "outputs": [
    {
     "name": "stdout",
     "output_type": "stream",
     "text": [
      "Hello, Alice!\n",
      "Hello, Bob!\n"
     ]
    }
   ],
   "source": [
    "def greet(name):\n",
    "    return f\"Hello, {name}!\"\n",
    "\n",
    "print(greet(\"Alice\"))\n",
    "print(greet(\"Bob\"))\n"
   ]
  },
  {
   "cell_type": "markdown",
   "id": "aa2c70c4-8f50-482e-a73c-6d0b5dacedf7",
   "metadata": {},
   "source": [
    "2. Modularity\n",
    "Functions help break down complex problems into smaller, manageable tasks (modular design). This makes it easier to work on different parts of a program independently."
   ]
  },
  {
   "cell_type": "markdown",
   "id": "66404ba1-98be-4c73-8606-6ec2e087fbaa",
   "metadata": {},
   "source": [
    "3. Improved Code Readability and Maintainability\n",
    "Functions help make your code more organized, easier to read, and simpler to understand. Each function performs a specific task, which makes it easier to trace and debug when something goes wrong."
   ]
  },
  {
   "cell_type": "markdown",
   "id": "690633af-46d9-4b43-8eb6-b5ea37ef191e",
   "metadata": {},
   "source": [
    "4. Abstraction\n",
    "Functions abstract away complex details. Once a function is defined, you don’t need to worry about how it works internally each time you use it; you just call it with the necessary inputs.\n",
    "\n",
    "Example:"
   ]
  },
  {
   "cell_type": "code",
   "execution_count": 14,
   "id": "523ed342-d6b0-43ba-a2ec-77c43e3863ec",
   "metadata": {},
   "outputs": [
    {
     "name": "stdout",
     "output_type": "stream",
     "text": [
      "200.96\n"
     ]
    }
   ],
   "source": [
    "\n",
    "def calculate_area(radius):\n",
    "    return 3.14 * radius ** 2\n",
    "\n",
    "area = calculate_area(8)\n",
    "print(area)\n"
   ]
  },
  {
   "cell_type": "markdown",
   "id": "6b20b011-0ec2-4a31-89f2-6a966b75d6ef",
   "metadata": {},
   "source": [
    "5. Avoid Repetition (DRY principle)\n",
    "Using functions prevents you from writing the same code multiple times, which is a core principle of clean code known as Don't Repeat Yourself (DRY).\n"
   ]
  },
  {
   "cell_type": "markdown",
   "id": "1dce5f77-9a2c-4aeb-89a4-347ec9856fe4",
   "metadata": {},
   "source": [
    "\n",
    "6. Easier Debugging\n",
    "When you encounter an issue, functions make it easier to locate the problem since each function handles a specific task. This modular approach allows you to test and debug each part independently.i)\r\n"
   ]
  },
  {
   "cell_type": "markdown",
   "id": "3945a5fc-c498-475a-a590-088b9872ea29",
   "metadata": {},
   "source": [
    "7.  Support for Recursion\n",
    "Functions in Python can call themselves, which allows for solving problems recursively (e.g., calculating factorials, traversing directories). This is not possible without functions.\n",
    "\n",
    "\n"
   ]
  },
  {
   "cell_type": "code",
   "execution_count": 12,
   "id": "8c7432a4-c6de-4cd9-a8f3-56802a804399",
   "metadata": {},
   "outputs": [
    {
     "name": "stdout",
     "output_type": "stream",
     "text": [
      "120\n"
     ]
    }
   ],
   "source": [
    "def factorial(n):\n",
    "    if n == 1:\n",
    "        return 1\n",
    "    else:\n",
    "        return n * factorial(n - 1)\n",
    "\n",
    "print(factorial(5))  \n",
    "\n"
   ]
  },
  {
   "cell_type": "markdown",
   "id": "ba3f2fe0-ea5d-4e4d-9477-c02cbeab479c",
   "metadata": {},
   "source": [
    "8. Better Memory Management\n",
    "Functions help in managing memory more efficiently. Variables defined within a function are local to that function and are discarded when the function execution is completed, reducing memory usage."
   ]
  },
  {
   "cell_type": "markdown",
   "id": "e480be22-b57d-443e-9d15-48c842c8540d",
   "metadata": {},
   "source": [
    "# Importent point about functions\n"
   ]
  },
  {
   "cell_type": "markdown",
   "id": "816f2caa-5467-475f-8e3d-6db7b2a58d7c",
   "metadata": {},
   "source": [
    "# 1. Function Definition\n"
   ]
  },
  {
   "cell_type": "code",
   "execution_count": 17,
   "id": "7deba5a0-e9a0-4ac8-b77c-a1b3127f48cd",
   "metadata": {},
   "outputs": [],
   "source": [
    "\n",
    "def function_name(parameter1, parameter2):\n",
    "    # Body of the function\n",
    "    result = parameter1 + parameter2\n",
    "    return result  \n"
   ]
  },
  {
   "cell_type": "markdown",
   "id": "91ea0846-7030-4c50-8043-ad5eb9903f02",
   "metadata": {},
   "source": [
    "\n",
    "def: This keyword is used to declare a function.\n",
    "\n",
    "function_name: The name given to the function (it should be descriptive of what the function does).\n",
    "\n",
    "parameters: These are the inputs to the function. You can have none, one, or many.\n",
    "\n",
    "return: This returns the result of the function. If no return statement is provided, the function returns None."
   ]
  },
  {
   "cell_type": "markdown",
   "id": "df77e017-191a-4bbb-9f40-c329ecc6f801",
   "metadata": {},
   "source": [
    "\n",
    "# 2. Calling a Function\n",
    "Once a function is defined, you can call it to execute the code inside it."
   ]
  },
  {
   "cell_type": "code",
   "execution_count": 19,
   "id": "f4aa81b3-ecec-4e49-a299-cc02afcfe6bf",
   "metadata": {},
   "outputs": [
    {
     "name": "stdout",
     "output_type": "stream",
     "text": [
      "12\n"
     ]
    }
   ],
   "source": [
    "def multiply(a, b):\n",
    "    return a * b\n",
    "\n",
    "result = multiply(3, 4)  # Calling the function\n",
    "print(result)  \n",
    "\n"
   ]
  },
  {
   "cell_type": "markdown",
   "id": "a6ae7132-89da-4bf6-87e1-5df8ea7adb0c",
   "metadata": {},
   "source": [
    "\n",
    "# 3. Parameters and Arguments\n",
    "Functions can accept parameters (or arguments when calling the function), and these parameters can have various types:\n",
    "\n",
    "Positional Parameters: Arguments passed in the order defined by the function."
   ]
  },
  {
   "cell_type": "code",
   "execution_count": 20,
   "id": "651f14ac-da58-4914-9ced-1ba433e251eb",
   "metadata": {},
   "outputs": [
    {
     "name": "stdout",
     "output_type": "stream",
     "text": [
      "8\n"
     ]
    }
   ],
   "source": [
    "def add(a, b):\n",
    "    return a + b\n",
    "\n",
    "print(add(3, 5))  # Positional arguments: 3 and 5\n"
   ]
  },
  {
   "cell_type": "markdown",
   "id": "7469fd9b-f33c-4bca-a4cd-991fb224f554",
   "metadata": {},
   "source": [
    "Default Parameters: You can set default values for parameters. If the caller doesn't provide a value, the default will be used."
   ]
  },
  {
   "cell_type": "code",
   "execution_count": 21,
   "id": "dd3f2f44-a6f2-4e45-bc0a-43cc028364dc",
   "metadata": {},
   "outputs": [
    {
     "name": "stdout",
     "output_type": "stream",
     "text": [
      "Hello, Guest!\n",
      "Hello, Alice!\n"
     ]
    }
   ],
   "source": [
    "def greet(name=\"Guest\"):\n",
    "    return f\"Hello, {name}!\"\n",
    "\n",
    "print(greet())  # Uses the default value: \"Guest\"\n",
    "print(greet(\"Alice\"))  \n"
   ]
  },
  {
   "cell_type": "markdown",
   "id": "9f616926-53da-4fb8-8e55-7e3f66268e89",
   "metadata": {},
   "source": [
    "\n"
   ]
  },
  {
   "cell_type": "code",
   "execution_count": null,
   "id": "7e6b60e4-fdc7-48e6-9112-e961c5b95584",
   "metadata": {},
   "outputs": [],
   "source": [
    "Keyword Arguments: You can pass arguments by specifying the parameter names."
   ]
  },
  {
   "cell_type": "code",
   "execution_count": 22,
   "id": "74e44cac-529e-49f6-9b17-fc1a9c933c7e",
   "metadata": {},
   "outputs": [
    {
     "name": "stdout",
     "output_type": "stream",
     "text": [
      "Alice is 30 years old.\n"
     ]
    }
   ],
   "source": [
    "def greet(name, age):\n",
    "    return f\"{name} is {age} years old.\"\n",
    "\n",
    "print(greet(age=30, name=\"Alice\"))  # Keyword arguments\n"
   ]
  },
  {
   "cell_type": "markdown",
   "id": "051de3ab-919d-42c8-9b9f-1e806a240f4f",
   "metadata": {},
   "source": [
    "Variable-Length Arguments: Sometimes, you don't know in advance how many arguments you'll need to pass. You can use *args (for non-keyword arguments) and **kwargs (for keyword arguments) to allow for variable-length arguments.\n",
    "\n"
   ]
  },
  {
   "cell_type": "code",
   "execution_count": 23,
   "id": "2ce3020f-7220-4ddb-a1ad-f89976db3fa9",
   "metadata": {},
   "outputs": [
    {
     "name": "stdout",
     "output_type": "stream",
     "text": [
      "10\n"
     ]
    }
   ],
   "source": [
    "def sum_all(*args):\n",
    "    return sum(args)\n",
    "\n",
    "print(sum_all(1, 2, 3, 4)) \n"
   ]
  },
  {
   "cell_type": "markdown",
   "id": "d75e87fa-5fa9-471a-8247-1bc044f7bc62",
   "metadata": {},
   "source": [
    "# 4. Return Value\n",
    "Functions can return a value using the return statement. If a function doesn't return anything, it returns None by default.\n",
    "\n",
    "\n"
   ]
  },
  {
   "cell_type": "code",
   "execution_count": 24,
   "id": "ee818257-ddbf-43e2-a7ba-19d37562c542",
   "metadata": {},
   "outputs": [
    {
     "name": "stdout",
     "output_type": "stream",
     "text": [
      "25\n"
     ]
    }
   ],
   "source": [
    "def square(x):\n",
    "    return x * x\n",
    "\n",
    "result = square(5)\n",
    "print(result)  \n"
   ]
  },
  {
   "cell_type": "markdown",
   "id": "ef70a113-d526-4b13-87ac-719265a4f35b",
   "metadata": {},
   "source": [
    "# 5. Local and Global Variables\n",
    "Local Variables: Variables defined inside a function are local to that function. They are not accessible outside the function."
   ]
  },
  {
   "cell_type": "code",
   "execution_count": 25,
   "id": "426acb23-27be-4b38-a764-f1bd10c4e49c",
   "metadata": {},
   "outputs": [
    {
     "name": "stdout",
     "output_type": "stream",
     "text": [
      "10\n"
     ]
    }
   ],
   "source": [
    "def my_func():\n",
    "    x = 10  # x is a local variable\n",
    "    print(x)\n",
    "\n",
    "my_func()\n"
   ]
  },
  {
   "cell_type": "markdown",
   "id": "65714d58-7a0a-4df3-adac-0e4e04ad0e16",
   "metadata": {},
   "source": [
    "Global Variables: Variables defined outside of any function are global. They can be accessed from anywhere in the program."
   ]
  },
  {
   "cell_type": "code",
   "execution_count": 26,
   "id": "6637f088-fe1d-4f5b-ab47-cfb3aeb76787",
   "metadata": {},
   "outputs": [
    {
     "name": "stdout",
     "output_type": "stream",
     "text": [
      "10\n"
     ]
    }
   ],
   "source": [
    "x = 10  # x is a global variable\n",
    "\n",
    "def my_func():\n",
    "    print(x)  # Accessing the global variable\n",
    "\n",
    "my_func()  \n"
   ]
  },
  {
   "cell_type": "markdown",
   "id": "877636c2-e19a-4012-a8c5-01709d044ced",
   "metadata": {},
   "source": [
    "# 7. Nested Functions\n",
    "Python allows you to define functions inside other functions. These inner functions can access variables from the outer function, creating a closur\n"
   ]
  },
  {
   "cell_type": "code",
   "execution_count": 27,
   "id": "44c81149-0218-4b6f-8420-71c4872637d8",
   "metadata": {},
   "outputs": [
    {
     "name": "stdout",
     "output_type": "stream",
     "text": [
      "15\n"
     ]
    }
   ],
   "source": [
    "def outer_function(x):\n",
    "    def inner_function(y):\n",
    "        return y + x\n",
    "    return inner_function\n",
    "\n",
    "closure = outer_function(10)\n",
    "print(closure(5))  \n"
   ]
  },
  {
   "cell_type": "markdown",
   "id": "9e926ab0-a3d4-4f3e-9ba7-4cab8e9282d1",
   "metadata": {},
   "source": [
    "\n",
    "# 8. Higher-Order Functions\n",
    "A higher-order function is a function that either takes one or more functions as arguments or returns a function as its result.\n",
    "\n"
   ]
  },
  {
   "cell_type": "code",
   "execution_count": 28,
   "id": "54795388-c06c-4f0b-8929-2b2c7c0fe856",
   "metadata": {},
   "outputs": [
    {
     "name": "stdout",
     "output_type": "stream",
     "text": [
      "7\n"
     ]
    }
   ],
   "source": [
    "def apply_operation(a, b, operation):\n",
    "    return operation(a, b)\n",
    "\n",
    "def add(x, y):\n",
    "    return x + y\n",
    "\n",
    "result = apply_operation(3, 4, add)\n",
    "print(result)  \n"
   ]
  },
  {
   "cell_type": "markdown",
   "id": "94c7a558-a480-435a-b99f-8a14de41189a",
   "metadata": {},
   "source": [
    "# Interviews Questions"
   ]
  },
  {
   "cell_type": "markdown",
   "id": "b96cbae1-949b-4eb8-aa10-e98b2235164d",
   "metadata": {},
   "source": [
    "\n",
    "\n",
    "1. What is a function in Python?\n",
    "2. How do you define a function in Python?\n",
    "\n",
    "3. What is the difference between return and print in a function?\n",
    "\n",
    "4. What is the scope of variables in a function?\n",
    "\n",
    "5. Explain the concept of default arguments in a function.\n",
    "\n",
    "6. What is the difference between *args and **kwargs?\n",
    "\n",
    "7. What will happen if a function does not have a return statement?\n",
    "\n",
    "8. Can a function call itself in Python? What is this called?\n",
    "\n",
    "9. What is the purpose of lambda functions in Python?\n",
    "\n",
    "10. What is a higher-order function in Python?\n",
    "\n",
    "11. What is the global keyword used for in Python functions?\n",
    "\n",
    "12. What is a closure in Python?\n",
    "\n",
    "13. Explain function annotations in Python.\n",
    "\n",
    "14. What are recursive functions? Can you give an example?\n",
    "\n",
    "15. What is the purpose of the nonlocal keyword in Python?"
   ]
  },
  {
   "cell_type": "markdown",
   "id": "b69ed7ea-1940-434d-bb2d-601d07994783",
   "metadata": {},
   "source": [
    "<div style=\"background-color: pink; color: #fff; padding: 30px; text-align: center;\">\n",
    "    <h1>END\n",
    "        <!--- Devashish Kumar | Tech Skills Trainer | CodroidHub Private Limited | AI/ML Consultant --->\n",
    "</h1> </div>\n",
    "______\n",
    "<!--- Devashish Kumar | Tech Skills Trainer | CodroidHub Private Limited | AI/ML Consultant --->\n",
    "    </h1> </div>"
   ]
  },
  {
   "cell_type": "markdown",
   "id": "13e86481-eae2-4019-9515-66a43a30f0fb",
   "metadata": {},
   "source": [
    "<div style=\"background-color: #002147; color: #fff; padding: 30px; text-align: center;\">\n",
    "    <h1>THANK YOU!\n",
    "        <!--- Devashish Kumar | Tech Skills Trainer | CodroidHub Private Limited | AI/ML Consultant --->\n",
    "</h1> </div>"
   ]
  },
  {
   "cell_type": "markdown",
   "id": "15cc27b3-58d0-431e-8121-f1b4c08377c7",
   "metadata": {},
   "source": [
    "<!--- Devashish Kumar | Tech Skills Trainer | CodroidHub Private Limited | AI/ML Consultant --->"
   ]
  },
  {
   "cell_type": "code",
   "execution_count": null,
   "id": "4b3db7c3-7371-43cb-8555-fe00d1e392e4",
   "metadata": {},
   "outputs": [],
   "source": []
  }
 ],
 "metadata": {
  "kernelspec": {
   "display_name": "Python 3 (ipykernel)",
   "language": "python",
   "name": "python3"
  },
  "language_info": {
   "codemirror_mode": {
    "name": "ipython",
    "version": 3
   },
   "file_extension": ".py",
   "mimetype": "text/x-python",
   "name": "python",
   "nbconvert_exporter": "python",
   "pygments_lexer": "ipython3",
   "version": "3.12.4"
  }
 },
 "nbformat": 4,
 "nbformat_minor": 5
}

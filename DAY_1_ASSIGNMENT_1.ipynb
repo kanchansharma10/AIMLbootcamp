{
 "cells": [
  {
   "cell_type": "markdown",
   "id": "a0a768df-c7ef-4274-98c6-d64484c0e927",
   "metadata": {},
   "source": [
    "# Assignment 1 : python basics and data types\n",
    "# Task 1 = Understanding Variables\n"
   ]
  },
  {
   "cell_type": "markdown",
   "id": "e5909cdb-59c8-4ea9-bead-db245cb61f91",
   "metadata": {},
   "source": [
    "1.create variables of different data types(intger , float , string , boolean).\n"
   ]
  },
  {
   "cell_type": "code",
   "execution_count": 2,
   "id": "cbc10f23-5273-4fbc-b51e-5a5538cb5ca8",
   "metadata": {},
   "outputs": [
    {
     "name": "stdout",
     "output_type": "stream",
     "text": [
      "10\n",
      "2.7\n",
      "kanchan\n",
      "True\n"
     ]
    }
   ],
   "source": [
    "a = 10\n",
    "b = 2.7\n",
    "c = \"kanchan\"\n",
    "d = 12\n",
    "print(a)\n",
    "print(b)\n",
    "print(c)\n",
    "print(bool(d))"
   ]
  },
  {
   "cell_type": "markdown",
   "id": "9641d071-6508-4270-82e4-1959e0c9ac96",
   "metadata": {},
   "source": [
    "2. print the value along with their data types using type()"
   ]
  },
  {
   "cell_type": "code",
   "execution_count": 3,
   "id": "f2f59146-b7f7-4bb9-9731-8f865b5c28d9",
   "metadata": {},
   "outputs": [
    {
     "name": "stdout",
     "output_type": "stream",
     "text": [
      "a:10,type:<class 'int'>\n",
      "a:10,type:<class 'int'>\n",
      "a:10,type:<class 'int'>\n",
      "a:10,type:<class 'int'>\n"
     ]
    }
   ],
   "source": [
    "print(f'a:{a},type:{type(a)}')\n",
    "print(f'a:{a},type:{type(a)}')\n",
    "print(f'a:{a},type:{type(a)}')\n",
    "print(f'a:{a},type:{type(a)}')\n",
    "\n",
    "\n"
   ]
  },
  {
   "cell_type": "markdown",
   "id": "4205267d-fc25-4a06-9613-dd90c2fb16a1",
   "metadata": {},
   "source": [
    "# Task 2 = Type conversion"
   ]
  },
  {
   "cell_type": "markdown",
   "id": "b4555b85-6fa1-479e-9494-10d1c6189e6c",
   "metadata": {},
   "source": [
    "1. convert an integer to a float"
   ]
  },
  {
   "cell_type": "code",
   "execution_count": 4,
   "id": "30438a19-a816-4d14-b21c-701fa2029207",
   "metadata": {},
   "outputs": [
    {
     "name": "stdout",
     "output_type": "stream",
     "text": [
      "4.0\n"
     ]
    }
   ],
   "source": [
    " a = float(4)\n",
    "print(a)"
   ]
  },
  {
   "cell_type": "markdown",
   "id": "2916e4af-28e3-4492-b10e-d7b8f290ac68",
   "metadata": {},
   "source": [
    "2. convert a float to an integer"
   ]
  },
  {
   "cell_type": "code",
   "execution_count": 5,
   "id": "ddbdf5cf-5ceb-4b73-bdbd-f1b31a1670bd",
   "metadata": {},
   "outputs": [
    {
     "name": "stdout",
     "output_type": "stream",
     "text": [
      "7\n"
     ]
    }
   ],
   "source": [
    "b = int(7.9)\n",
    "print(b)"
   ]
  },
  {
   "cell_type": "markdown",
   "id": "15243ddf-362b-4bab-9885-1547c1464540",
   "metadata": {},
   "source": [
    "3. convert a string to an integer"
   ]
  },
  {
   "cell_type": "code",
   "execution_count": 6,
   "id": "d07aab33-9ce3-46e5-bb1b-ab76edfd3284",
   "metadata": {},
   "outputs": [
    {
     "name": "stdout",
     "output_type": "stream",
     "text": [
      "7\n"
     ]
    }
   ],
   "source": [
    "c = int(\"7\")\n",
    "print(c)"
   ]
  },
  {
   "cell_type": "markdown",
   "id": "0ca3866c-de2d-45ba-a366-b47db36acc44",
   "metadata": {},
   "source": [
    "4. convert an integer to a string and concatenate it with another string."
   ]
  },
  {
   "cell_type": "code",
   "execution_count": 7,
   "id": "c073cbe8-8a26-43d5-a886-09cf97976c92",
   "metadata": {},
   "outputs": [
    {
     "name": "stdout",
     "output_type": "stream",
     "text": [
      "the ans is:23\n"
     ]
    }
   ],
   "source": [
    "num = 23\n",
    "var = \"the ans is:\"\n",
    "result = var+str(num)\n",
    "print(result)"
   ]
  },
  {
   "cell_type": "markdown",
   "id": "659c8125-38ba-4f41-a431-cc3fc1202531",
   "metadata": {},
   "source": [
    "# Task 3 = Mathematical operations"
   ]
  },
  {
   "cell_type": "markdown",
   "id": "c19b932f-b280-4248-b8e1-13c5be00caf1",
   "metadata": {},
   "source": [
    "1. Addition , Subtraction , Multiplication, and Division."
   ]
  },
  {
   "cell_type": "code",
   "execution_count": 8,
   "id": "db3ef8a7-e12e-46a0-aace-32a309274532",
   "metadata": {},
   "outputs": [
    {
     "name": "stdout",
     "output_type": "stream",
     "text": [
      "19\n",
      "11\n",
      "3.75\n",
      "60\n"
     ]
    }
   ],
   "source": [
    "a = 15\n",
    "b = 4\n",
    "print(a+b)\n",
    "print(a-b)\n",
    "print(a/b)\n",
    "print(a*b)"
   ]
  },
  {
   "cell_type": "markdown",
   "id": "5892c0ff-9da3-4fba-a489-0f2b44e72bf0",
   "metadata": {},
   "source": [
    "2. floor division , modulus , and exponentiation."
   ]
  },
  {
   "cell_type": "code",
   "execution_count": 9,
   "id": "e3476520-5093-4c3d-ae44-b60e0c0609c8",
   "metadata": {},
   "outputs": [
    {
     "name": "stdout",
     "output_type": "stream",
     "text": [
      "3\n",
      "3\n",
      "50625\n",
      "50625\n"
     ]
    }
   ],
   "source": [
    "a = 15\n",
    "b = 4\n",
    "print(a//b)\n",
    "print(a%b)\n",
    "print(a**b)#also used for pow function\n",
    "c = pow(15 , 4)\n",
    "print(c)"
   ]
  },
  {
   "cell_type": "markdown",
   "id": "6206bf18-f989-42cd-8a12-19f954c8ceaf",
   "metadata": {},
   "source": [
    "3. Use bit_length() to find a bit length of a number"
   ]
  },
  {
   "cell_type": "code",
   "execution_count": 10,
   "id": "d7445656-8eeb-40e8-94f4-31cf982c3767",
   "metadata": {},
   "outputs": [
    {
     "name": "stdout",
     "output_type": "stream",
     "text": [
      "bit length of 15  is: 3\n",
      "bit length of 15  is: 3\n"
     ]
    }
   ],
   "source": [
    "a = 15\n",
    "b = 4\n",
    "bit_length = a.bit_length()\n",
    "bit_length = b.bit_length()\n",
    "\n",
    "print(f'bit length of {a}  is: {bit_length}')\n",
    "print(f'bit length of {a}  is: {bit_length}')\n"
   ]
  },
  {
   "cell_type": "code",
   "execution_count": null,
   "id": "a0517549-ed1a-4504-896a-e98d40e544e0",
   "metadata": {},
   "outputs": [],
   "source": []
  }
 ],
 "metadata": {
  "kernelspec": {
   "display_name": "Python 3 (ipykernel)",
   "language": "python",
   "name": "python3"
  },
  "language_info": {
   "codemirror_mode": {
    "name": "ipython",
    "version": 3
   },
   "file_extension": ".py",
   "mimetype": "text/x-python",
   "name": "python",
   "nbconvert_exporter": "python",
   "pygments_lexer": "ipython3",
   "version": "3.12.4"
  }
 },
 "nbformat": 4,
 "nbformat_minor": 5
}

{
 "cells": [
  {
   "cell_type": "markdown",
   "id": "8c4bc666-34a1-47b6-8018-1ad79dafae95",
   "metadata": {},
   "source": [
    "<div style=\"background-color: #add8e6; padding: 10px; height: 70px; border-radius: 15px;\">\n",
    "    <div style=\"font-family: 'Georgia', serif; font-size: 20px; padding: 10px; text-align: right; position: absolute; right: 20px;\">\n",
    "        Kanchan Sharma <br>\n",
    "        <span style=\"font-family: 'Arial', sans-serif;font-size: 12px; color: #0a0a0a;\">Tech Skills Trainee | AI/ML Bootcamp</span> \n",
    "    </div>\n",
    "</div>"
   ]
  },
  {
   "cell_type": "markdown",
   "id": "ef444d2e-97e9-49a8-bf3d-0119a2dfebb5",
   "metadata": {},
   "source": [
    "<!--- Devashish Kumar | Tech Skills Trainer | CodroidHub Private Limited | AI/ML Consultant --->"
   ]
  },
  {
   "cell_type": "markdown",
   "id": "151ad3d8-0bce-4e29-86da-5ea91b5a69df",
   "metadata": {},
   "source": [
    "<div style=\"background-color: #002147; padding: 10px; text-align: center; color: white; font-size: 32px; font-family: 'Arial', sans-serif;\">\n",
    "Python Classes and Object <br>\n",
    "    <h3 style=\"text-align: center; color: white; font-size: 15px; font-family: 'Arial', sans-serif;\">Introduction</h3>\n",
    "</div>"
   ]
  },
  {
   "cell_type": "markdown",
   "id": "fbbaf312-23fb-475f-91e8-dbd31b88df50",
   "metadata": {},
   "source": [
    "# What is Python Classes and Object?"
   ]
  },
  {
   "cell_type": "markdown",
   "id": "7fb8295a-207d-4c7a-8660-1c22896b5fcf",
   "metadata": {},
   "source": [
    "1. Python is an object oriented programming language.\n",
    "2. \r\n",
    "Almost everything in Python is an object, with its properties and method\n",
    "3. A Class is like an object constructor, or a \"blueprint\" for creating objects.cts."
   ]
  },
  {
   "cell_type": "markdown",
   "id": "d9104ee6-7b21-4102-b1bc-0fb299dc9a28",
   "metadata": {},
   "source": [
    "# Create a Class\r\n",
    "To create a class, use the keyword class:"
   ]
  },
  {
   "cell_type": "code",
   "execution_count": null,
   "id": "2542f55f-230f-49a9-87d6-01b841d6846f",
   "metadata": {},
   "outputs": [],
   "source": [
    "class MyClass:\n",
    "  x = 5\n",
    "\n",
    "print(MyClass)\n",
    "5"
   ]
  },
  {
   "cell_type": "markdown",
   "id": "16f61128-2677-46cb-a26d-f76d8a21d592",
   "metadata": {},
   "source": [
    "\n",
    "# Create Object\n",
    "Now we can use the class named MyClass to create objects:\n",
    "\n",
    "\n"
   ]
  },
  {
   "cell_type": "code",
   "execution_count": null,
   "id": "8385919e-5b2f-4e0e-bc28-d999de684fae",
   "metadata": {},
   "outputs": [],
   "source": [
    "p1 = MyClass()\n",
    "print(p1.x)\n"
   ]
  },
  {
   "cell_type": "markdown",
   "id": "40e76f36-88d7-49c3-b636-94f2caa77f03",
   "metadata": {},
   "source": [
    "# Important Concepts:\n",
    "Constructor (__init__ method): This is a special method in Python classes. It is automatically called when an object is instantiated. It initializes the object's attributes.\n",
    "\n",
    "self parameter: Refers to the instance of the object. It allows the methods of the class to access the attributes and methods of the object.\n",
    "\n",
    "Attributes: These are variables bound to the instance (object) of the class.\n",
    "\n",
    "Methods: Functions that belong to a class and can operate on its attributes."
   ]
  },
  {
   "cell_type": "markdown",
   "id": "92cb2bee-3429-4bcc-b27b-8b230f518a30",
   "metadata": {},
   "source": [
    "\n",
    " "
   ]
  },
  {
   "cell_type": "code",
   "execution_count": null,
   "id": "b53fe9f4-fd13-4518-bca0-1e8ec248e561",
   "metadata": {},
   "outputs": [],
   "source": [
    "\n",
    "class Animal:\r\n",
    "    def __init__(self, name, species):\r\n",
    "        self.name = name\r\n",
    "        self.species = species\r\n",
    "\r\n",
    "    def speak(self):\r\n",
    "        print(f\"{self.name} says: Hello!\")\r\n",
    "\r\n",
    "class Dog(Animal):  # Dog class inherits from Animal class\r\n",
    "    def __init__(self, name, breed):\r\n",
    "        super().__init__(name, species=\"Dog\")  # Calls the constructor of Animal class\r\n",
    "        self.breed = breed\r\n",
    "\r\n",
    "    def speak(self):  # Overriding the speak method\r\n",
    "        print(f\"{self.name} barks: Woof!\")\r\n",
    "\r\n",
    "# Creating objects\r\n",
    "dog = Dog(\"Buddy\", \"Golden RetrieveBuddy barks: Woof!\r\n"
   ]
  },
  {
   "cell_type": "markdown",
   "id": "15195e03-88eb-4d7f-b8f0-88d29d6de579",
   "metadata": {},
   "source": [
    "# Key Points:\n",
    "Inheritance: One class can inherit attributes and methods from another class.\n",
    "\n",
    "Method Overriding: A subclass can provide its own implementation of a method that is already defined in the parent class.\n"
   ]
  },
  {
   "cell_type": "markdown",
   "id": "aa2c70c4-8f50-482e-a73c-6d0b5dacedf7",
   "metadata": {},
   "source": [
    "\n",
    "# The __init__() Function\r\n",
    "The examples above are classes and objects in their simplest form, and are not really useful in real life applications.\r\n",
    "\r\n",
    "To understand the meaning of classes we have to understand the built-in __init__() function.\r\n",
    "\r\n",
    "All classes have a function called __init__(), which is always executed when the class is being initiated.\r\n",
    "\r\n",
    "Use the __init__() function to assign values to object properties, or other operations that are necessary to do when the object is being created:"
   ]
  },
  {
   "cell_type": "code",
   "execution_count": null,
   "id": "cee9febe-f0ec-4817-93b3-18bc49ce5bcb",
   "metadata": {},
   "outputs": [],
   "source": [
    "class Person:\r\n",
    "  def __init__(self, name, age):\r\n",
    "    self.name = name\r\n",
    "    self.age = age\r\n",
    "\r\n",
    "p1 = Person(\"John\", 36)\r\n",
    "\r\n",
    "print(p1.name)\r\n",
    "print(p1.age)\r\n",
    "\n"
   ]
  },
  {
   "cell_type": "markdown",
   "id": "690633af-46d9-4b43-8eb6-b5ea37ef191e",
   "metadata": {},
   "source": [
    "# The __str__() Function\r\n",
    "The __str__() function controls what should be returned when the class object is represented as a string.\r\n",
    "\r\n",
    "If the __str__() function is not set, the string representation of the object is returned:\r\n",
    "\r\n",
    "\n"
   ]
  },
  {
   "cell_type": "code",
   "execution_count": null,
   "id": "523ed342-d6b0-43ba-a2ec-77c43e3863ec",
   "metadata": {},
   "outputs": [],
   "source": [
    "class Person:\n",
    "  def __init__(self, name, age):\n",
    "    self.name = name\n",
    "    self.age = age\n",
    "\n",
    "p1 = Person(\"John\", 36)\n",
    "\n",
    "print(p1)\n"
   ]
  },
  {
   "cell_type": "markdown",
   "id": "6b20b011-0ec2-4a31-89f2-6a966b75d6ef",
   "metadata": {},
   "source": [
    "# Object Methods\r\n",
    "Objects can also contain methods. Methods in objects are functions that belong to the object.\r\n",
    "\r\n",
    "Let us create a method in the Person class:\n"
   ]
  },
  {
   "cell_type": "code",
   "execution_count": null,
   "id": "493ccc72-ad3c-421c-9f53-29c3fa9d6e39",
   "metadata": {},
   "outputs": [],
   "source": [
    "\n",
    "class Person:\r\n",
    "  def __init__(self, name, age):\r\n",
    "    self.name = name\r\n",
    "    self.age = age\r\n",
    "\r\n",
    "  def myfunc(self):\r\n",
    "    print(\"Hello my name is \" + self.name)\r\n",
    "\r\n",
    "p1 = Person(\"John\", 36)\r\n",
    "p1.myfunc()\n"
   ]
  },
  {
   "cell_type": "markdown",
   "id": "3945a5fc-c498-475a-a590-088b9872ea29",
   "metadata": {},
   "source": [
    "# The self Parameter\r\n",
    "The self parameter is a reference to the current instance of the class, and is used to access variables that belong to the class.\r\n",
    "\r\n",
    "It does not have to be named self, you can call it whatever you like, but it has to be the first parameter of any function in the class:\n"
   ]
  },
  {
   "cell_type": "code",
   "execution_count": null,
   "id": "8c7432a4-c6de-4cd9-a8f3-56802a804399",
   "metadata": {},
   "outputs": [],
   "source": [
    "class Person:\n",
    "  def __init__(mysillyobject, name, age):\n",
    "    mysillyobject.name = name\n",
    "    mysillyobject.age = age\n",
    "\n",
    "  def myfunc(abc):\n",
    "    print(\"Hello my name is \" + abc.name)\n",
    "\n",
    "p1 = Person(\"John\", 36)\n",
    "p1.myfunc()\n"
   ]
  },
  {
   "cell_type": "markdown",
   "id": "1f5b511f-b764-438b-8879-94bee637cb8d",
   "metadata": {},
   "source": [
    "# Modify Object Properties\n",
    "You can modify properties on objects like this"
   ]
  },
  {
   "cell_type": "code",
   "execution_count": null,
   "id": "aa6b4028-bab5-458a-a3c8-57c0e87d4235",
   "metadata": {},
   "outputs": [],
   "source": [
    "class Person:\n",
    "  def __init__(self, name, age):\n",
    "    self.name = name\n",
    "    self.age = age\n",
    "\n",
    "  def myfunc(self):\n",
    "    print(\"Hello my name is \" + self.name)\n",
    "\n",
    "p1 = Person(\"John\", 36)\n",
    "\n",
    "p1.age = 40\n",
    "\n",
    "print(p1.age)"
   ]
  },
  {
   "cell_type": "markdown",
   "id": "ba3f2fe0-ea5d-4e4d-9477-c02cbeab479c",
   "metadata": {},
   "source": [
    "# Delete Object Properties\r\n",
    "You can delete properties on objects by using the del keyword:is"
   ]
  },
  {
   "cell_type": "code",
   "execution_count": null,
   "id": "9a61247d-1125-4134-9b52-e9d37b8f0d49",
   "metadata": {},
   "outputs": [],
   "source": [
    "class Person:\n",
    "  def __init__(self, name, age):\n",
    "    self.name = name\n",
    "    self.age = age\n",
    "\n",
    "  def myfunc(self):\n",
    "    print(\"Hello my name is \" + self.name)\n",
    "\n",
    "p1 = Person(\"John\", 36)\n",
    "\n",
    "del p1\n",
    "\n",
    "print(p1)\n"
   ]
  },
  {
   "cell_type": "markdown",
   "id": "3f65141b-963e-4360-b251-e038d5c3a7bc",
   "metadata": {},
   "source": [
    "\n",
    "# The pass Statement\n",
    "class definitions cannot be empty, but if you for some reason have a class definition with no content, put in the pass statement to avoid getting an error."
   ]
  },
  {
   "cell_type": "code",
   "execution_count": 1,
   "id": "8ee5e4f5-eac3-4c35-a4a7-5a7c7d06c02b",
   "metadata": {},
   "outputs": [],
   "source": [
    "class Person:\n",
    "  pass\n"
   ]
  },
  {
   "cell_type": "markdown",
   "id": "6a3dba32-12ac-4647-8b19-cffca62baa37",
   "metadata": {},
   "source": [
    "# Interview Questions\n",
    "1. What is the difference between a class and an object in Python?\n",
    "\n",
    "2. What is the purpose of the __init__ method in a class?\n",
    "\n",
    "3. What is the self keyword in Python? Explain its purpose.\n",
    "\n",
    "4. How do you create an object from a class in Python?\n",
    "\n",
    "5. Can you explain the concept of class attributes vs instance attributes?\n",
    "\n",
    "6. What is the role of the constructor (__init__) in object creation?\n",
    "\n"
   ]
  },
  {
   "cell_type": "markdown",
   "id": "e480be22-b57d-443e-9d15-48c842c8540d",
   "metadata": {},
   "source": [
    "\n"
   ]
  },
  {
   "cell_type": "markdown",
   "id": "b69ed7ea-1940-434d-bb2d-601d07994783",
   "metadata": {},
   "source": [
    "<div style=\"background-color: pink; color: #fff; padding: 30px; text-align: center;\">\n",
    "    <h1>END\n",
    "        <!--- Devashish Kumar | Tech Skills Trainer | CodroidHub Private Limited | AI/ML Consultant --->\n",
    "</h1> </div>\n",
    "______\n",
    "<!--- Devashish Kumar | Tech Skills Trainer | CodroidHub Private Limited | AI/ML Consultant --->\n",
    "    </h1> </div>"
   ]
  },
  {
   "cell_type": "markdown",
   "id": "13e86481-eae2-4019-9515-66a43a30f0fb",
   "metadata": {},
   "source": [
    "<div style=\"background-color: #002147; color: #fff; padding: 30px; text-align: center;\">\n",
    "    <h1>THANK YOU!\n",
    "        <!--- Devashish Kumar | Tech Skills Trainer | CodroidHub Private Limited | AI/ML Consultant --->\n",
    "</h1> </div>"
   ]
  },
  {
   "cell_type": "markdown",
   "id": "15cc27b3-58d0-431e-8121-f1b4c08377c7",
   "metadata": {},
   "source": [
    "<!--- Devashish Kumar | Tech Skills Trainer | CodroidHub Private Limited | AI/ML Consultant --->"
   ]
  },
  {
   "cell_type": "code",
   "execution_count": null,
   "id": "4b3db7c3-7371-43cb-8555-fe00d1e392e4",
   "metadata": {},
   "outputs": [],
   "source": []
  }
 ],
 "metadata": {
  "kernelspec": {
   "display_name": "Python 3 (ipykernel)",
   "language": "python",
   "name": "python3"
  },
  "language_info": {
   "codemirror_mode": {
    "name": "ipython",
    "version": 3
   },
   "file_extension": ".py",
   "mimetype": "text/x-python",
   "name": "python",
   "nbconvert_exporter": "python",
   "pygments_lexer": "ipython3",
   "version": "3.12.4"
  }
 },
 "nbformat": 4,
 "nbformat_minor": 5
}
